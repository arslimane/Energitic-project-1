{
 "cells": [
  {
   "cell_type": "code",
   "execution_count": 1,
   "metadata": {
    "colab": {
     "base_uri": "https://localhost:8080/"
    },
    "id": "zIV102oSgLlX",
    "outputId": "1b23280a-9706-4ea1-e289-4bb736dd2d53"
   },
   "outputs": [],
   "source": [
    "#!pip install tensorflow\n",
    "import pandas as pd\n",
    "import tensorflow as tf\n",
    "import numpy as np\n",
    "import os\n",
    "import scipy.io\n",
    "import h5py\n",
    "import tensorflow as tf\n",
    "from tensorflow import keras\n",
    "from tensorflow.keras.layers import Dense, LSTM\n",
    "from tensorflow.keras.models import Sequential\n",
    "from sklearn.model_selection import train_test_split\n",
    "from tensorflow.keras.preprocessing.sequence import TimeseriesGenerator\n",
    "from tensorflow.keras.layers import Flatten\n",
    "from tensorflow.keras.optimizers import Adam\n",
    "import tensorflow.keras.backend as K\n",
    "import pickle\n",
    "import matplotlib.pyplot as plt\n",
    "from scipy.interpolate import interp1d\n",
    "from IPython.display import clear_output\n",
    "from scipy.signal import savgol_filter\n",
    "import gc"
   ]
  },
  {
   "cell_type": "markdown",
   "metadata": {
    "id": "knvFucQ6Y_1y"
   },
   "source": [
    "**Loading the data and creating pickle file using only one batch**\n"
   ]
  },
  {
   "cell_type": "code",
   "execution_count": 2,
   "metadata": {
    "id": "oPgwXTZ2HSv5"
   },
   "outputs": [],
   "source": [
    "def load_data(file_name,pickle_name,bn):\n",
    "  f = h5py.File(file_name,\"r\")\n",
    "  print(list(f.keys()))\n",
    "  batch=f.get(\"batch\")\n",
    "  num_cells = batch['summary'].shape[0]\n",
    "  bat_dict = {}\n",
    "  for i in range(num_cells):\n",
    "    cl = f[batch['cycle_life'][i,0]][()] #ici on a remplacé \".value\" par \"[()]\", et dans toutes les lignes suivantes\n",
    "    policy = f[batch['policy_readable'][i,0]][()].tobytes()[::2].decode()\n",
    "    summary_IR = np.hstack(f[batch['summary'][i,0]]['IR'][0,:].tolist())\n",
    "    summary_QC = np.hstack(f[batch['summary'][i,0]]['QCharge'][0,:].tolist())\n",
    "    summary_QD = np.hstack(f[batch['summary'][i,0]]['QDischarge'][0,:].tolist())\n",
    "    summary_TA = np.hstack(f[batch['summary'][i,0]]['Tavg'][0,:].tolist())\n",
    "    summary_TM = np.hstack(f[batch['summary'][i,0]]['Tmin'][0,:].tolist())\n",
    "    summary_TX = np.hstack(f[batch['summary'][i,0]]['Tmax'][0,:].tolist())\n",
    "    summary_CT = np.hstack(f[batch['summary'][i,0]]['chargetime'][0,:].tolist())\n",
    "    summary_CY = np.hstack(f[batch['summary'][i,0]]['cycle'][0,:].tolist())\n",
    "    summary = ({'IR': summary_IR, #création d'un 1er dict avec les données \"résumées\", càd 1 donnée par cycle\n",
    "               'QC': summary_QC, \n",
    "               'QD': summary_QD, \n",
    "               'Tavg': summary_TA, \n",
    "               'Tmin': summary_TM, \n",
    "               'Tmax': summary_TX, \n",
    "               'chargetime': summary_CT,\n",
    "               'cycle': summary_CY}) \n",
    "    cycles = f[batch['cycles'][i,0]]\n",
    "    cycle_dict = {}\n",
    "    for j in range(cycles['I'].shape[0]):\n",
    "        I = np.hstack((f[cycles['I'][j,0]][()]))\n",
    "        Qc = np.hstack((f[cycles['Qc'][j,0]][()]))\n",
    "        Qd = np.hstack((f[cycles['Qd'][j,0]][()]))\n",
    "        Qdlin = np.hstack((f[cycles['Qdlin'][j,0]][()]))\n",
    "        T = np.hstack((f[cycles['T'][j,0]][()]))\n",
    "        Tdlin = np.hstack((f[cycles['Tdlin'][j,0]][()]))\n",
    "        V = np.hstack((f[cycles['V'][j,0]][()]))\n",
    "        dQdV = np.hstack((f[cycles['discharge_dQdV'][j,0]][()]))\n",
    "        t = np.hstack((f[cycles['t'][j,0]][()]))\n",
    "        cd = ({'I': I,  \n",
    "               'Qc': Qc, \n",
    "               'Qd': Qd, \n",
    "               'Qdlin': Qdlin, \n",
    "               'T': T, \n",
    "               'Tdlin': Tdlin, \n",
    "               'V':V, \n",
    "               'dQdV': dQdV, \n",
    "               't':t})\n",
    "        cycle_dict[str(j)] = cd\n",
    "        \n",
    "    cell_dict = ({'cycle_life': cl, \n",
    "                 'charge_policy':policy, \n",
    "                  'summary': summary, \n",
    "                  'cycles': cycle_dict})\n",
    "    key = \"b\"+bn+\"c\" + str(i)\n",
    "    bat_dict[key]=   cell_dict\n",
    "\n",
    "\n",
    "  df=pd.DataFrame(bat_dict)\n",
    "\n",
    "  with open(pickle_name,'wb') as fp:\n",
    "        pickle.dump(bat_dict,fp) \n",
    "  return df"
   ]
  },
  {
   "cell_type": "code",
   "execution_count": 3,
   "metadata": {},
   "outputs": [],
   "source": [
    "path_to_file=\"C:\\\\Users\\\\sarbaoui01\\\\Downloads\\\\\""
   ]
  },
  {
   "cell_type": "code",
   "execution_count": 4,
   "metadata": {},
   "outputs": [
    {
     "name": "stdout",
     "output_type": "stream",
     "text": [
      "['#refs#', '#subsystem#', 'batch', 'batch_date']\n",
      "['#refs#', '#subsystem#', 'batch', 'batch_date']\n",
      "['#refs#', '#subsystem#', 'batch', 'batch_date']\n"
     ]
    }
   ],
   "source": [
    "b1=load_data(path_to_file+\"2017-05-12_batchdata_updated_struct_errorcorrect.mat\",\"batch1.pkl\",\"1\")\n",
    "b2=load_data(path_to_file+\"2017-06-30_batchdata_updated_struct_errorcorrect.mat\",\"batch2.pkl\",\"2\")\n",
    "b3=load_data(path_to_file+\"2018-04-12_batchdata_updated_struct_errorcorrect.mat\",\"batch3.pkl\",\"3\")"
   ]
  },
  {
   "cell_type": "code",
   "execution_count": 5,
   "metadata": {
    "id": "6y7Vf9jIO5qA"
   },
   "outputs": [],
   "source": [
    "batch1 = pickle.load(open(r'batch1.pkl', 'rb'))"
   ]
  },
  {
   "cell_type": "code",
   "execution_count": 6,
   "metadata": {
    "colab": {
     "base_uri": "https://localhost:8080/"
    },
    "id": "dTUpC6V7Pcmd",
    "outputId": "a6cc501a-26a4-4095-df49-7e7a3cd22cec"
   },
   "outputs": [
    {
     "data": {
      "text/plain": [
       "46"
      ]
     },
     "execution_count": 6,
     "metadata": {},
     "output_type": "execute_result"
    }
   ],
   "source": [
    "numBat1 = len(batch1.keys())\n",
    "numBat1"
   ]
  },
  {
   "cell_type": "code",
   "execution_count": 7,
   "metadata": {
    "id": "vVy3QUyILqeb"
   },
   "outputs": [],
   "source": [
    "batch2 = pickle.load(open(r'batch2.pkl','rb'))\n",
    "numBat2 = len(batch2.keys())"
   ]
  },
  {
   "cell_type": "code",
   "execution_count": 8,
   "metadata": {
    "id": "bSUM3i_9L_5z"
   },
   "outputs": [
    {
     "data": {
      "text/plain": [
       "140"
      ]
     },
     "execution_count": 8,
     "metadata": {},
     "output_type": "execute_result"
    }
   ],
   "source": [
    "batch3 = pickle.load(open(r'batch3.pkl','rb'))\n",
    "numBat3 = len(batch3.keys())\n",
    "numBat = numBat1 + numBat2 + numBat3\n",
    "numBat"
   ]
  },
  {
   "cell_type": "code",
   "execution_count": 9,
   "metadata": {
    "id": "vHqNGqK1QKoH"
   },
   "outputs": [],
   "source": [
    "bat_dict = {**batch1, **batch2, **batch3}"
   ]
  },
  {
   "cell_type": "code",
   "execution_count": 10,
   "metadata": {
    "id": "keYqrGoIQiI-"
   },
   "outputs": [],
   "source": [
    "bat_dict_keys = bat_dict.keys()"
   ]
  },
  {
   "cell_type": "code",
   "execution_count": 11,
   "metadata": {
    "id": "ZJcPCJzLUX2B",
    "scrolled": true
   },
   "outputs": [
    {
     "data": {
      "text/plain": [
       "dict_keys(['b1c0', 'b1c1', 'b1c2', 'b1c3', 'b1c4', 'b1c5', 'b1c6', 'b1c7', 'b1c8', 'b1c9', 'b1c10', 'b1c11', 'b1c12', 'b1c13', 'b1c14', 'b1c15', 'b1c16', 'b1c17', 'b1c18', 'b1c19', 'b1c20', 'b1c21', 'b1c22', 'b1c23', 'b1c24', 'b1c25', 'b1c26', 'b1c27', 'b1c28', 'b1c29', 'b1c30', 'b1c31', 'b1c32', 'b1c33', 'b1c34', 'b1c35', 'b1c36', 'b1c37', 'b1c38', 'b1c39', 'b1c40', 'b1c41', 'b1c42', 'b1c43', 'b1c44', 'b1c45', 'b2c0', 'b2c1', 'b2c2', 'b2c3', 'b2c4', 'b2c5', 'b2c6', 'b2c7', 'b2c8', 'b2c9', 'b2c10', 'b2c11', 'b2c12', 'b2c13', 'b2c14', 'b2c15', 'b2c16', 'b2c17', 'b2c18', 'b2c19', 'b2c20', 'b2c21', 'b2c22', 'b2c23', 'b2c24', 'b2c25', 'b2c26', 'b2c27', 'b2c28', 'b2c29', 'b2c30', 'b2c31', 'b2c32', 'b2c33', 'b2c34', 'b2c35', 'b2c36', 'b2c37', 'b2c38', 'b2c39', 'b2c40', 'b2c41', 'b2c42', 'b2c43', 'b2c44', 'b2c45', 'b2c46', 'b2c47', 'b3c0', 'b3c1', 'b3c2', 'b3c3', 'b3c4', 'b3c5', 'b3c6', 'b3c7', 'b3c8', 'b3c9', 'b3c10', 'b3c11', 'b3c12', 'b3c13', 'b3c14', 'b3c15', 'b3c16', 'b3c17', 'b3c18', 'b3c19', 'b3c20', 'b3c21', 'b3c22', 'b3c23', 'b3c24', 'b3c25', 'b3c26', 'b3c27', 'b3c28', 'b3c29', 'b3c30', 'b3c31', 'b3c32', 'b3c33', 'b3c34', 'b3c35', 'b3c36', 'b3c37', 'b3c38', 'b3c39', 'b3c40', 'b3c41', 'b3c42', 'b3c43', 'b3c44', 'b3c45'])"
      ]
     },
     "execution_count": 11,
     "metadata": {},
     "output_type": "execute_result"
    }
   ],
   "source": [
    "bat_dict_keys"
   ]
  },
  {
   "cell_type": "code",
   "execution_count": 12,
   "metadata": {},
   "outputs": [
    {
     "name": "stdout",
     "output_type": "stream",
     "text": [
      "cell: b3c45\n",
      "all cycles from batches 1, 2 and 3 were browsed\n"
     ]
    }
   ],
   "source": [
    "Ic=[]\n",
    "Vc=[]\n",
    "Tc=[]\n",
    "Id=[]\n",
    "Vd=[]\n",
    "Td=[]\n",
    "SOH=[]\n",
    "qd=[]\n",
    "charge_policy=[]\n",
    "ce=[]\n",
    "for i in bat_dict_keys:\n",
    "    clear_output(wait=True)\n",
    "    print('cell:', i)\n",
    "    cell=bat_dict[i]\n",
    "    num_cycle=len(cell['summary']['cycle'])\n",
    "    for j in range(1,num_cycle):\n",
    "        start_discharge = np.where(cell['cycles'][str(j)]['I'] < -0.05) \n",
    "        start_discharge = start_discharge[0][0]\n",
    "        \n",
    "        end_discharge = np.where(cell['cycles'][str(j)]['I'] < -3.9) \n",
    "        end_discharge = end_discharge[0][-1]\n",
    "        \n",
    "        start_charge = np.where(cell['cycles'][str(j)]['I'] > 0)\n",
    "        end_charge = start_charge[0][-1]\n",
    "        start_charge = start_charge[0][0]\n",
    "        \n",
    "        Id.append(cell['cycles'][str(j)]['I'][start_discharge:end_discharge])\n",
    "        Vd.append(cell['cycles'][str(j)]['V'][start_discharge:end_discharge])\n",
    "        Td.append(cell['cycles'][str(j)]['T'][start_discharge:end_discharge])\n",
    "        \n",
    "        Ic.append(cell['cycles'][str(j)]['I'][start_charge:end_charge])\n",
    "        Vc.append(cell['cycles'][str(j)]['V'][start_charge:end_charge])\n",
    "        Tc.append(cell['cycles'][str(j)]['T'][start_charge:end_charge])\n",
    "        charge_policy.append(cell['charge_policy'])  \n",
    "        \n",
    "        QC = cell['summary']['QC'][j]\n",
    "        QD = cell['summary']['QD'][j]\n",
    "        qd.append(QD)\n",
    "        initial_Qd=cell['summary']['QD'][1]\n",
    "        SOH.append((QD)/initial_Qd)\n",
    "        dict_key = \"{}_cycle_{}\".format(i,j)\n",
    "        ce.append(dict_key)\n",
    "print('all cycles from batches 1, 2 and 3 were browsed')"
   ]
  },
  {
   "cell_type": "code",
   "execution_count": 13,
   "metadata": {
    "id": "J2Hkz-FeuKhW"
   },
   "outputs": [],
   "source": [
    "df=pd.DataFrame({\"Ic\":Ic,\"Id\":Id,\"Vc\":Vc,\"Vd\":Vd,\"Tc\":Tc,\"Td\":Td,\"charge_policy\":charge_policy,\"SOH\":SOH,\"QD\":qd})"
   ]
  },
  {
   "cell_type": "code",
   "execution_count": 14,
   "metadata": {},
   "outputs": [],
   "source": [
    "df.index=ce"
   ]
  },
  {
   "cell_type": "code",
   "execution_count": 15,
   "metadata": {
    "scrolled": true
   },
   "outputs": [
    {
     "data": {
      "text/plain": [
       "Index(['b1c0_cycle_1', 'b1c0_cycle_2', 'b1c0_cycle_3', 'b1c0_cycle_4',\n",
       "       'b1c0_cycle_5', 'b1c0_cycle_6', 'b1c0_cycle_7', 'b1c0_cycle_8',\n",
       "       'b1c0_cycle_9', 'b1c0_cycle_10',\n",
       "       ...\n",
       "       'b3c45_cycle_1790', 'b3c45_cycle_1791', 'b3c45_cycle_1792',\n",
       "       'b3c45_cycle_1793', 'b3c45_cycle_1794', 'b3c45_cycle_1795',\n",
       "       'b3c45_cycle_1796', 'b3c45_cycle_1797', 'b3c45_cycle_1798',\n",
       "       'b3c45_cycle_1799'],\n",
       "      dtype='object', length=114598)"
      ]
     },
     "execution_count": 15,
     "metadata": {},
     "output_type": "execute_result"
    }
   ],
   "source": [
    "df.index"
   ]
  },
  {
   "cell_type": "code",
   "execution_count": 16,
   "metadata": {
    "id": "p63lKDTzjoDq"
   },
   "outputs": [],
   "source": [
    "cycle_dataset_df=df.T"
   ]
  },
  {
   "cell_type": "code",
   "execution_count": 17,
   "metadata": {},
   "outputs": [
    {
     "data": {
      "text/html": [
       "<div>\n",
       "<style scoped>\n",
       "    .dataframe tbody tr th:only-of-type {\n",
       "        vertical-align: middle;\n",
       "    }\n",
       "\n",
       "    .dataframe tbody tr th {\n",
       "        vertical-align: top;\n",
       "    }\n",
       "\n",
       "    .dataframe thead th {\n",
       "        text-align: right;\n",
       "    }\n",
       "</style>\n",
       "<table border=\"1\" class=\"dataframe\">\n",
       "  <thead>\n",
       "    <tr style=\"text-align: right;\">\n",
       "      <th></th>\n",
       "      <th>b1c0_cycle_1</th>\n",
       "      <th>b1c0_cycle_2</th>\n",
       "      <th>b1c0_cycle_3</th>\n",
       "      <th>b1c0_cycle_4</th>\n",
       "      <th>b1c0_cycle_5</th>\n",
       "      <th>b1c0_cycle_6</th>\n",
       "      <th>b1c0_cycle_7</th>\n",
       "      <th>b1c0_cycle_8</th>\n",
       "      <th>b1c0_cycle_9</th>\n",
       "      <th>b1c0_cycle_10</th>\n",
       "      <th>...</th>\n",
       "      <th>b3c45_cycle_1790</th>\n",
       "      <th>b3c45_cycle_1791</th>\n",
       "      <th>b3c45_cycle_1792</th>\n",
       "      <th>b3c45_cycle_1793</th>\n",
       "      <th>b3c45_cycle_1794</th>\n",
       "      <th>b3c45_cycle_1795</th>\n",
       "      <th>b3c45_cycle_1796</th>\n",
       "      <th>b3c45_cycle_1797</th>\n",
       "      <th>b3c45_cycle_1798</th>\n",
       "      <th>b3c45_cycle_1799</th>\n",
       "    </tr>\n",
       "  </thead>\n",
       "  <tbody>\n",
       "    <tr>\n",
       "      <th>Ic</th>\n",
       "      <td>[0.21590752727272727, 0.3598308545454545, 0.46...</td>\n",
       "      <td>[0.2159846909090909, 0.39595430909090906, 0.50...</td>\n",
       "      <td>[0.2157774818181818, 0.3601186909090909, 0.467...</td>\n",
       "      <td>[0.2160713909090909, 0.3960115272727272, 0.503...</td>\n",
       "      <td>[0.1790098727272727, 0.3598473272727272, 0.467...</td>\n",
       "      <td>[0.21544282727272726, 0.39582339090909086, 0.5...</td>\n",
       "      <td>[0.2521670909090909, 0.2521670909090909, 0.396...</td>\n",
       "      <td>[0.21557027272727272, 0.35979184545454546, 0.4...</td>\n",
       "      <td>[0.25210380909090907, 0.3961762545454545, 0.50...</td>\n",
       "      <td>[0.21597601818181816, 0.35988720909090904, 0.4...</td>\n",
       "      <td>...</td>\n",
       "      <td>[0.2591427909090909, 0.4782624636363636, 0.610...</td>\n",
       "      <td>[0.25803999090909086, 0.47933058181818183, 0.6...</td>\n",
       "      <td>[0.3046209181818182, 0.5235672, 0.655663227272...</td>\n",
       "      <td>[0.2888835545454545, 0.4791190363636363, 0.652...</td>\n",
       "      <td>[0.2603739, 0.47970858181818177, 0.61140233636...</td>\n",
       "      <td>[0.2578388545454545, 0.4775515454545454, 0.610...</td>\n",
       "      <td>[0.2599854909090909, 0.478637, 0.6105561727272...</td>\n",
       "      <td>[0.2594687727272727, 0.47793648181818177, 0.61...</td>\n",
       "      <td>[0.2554217272727272, 0.4325623909090909, 0.609...</td>\n",
       "      <td>[0.30231129090909087, 0.4792230818181818, 0.61...</td>\n",
       "    </tr>\n",
       "    <tr>\n",
       "      <th>Id</th>\n",
       "      <td>[-0.4396299909090909, -0.9200061818181817, -1....</td>\n",
       "      <td>[-0.47995740909090906, -0.9198812727272726, -1...</td>\n",
       "      <td>[-0.43969760909090905, -0.8797272727272727, -1...</td>\n",
       "      <td>[-0.4392181727272727, -0.8797489545454545, -1....</td>\n",
       "      <td>[-0.43972101818181814, -0.8798659909090909, -1...</td>\n",
       "      <td>[-0.4397565636363636, -0.8799440181818181, -1....</td>\n",
       "      <td>[-0.43959270909090903, -0.8798512545454545, -1...</td>\n",
       "      <td>[-0.43989528181818177, -0.880028118181818, -1....</td>\n",
       "      <td>[-0.43977477272727267, -0.8799657, -1.31997454...</td>\n",
       "      <td>[-0.4397513636363636, -0.8803142181818181, -1....</td>\n",
       "      <td>...</td>\n",
       "      <td>[-0.520148709090909, -0.9602433636363635, -1.4...</td>\n",
       "      <td>[-0.4801134636363636, -0.9203009090909091, -1....</td>\n",
       "      <td>[-0.5199727181818182, -1.0001200000000001, -1....</td>\n",
       "      <td>[-0.47992099090909085, -0.9201795454545455, -1...</td>\n",
       "      <td>[-0.5202102636363636, -0.9602876363636363, -1....</td>\n",
       "      <td>[-0.4798811090909091, -0.920118, -1.3602724545...</td>\n",
       "      <td>[-0.5202423454545454, -1.0003419090909091, -1....</td>\n",
       "      <td>[-0.5199779181818182, -0.9603144545454544, -1....</td>\n",
       "      <td>[-0.48005103636363633, -0.9201023636363636, -1...</td>\n",
       "      <td>[-0.5200256, -0.9603977272727271, -1.400503636...</td>\n",
       "    </tr>\n",
       "    <tr>\n",
       "      <th>Vc</th>\n",
       "      <td>[2.0393877, 2.0516596, 2.0630703, 2.0762043, 2...</td>\n",
       "      <td>[2.0391855, 2.0548534, 2.0668211, 2.0807114, 2...</td>\n",
       "      <td>[2.0385513, 2.0506926, 2.0621805, 2.0754042, 2...</td>\n",
       "      <td>[2.0373793, 2.0533218, 2.0652456, 2.0790644, 2...</td>\n",
       "      <td>[2.0344467, 2.0489826, 2.0605507, 2.0737877, 2...</td>\n",
       "      <td>[2.0364246, 2.0522099, 2.0687084, 2.0882788, 2...</td>\n",
       "      <td>[2.0385637, 2.0385637, 2.0516796, 2.0636549, 2...</td>\n",
       "      <td>[2.0349016, 2.0470409, 2.058507, 2.0716991, 2....</td>\n",
       "      <td>[2.0380116, 2.0511627, 2.0629072, 2.0767393, 2...</td>\n",
       "      <td>[2.0347881, 2.0465183, 2.0576687, 2.0708761, 2...</td>\n",
       "      <td>...</td>\n",
       "      <td>[2.08922, 2.1044312, 2.1160011, 2.1340656, 2.1...</td>\n",
       "      <td>[2.091445, 2.1071653, 2.1234684, 2.1376791, 2....</td>\n",
       "      <td>[2.0903997, 2.1070662, 2.1193724, 2.1385527, 2...</td>\n",
       "      <td>[2.0900068, 2.1031818, 2.1190882, 2.1331654, 2...</td>\n",
       "      <td>[2.0919342, 2.1075048, 2.1191025, 2.1326303, 2...</td>\n",
       "      <td>[2.0948563, 2.1100092, 2.1218052, 2.1350965, 2...</td>\n",
       "      <td>[2.0842285, 2.0998735, 2.1117344, 2.1302576, 2...</td>\n",
       "      <td>[2.0886335, 2.1039343, 2.1157856, 2.1292858, 2...</td>\n",
       "      <td>[2.0888691, 2.1011848, 2.1166267, 2.130477, 2....</td>\n",
       "      <td>[2.0901213, 2.1028252, 2.1146011, 2.1327438, 2...</td>\n",
       "    </tr>\n",
       "    <tr>\n",
       "      <th>Vd</th>\n",
       "      <td>[3.5895634, 3.5780163, 3.5678596, 3.5562344, 3...</td>\n",
       "      <td>[3.5884333, 3.5781403, 3.5669737, 3.5551004, 3...</td>\n",
       "      <td>[3.5896502, 3.5794258, 3.5683632, 3.5577755, 3...</td>\n",
       "      <td>[3.5896254, 3.5792551, 3.5691471, 3.5587091, 3...</td>\n",
       "      <td>[3.5896807, 3.579483, 3.5694427, 3.5589142, 3....</td>\n",
       "      <td>[3.5899172, 3.5795116, 3.569437, 3.5589123, 3....</td>\n",
       "      <td>[3.5899277, 3.5795259, 3.5685921, 3.5685921, 3...</td>\n",
       "      <td>[3.5898705, 3.5795279, 3.5684547, 3.5579338, 3...</td>\n",
       "      <td>[3.5897007, 3.579236, 3.5682898, 3.5577946, 3....</td>\n",
       "      <td>[3.5900459, 3.5797577, 3.5696821, 3.5592508, 3...</td>\n",
       "      <td>...</td>\n",
       "      <td>[3.5860176, 3.5754061, 3.5650187, 3.5546217, 3...</td>\n",
       "      <td>[3.5863752, 3.5760031, 3.5651941, 3.5547962, 3...</td>\n",
       "      <td>[3.5859013, 3.5747995, 3.5640574, 3.5539446, 3...</td>\n",
       "      <td>[3.5865746, 3.5763226, 3.5654764, 3.5552101, 3...</td>\n",
       "      <td>[3.5860538, 3.5759926, 3.5654135, 3.5552731, 3...</td>\n",
       "      <td>[3.5866194, 3.5764904, 3.5656023, 3.5551357, 3...</td>\n",
       "      <td>[3.5859852, 3.5749092, 3.563962, 3.5535164, 3....</td>\n",
       "      <td>[3.5861654, 3.5759335, 3.56493, 3.5545998, 3.5...</td>\n",
       "      <td>[3.5872183, 3.577033, 3.5660057, 3.5555534, 3....</td>\n",
       "      <td>[3.5866251, 3.5764065, 3.5657244, 3.555336, 3....</td>\n",
       "    </tr>\n",
       "    <tr>\n",
       "      <th>Tc</th>\n",
       "      <td>[31.632496, 31.632496, 31.632496, 31.632496, 3...</td>\n",
       "      <td>[31.642683, 31.642683, 31.642683, 31.642683, 3...</td>\n",
       "      <td>[31.618505, 31.618505, 31.618505, 31.618505, 3...</td>\n",
       "      <td>[31.814196, 31.814196, 31.814196, 31.814196, 3...</td>\n",
       "      <td>[31.717243, 31.717243, 31.717243, 31.717243, 3...</td>\n",
       "      <td>[31.782085, 31.782085, 31.782085, 31.782085, 3...</td>\n",
       "      <td>[31.689234, 31.690983, 31.690983, 31.690983, 3...</td>\n",
       "      <td>[31.742548, 31.742548, 31.742548, 31.742548, 3...</td>\n",
       "      <td>[31.859566, 31.859566, 31.859566, 31.859566, 3...</td>\n",
       "      <td>[31.76309, 31.76309, 31.76309, 31.76309, 31.76...</td>\n",
       "      <td>...</td>\n",
       "      <td>[34.280523572946464, 34.28010238782183, 34.279...</td>\n",
       "      <td>[33.14821653889613, 33.14754177235194, 33.1468...</td>\n",
       "      <td>[32.70271245866429, 32.70159221962151, 32.7008...</td>\n",
       "      <td>[34.03348248695652, 34.032914991304345, 34.032...</td>\n",
       "      <td>[32.46788202837981, 32.46756460957866, 32.4673...</td>\n",
       "      <td>[34.555432606726335, 34.55582969907784, 34.556...</td>\n",
       "      <td>[31.620354294561555, 31.619811574231527, 31.61...</td>\n",
       "      <td>[33.99753668179203, 33.99755672046856, 33.9975...</td>\n",
       "      <td>[32.40957192369549, 32.409422612986646, 32.409...</td>\n",
       "      <td>[33.73802749650025, 33.73738159286902, 33.7369...</td>\n",
       "    </tr>\n",
       "    <tr>\n",
       "      <th>Td</th>\n",
       "      <td>[29.585907, 29.585907, 29.585907, 29.585907, 2...</td>\n",
       "      <td>[29.645998, 29.645998, 29.645998, 29.645998, 2...</td>\n",
       "      <td>[29.788857, 29.788857, 29.788857, 29.788857, 2...</td>\n",
       "      <td>[29.644709, 29.644709, 29.644709, 29.644709, 2...</td>\n",
       "      <td>[29.752932, 29.752932, 29.752932, 29.752932, 2...</td>\n",
       "      <td>[29.642483, 29.642483, 29.642483, 29.642483, 2...</td>\n",
       "      <td>[29.645044, 29.645044, 29.645044, 29.670431, 2...</td>\n",
       "      <td>[29.687721, 29.687721, 29.687721, 29.687721, 2...</td>\n",
       "      <td>[29.739122, 29.739122, 29.739122, 29.739122, 2...</td>\n",
       "      <td>[29.589361, 29.589361, 29.589361, 29.589361, 2...</td>\n",
       "      <td>...</td>\n",
       "      <td>[31.67076338306189, 31.66970942661532, 31.6687...</td>\n",
       "      <td>[29.589349637320044, 29.586988855280378, 29.58...</td>\n",
       "      <td>[31.408274, 31.408189615982774, 31.40811035390...</td>\n",
       "      <td>[30.3887911724368, 30.388392339461785, 30.3879...</td>\n",
       "      <td>[31.61880803381975, 31.619536739544483, 31.620...</td>\n",
       "      <td>[30.384062641758735, 30.38553950641983, 30.386...</td>\n",
       "      <td>[29.871031794322374, 29.871406434208318, 29.87...</td>\n",
       "      <td>[31.501493731597943, 31.500652753071567, 31.49...</td>\n",
       "      <td>[29.603275561010268, 29.601922805903875, 29.60...</td>\n",
       "      <td>[31.964214010220566, 31.963555055352625, 31.96...</td>\n",
       "    </tr>\n",
       "    <tr>\n",
       "      <th>charge_policy</th>\n",
       "      <td>3.6C(80%)-3.6C</td>\n",
       "      <td>3.6C(80%)-3.6C</td>\n",
       "      <td>3.6C(80%)-3.6C</td>\n",
       "      <td>3.6C(80%)-3.6C</td>\n",
       "      <td>3.6C(80%)-3.6C</td>\n",
       "      <td>3.6C(80%)-3.6C</td>\n",
       "      <td>3.6C(80%)-3.6C</td>\n",
       "      <td>3.6C(80%)-3.6C</td>\n",
       "      <td>3.6C(80%)-3.6C</td>\n",
       "      <td>3.6C(80%)-3.6C</td>\n",
       "      <td>...</td>\n",
       "      <td>4.8C(80%)-4.8C-newstructure</td>\n",
       "      <td>4.8C(80%)-4.8C-newstructure</td>\n",
       "      <td>4.8C(80%)-4.8C-newstructure</td>\n",
       "      <td>4.8C(80%)-4.8C-newstructure</td>\n",
       "      <td>4.8C(80%)-4.8C-newstructure</td>\n",
       "      <td>4.8C(80%)-4.8C-newstructure</td>\n",
       "      <td>4.8C(80%)-4.8C-newstructure</td>\n",
       "      <td>4.8C(80%)-4.8C-newstructure</td>\n",
       "      <td>4.8C(80%)-4.8C-newstructure</td>\n",
       "      <td>4.8C(80%)-4.8C-newstructure</td>\n",
       "    </tr>\n",
       "    <tr>\n",
       "      <th>SOH</th>\n",
       "      <td>1.0</td>\n",
       "      <td>1.001131</td>\n",
       "      <td>1.0017</td>\n",
       "      <td>1.002321</td>\n",
       "      <td>1.002696</td>\n",
       "      <td>1.003084</td>\n",
       "      <td>1.003442</td>\n",
       "      <td>1.003552</td>\n",
       "      <td>1.003594</td>\n",
       "      <td>1.003822</td>\n",
       "      <td>...</td>\n",
       "      <td>0.826259</td>\n",
       "      <td>0.825575</td>\n",
       "      <td>0.825552</td>\n",
       "      <td>0.824841</td>\n",
       "      <td>0.82478</td>\n",
       "      <td>0.824216</td>\n",
       "      <td>0.824124</td>\n",
       "      <td>0.823603</td>\n",
       "      <td>0.823485</td>\n",
       "      <td>0.823219</td>\n",
       "    </tr>\n",
       "    <tr>\n",
       "      <th>QD</th>\n",
       "      <td>1.070689</td>\n",
       "      <td>1.0719</td>\n",
       "      <td>1.07251</td>\n",
       "      <td>1.073174</td>\n",
       "      <td>1.073576</td>\n",
       "      <td>1.073992</td>\n",
       "      <td>1.074374</td>\n",
       "      <td>1.074492</td>\n",
       "      <td>1.074537</td>\n",
       "      <td>1.074781</td>\n",
       "      <td>...</td>\n",
       "      <td>0.883724</td>\n",
       "      <td>0.882992</td>\n",
       "      <td>0.882968</td>\n",
       "      <td>0.882207</td>\n",
       "      <td>0.882142</td>\n",
       "      <td>0.881539</td>\n",
       "      <td>0.881441</td>\n",
       "      <td>0.880883</td>\n",
       "      <td>0.880757</td>\n",
       "      <td>0.880473</td>\n",
       "    </tr>\n",
       "  </tbody>\n",
       "</table>\n",
       "<p>9 rows × 114598 columns</p>\n",
       "</div>"
      ],
      "text/plain": [
       "                                                    b1c0_cycle_1  \\\n",
       "Ic             [0.21590752727272727, 0.3598308545454545, 0.46...   \n",
       "Id             [-0.4396299909090909, -0.9200061818181817, -1....   \n",
       "Vc             [2.0393877, 2.0516596, 2.0630703, 2.0762043, 2...   \n",
       "Vd             [3.5895634, 3.5780163, 3.5678596, 3.5562344, 3...   \n",
       "Tc             [31.632496, 31.632496, 31.632496, 31.632496, 3...   \n",
       "Td             [29.585907, 29.585907, 29.585907, 29.585907, 2...   \n",
       "charge_policy                                     3.6C(80%)-3.6C   \n",
       "SOH                                                          1.0   \n",
       "QD                                                      1.070689   \n",
       "\n",
       "                                                    b1c0_cycle_2  \\\n",
       "Ic             [0.2159846909090909, 0.39595430909090906, 0.50...   \n",
       "Id             [-0.47995740909090906, -0.9198812727272726, -1...   \n",
       "Vc             [2.0391855, 2.0548534, 2.0668211, 2.0807114, 2...   \n",
       "Vd             [3.5884333, 3.5781403, 3.5669737, 3.5551004, 3...   \n",
       "Tc             [31.642683, 31.642683, 31.642683, 31.642683, 3...   \n",
       "Td             [29.645998, 29.645998, 29.645998, 29.645998, 2...   \n",
       "charge_policy                                     3.6C(80%)-3.6C   \n",
       "SOH                                                     1.001131   \n",
       "QD                                                        1.0719   \n",
       "\n",
       "                                                    b1c0_cycle_3  \\\n",
       "Ic             [0.2157774818181818, 0.3601186909090909, 0.467...   \n",
       "Id             [-0.43969760909090905, -0.8797272727272727, -1...   \n",
       "Vc             [2.0385513, 2.0506926, 2.0621805, 2.0754042, 2...   \n",
       "Vd             [3.5896502, 3.5794258, 3.5683632, 3.5577755, 3...   \n",
       "Tc             [31.618505, 31.618505, 31.618505, 31.618505, 3...   \n",
       "Td             [29.788857, 29.788857, 29.788857, 29.788857, 2...   \n",
       "charge_policy                                     3.6C(80%)-3.6C   \n",
       "SOH                                                       1.0017   \n",
       "QD                                                       1.07251   \n",
       "\n",
       "                                                    b1c0_cycle_4  \\\n",
       "Ic             [0.2160713909090909, 0.3960115272727272, 0.503...   \n",
       "Id             [-0.4392181727272727, -0.8797489545454545, -1....   \n",
       "Vc             [2.0373793, 2.0533218, 2.0652456, 2.0790644, 2...   \n",
       "Vd             [3.5896254, 3.5792551, 3.5691471, 3.5587091, 3...   \n",
       "Tc             [31.814196, 31.814196, 31.814196, 31.814196, 3...   \n",
       "Td             [29.644709, 29.644709, 29.644709, 29.644709, 2...   \n",
       "charge_policy                                     3.6C(80%)-3.6C   \n",
       "SOH                                                     1.002321   \n",
       "QD                                                      1.073174   \n",
       "\n",
       "                                                    b1c0_cycle_5  \\\n",
       "Ic             [0.1790098727272727, 0.3598473272727272, 0.467...   \n",
       "Id             [-0.43972101818181814, -0.8798659909090909, -1...   \n",
       "Vc             [2.0344467, 2.0489826, 2.0605507, 2.0737877, 2...   \n",
       "Vd             [3.5896807, 3.579483, 3.5694427, 3.5589142, 3....   \n",
       "Tc             [31.717243, 31.717243, 31.717243, 31.717243, 3...   \n",
       "Td             [29.752932, 29.752932, 29.752932, 29.752932, 2...   \n",
       "charge_policy                                     3.6C(80%)-3.6C   \n",
       "SOH                                                     1.002696   \n",
       "QD                                                      1.073576   \n",
       "\n",
       "                                                    b1c0_cycle_6  \\\n",
       "Ic             [0.21544282727272726, 0.39582339090909086, 0.5...   \n",
       "Id             [-0.4397565636363636, -0.8799440181818181, -1....   \n",
       "Vc             [2.0364246, 2.0522099, 2.0687084, 2.0882788, 2...   \n",
       "Vd             [3.5899172, 3.5795116, 3.569437, 3.5589123, 3....   \n",
       "Tc             [31.782085, 31.782085, 31.782085, 31.782085, 3...   \n",
       "Td             [29.642483, 29.642483, 29.642483, 29.642483, 2...   \n",
       "charge_policy                                     3.6C(80%)-3.6C   \n",
       "SOH                                                     1.003084   \n",
       "QD                                                      1.073992   \n",
       "\n",
       "                                                    b1c0_cycle_7  \\\n",
       "Ic             [0.2521670909090909, 0.2521670909090909, 0.396...   \n",
       "Id             [-0.43959270909090903, -0.8798512545454545, -1...   \n",
       "Vc             [2.0385637, 2.0385637, 2.0516796, 2.0636549, 2...   \n",
       "Vd             [3.5899277, 3.5795259, 3.5685921, 3.5685921, 3...   \n",
       "Tc             [31.689234, 31.690983, 31.690983, 31.690983, 3...   \n",
       "Td             [29.645044, 29.645044, 29.645044, 29.670431, 2...   \n",
       "charge_policy                                     3.6C(80%)-3.6C   \n",
       "SOH                                                     1.003442   \n",
       "QD                                                      1.074374   \n",
       "\n",
       "                                                    b1c0_cycle_8  \\\n",
       "Ic             [0.21557027272727272, 0.35979184545454546, 0.4...   \n",
       "Id             [-0.43989528181818177, -0.880028118181818, -1....   \n",
       "Vc             [2.0349016, 2.0470409, 2.058507, 2.0716991, 2....   \n",
       "Vd             [3.5898705, 3.5795279, 3.5684547, 3.5579338, 3...   \n",
       "Tc             [31.742548, 31.742548, 31.742548, 31.742548, 3...   \n",
       "Td             [29.687721, 29.687721, 29.687721, 29.687721, 2...   \n",
       "charge_policy                                     3.6C(80%)-3.6C   \n",
       "SOH                                                     1.003552   \n",
       "QD                                                      1.074492   \n",
       "\n",
       "                                                    b1c0_cycle_9  \\\n",
       "Ic             [0.25210380909090907, 0.3961762545454545, 0.50...   \n",
       "Id             [-0.43977477272727267, -0.8799657, -1.31997454...   \n",
       "Vc             [2.0380116, 2.0511627, 2.0629072, 2.0767393, 2...   \n",
       "Vd             [3.5897007, 3.579236, 3.5682898, 3.5577946, 3....   \n",
       "Tc             [31.859566, 31.859566, 31.859566, 31.859566, 3...   \n",
       "Td             [29.739122, 29.739122, 29.739122, 29.739122, 2...   \n",
       "charge_policy                                     3.6C(80%)-3.6C   \n",
       "SOH                                                     1.003594   \n",
       "QD                                                      1.074537   \n",
       "\n",
       "                                                   b1c0_cycle_10  ...  \\\n",
       "Ic             [0.21597601818181816, 0.35988720909090904, 0.4...  ...   \n",
       "Id             [-0.4397513636363636, -0.8803142181818181, -1....  ...   \n",
       "Vc             [2.0347881, 2.0465183, 2.0576687, 2.0708761, 2...  ...   \n",
       "Vd             [3.5900459, 3.5797577, 3.5696821, 3.5592508, 3...  ...   \n",
       "Tc             [31.76309, 31.76309, 31.76309, 31.76309, 31.76...  ...   \n",
       "Td             [29.589361, 29.589361, 29.589361, 29.589361, 2...  ...   \n",
       "charge_policy                                     3.6C(80%)-3.6C  ...   \n",
       "SOH                                                     1.003822  ...   \n",
       "QD                                                      1.074781  ...   \n",
       "\n",
       "                                                b3c45_cycle_1790  \\\n",
       "Ic             [0.2591427909090909, 0.4782624636363636, 0.610...   \n",
       "Id             [-0.520148709090909, -0.9602433636363635, -1.4...   \n",
       "Vc             [2.08922, 2.1044312, 2.1160011, 2.1340656, 2.1...   \n",
       "Vd             [3.5860176, 3.5754061, 3.5650187, 3.5546217, 3...   \n",
       "Tc             [34.280523572946464, 34.28010238782183, 34.279...   \n",
       "Td             [31.67076338306189, 31.66970942661532, 31.6687...   \n",
       "charge_policy                        4.8C(80%)-4.8C-newstructure   \n",
       "SOH                                                     0.826259   \n",
       "QD                                                      0.883724   \n",
       "\n",
       "                                                b3c45_cycle_1791  \\\n",
       "Ic             [0.25803999090909086, 0.47933058181818183, 0.6...   \n",
       "Id             [-0.4801134636363636, -0.9203009090909091, -1....   \n",
       "Vc             [2.091445, 2.1071653, 2.1234684, 2.1376791, 2....   \n",
       "Vd             [3.5863752, 3.5760031, 3.5651941, 3.5547962, 3...   \n",
       "Tc             [33.14821653889613, 33.14754177235194, 33.1468...   \n",
       "Td             [29.589349637320044, 29.586988855280378, 29.58...   \n",
       "charge_policy                        4.8C(80%)-4.8C-newstructure   \n",
       "SOH                                                     0.825575   \n",
       "QD                                                      0.882992   \n",
       "\n",
       "                                                b3c45_cycle_1792  \\\n",
       "Ic             [0.3046209181818182, 0.5235672, 0.655663227272...   \n",
       "Id             [-0.5199727181818182, -1.0001200000000001, -1....   \n",
       "Vc             [2.0903997, 2.1070662, 2.1193724, 2.1385527, 2...   \n",
       "Vd             [3.5859013, 3.5747995, 3.5640574, 3.5539446, 3...   \n",
       "Tc             [32.70271245866429, 32.70159221962151, 32.7008...   \n",
       "Td             [31.408274, 31.408189615982774, 31.40811035390...   \n",
       "charge_policy                        4.8C(80%)-4.8C-newstructure   \n",
       "SOH                                                     0.825552   \n",
       "QD                                                      0.882968   \n",
       "\n",
       "                                                b3c45_cycle_1793  \\\n",
       "Ic             [0.2888835545454545, 0.4791190363636363, 0.652...   \n",
       "Id             [-0.47992099090909085, -0.9201795454545455, -1...   \n",
       "Vc             [2.0900068, 2.1031818, 2.1190882, 2.1331654, 2...   \n",
       "Vd             [3.5865746, 3.5763226, 3.5654764, 3.5552101, 3...   \n",
       "Tc             [34.03348248695652, 34.032914991304345, 34.032...   \n",
       "Td             [30.3887911724368, 30.388392339461785, 30.3879...   \n",
       "charge_policy                        4.8C(80%)-4.8C-newstructure   \n",
       "SOH                                                     0.824841   \n",
       "QD                                                      0.882207   \n",
       "\n",
       "                                                b3c45_cycle_1794  \\\n",
       "Ic             [0.2603739, 0.47970858181818177, 0.61140233636...   \n",
       "Id             [-0.5202102636363636, -0.9602876363636363, -1....   \n",
       "Vc             [2.0919342, 2.1075048, 2.1191025, 2.1326303, 2...   \n",
       "Vd             [3.5860538, 3.5759926, 3.5654135, 3.5552731, 3...   \n",
       "Tc             [32.46788202837981, 32.46756460957866, 32.4673...   \n",
       "Td             [31.61880803381975, 31.619536739544483, 31.620...   \n",
       "charge_policy                        4.8C(80%)-4.8C-newstructure   \n",
       "SOH                                                      0.82478   \n",
       "QD                                                      0.882142   \n",
       "\n",
       "                                                b3c45_cycle_1795  \\\n",
       "Ic             [0.2578388545454545, 0.4775515454545454, 0.610...   \n",
       "Id             [-0.4798811090909091, -0.920118, -1.3602724545...   \n",
       "Vc             [2.0948563, 2.1100092, 2.1218052, 2.1350965, 2...   \n",
       "Vd             [3.5866194, 3.5764904, 3.5656023, 3.5551357, 3...   \n",
       "Tc             [34.555432606726335, 34.55582969907784, 34.556...   \n",
       "Td             [30.384062641758735, 30.38553950641983, 30.386...   \n",
       "charge_policy                        4.8C(80%)-4.8C-newstructure   \n",
       "SOH                                                     0.824216   \n",
       "QD                                                      0.881539   \n",
       "\n",
       "                                                b3c45_cycle_1796  \\\n",
       "Ic             [0.2599854909090909, 0.478637, 0.6105561727272...   \n",
       "Id             [-0.5202423454545454, -1.0003419090909091, -1....   \n",
       "Vc             [2.0842285, 2.0998735, 2.1117344, 2.1302576, 2...   \n",
       "Vd             [3.5859852, 3.5749092, 3.563962, 3.5535164, 3....   \n",
       "Tc             [31.620354294561555, 31.619811574231527, 31.61...   \n",
       "Td             [29.871031794322374, 29.871406434208318, 29.87...   \n",
       "charge_policy                        4.8C(80%)-4.8C-newstructure   \n",
       "SOH                                                     0.824124   \n",
       "QD                                                      0.881441   \n",
       "\n",
       "                                                b3c45_cycle_1797  \\\n",
       "Ic             [0.2594687727272727, 0.47793648181818177, 0.61...   \n",
       "Id             [-0.5199779181818182, -0.9603144545454544, -1....   \n",
       "Vc             [2.0886335, 2.1039343, 2.1157856, 2.1292858, 2...   \n",
       "Vd             [3.5861654, 3.5759335, 3.56493, 3.5545998, 3.5...   \n",
       "Tc             [33.99753668179203, 33.99755672046856, 33.9975...   \n",
       "Td             [31.501493731597943, 31.500652753071567, 31.49...   \n",
       "charge_policy                        4.8C(80%)-4.8C-newstructure   \n",
       "SOH                                                     0.823603   \n",
       "QD                                                      0.880883   \n",
       "\n",
       "                                                b3c45_cycle_1798  \\\n",
       "Ic             [0.2554217272727272, 0.4325623909090909, 0.609...   \n",
       "Id             [-0.48005103636363633, -0.9201023636363636, -1...   \n",
       "Vc             [2.0888691, 2.1011848, 2.1166267, 2.130477, 2....   \n",
       "Vd             [3.5872183, 3.577033, 3.5660057, 3.5555534, 3....   \n",
       "Tc             [32.40957192369549, 32.409422612986646, 32.409...   \n",
       "Td             [29.603275561010268, 29.601922805903875, 29.60...   \n",
       "charge_policy                        4.8C(80%)-4.8C-newstructure   \n",
       "SOH                                                     0.823485   \n",
       "QD                                                      0.880757   \n",
       "\n",
       "                                                b3c45_cycle_1799  \n",
       "Ic             [0.30231129090909087, 0.4792230818181818, 0.61...  \n",
       "Id             [-0.5200256, -0.9603977272727271, -1.400503636...  \n",
       "Vc             [2.0901213, 2.1028252, 2.1146011, 2.1327438, 2...  \n",
       "Vd             [3.5866251, 3.5764065, 3.5657244, 3.555336, 3....  \n",
       "Tc             [33.73802749650025, 33.73738159286902, 33.7369...  \n",
       "Td             [31.964214010220566, 31.963555055352625, 31.96...  \n",
       "charge_policy                        4.8C(80%)-4.8C-newstructure  \n",
       "SOH                                                     0.823219  \n",
       "QD                                                      0.880473  \n",
       "\n",
       "[9 rows x 114598 columns]"
      ]
     },
     "execution_count": 17,
     "metadata": {},
     "output_type": "execute_result"
    }
   ],
   "source": [
    "cycle_dataset_df"
   ]
  },
  {
   "cell_type": "code",
   "execution_count": 18,
   "metadata": {},
   "outputs": [],
   "source": [
    "cycle_dataset_df=cycle_dataset_df.T"
   ]
  },
  {
   "cell_type": "code",
   "execution_count": 19,
   "metadata": {},
   "outputs": [],
   "source": [
    "cycle_dataset_df=cycle_dataset_df.T"
   ]
  },
  {
   "cell_type": "markdown",
   "metadata": {
    "id": "9TZ28_9UaBIe"
   },
   "source": [
    "**splitting the data by cell**"
   ]
  },
  {
   "cell_type": "code",
   "execution_count": 20,
   "metadata": {
    "id": "ZsFpDn383oUJ"
   },
   "outputs": [],
   "source": [
    "cells=[]\n",
    "k=[\"1\",\"2\",\"3\"]\n",
    "for j in k:\n",
    "    for i in range(48):\n",
    "      filter_col=[]\n",
    "      data=[]\n",
    "      filter_col = [col for col in cycle_dataset_df if col.startswith(\"b\"+j+\"c\"+str(i)+\"_cycle\")]\n",
    "      data=cycle_dataset_df[filter_col].T\n",
    "      data=data.reset_index(drop=True)\n",
    "      if (len(data)>0):\n",
    "            cells.append(data)"
   ]
  },
  {
   "cell_type": "code",
   "execution_count": 21,
   "metadata": {},
   "outputs": [
    {
     "data": {
      "text/plain": [
       "140"
      ]
     },
     "execution_count": 21,
     "metadata": {},
     "output_type": "execute_result"
    }
   ],
   "source": [
    "len(cells)"
   ]
  },
  {
   "cell_type": "code",
   "execution_count": 22,
   "metadata": {},
   "outputs": [
    {
     "data": {
      "text/plain": [
       "<AxesSubplot:>"
      ]
     },
     "execution_count": 22,
     "metadata": {},
     "output_type": "execute_result"
    },
    {
     "data": {
      "image/png": "[encoded data removed]",
      "text/plain": [
       "<Figure size 640x480 with 1 Axes>"
      ]
     },
     "metadata": {},
     "output_type": "display_data"
    }
   ],
   "source": [
    "cells[0][\"SOH\"].plot()"
   ]
  },
  {
   "cell_type": "code",
   "execution_count": 23,
   "metadata": {},
   "outputs": [],
   "source": [
    "#smoothing the curv"
   ]
  },
  {
   "cell_type": "code",
   "execution_count": 24,
   "metadata": {},
   "outputs": [],
   "source": [
    "for i in range(len(cells)):\n",
    "    cells[i][\"SOH\"]=savgol_filter(cells[i][\"SOH\"] , 90, 2)"
   ]
  },
  {
   "cell_type": "code",
   "execution_count": 25,
   "metadata": {
    "scrolled": true
   },
   "outputs": [
    {
     "name": "stderr",
     "output_type": "stream",
     "text": [
      "C:\\Users\\sarbaoui01\\Anaconda3\\lib\\site-packages\\numpy\\lib\\npyio.py:528: VisibleDeprecationWarning: Creating an ndarray from ragged nested sequences (which is a list-or-tuple of lists-or-tuples-or ndarrays with different lengths or shapes) is deprecated. If you meant to do this, you must specify 'dtype=object' when creating the ndarray.\n",
      "  arr = np.asanyarray(arr)\n"
     ]
    }
   ],
   "source": [
    "np.save(\"celles\",cells)"
   ]
  },
  {
   "cell_type": "code",
   "execution_count": 26,
   "metadata": {
    "id": "1hMleIecKGtx"
   },
   "outputs": [],
   "source": [
    "train_size=int(0.6*len(cells))\n",
    "train_data=cells[0:train_size]\n",
    "test_data=cells[train_size:len(cells)]"
   ]
  },
  {
   "cell_type": "code",
   "execution_count": 27,
   "metadata": {},
   "outputs": [],
   "source": [
    "np.save(\"test_data\",test_data)\n"
   ]
  },
  {
   "cell_type": "markdown",
   "metadata": {
    "id": "wBpwcodEZtEf"
   },
   "source": [
    "\n",
    "**Normalization of the data (min max )**"
   ]
  },
  {
   "cell_type": "code",
   "execution_count": 28,
   "metadata": {
    "id": "30jTTZtX3oUH"
   },
   "outputs": [],
   "source": [
    "cycle_dataset_df=train_data\n",
    "minic=min(cycle_dataset_df[0][\"Ic\"][0])\n",
    "maxic=max(cycle_dataset_df[0][\"Ic\"][0])\n",
    "minid=min(cycle_dataset_df[0][\"Id\"][0])\n",
    "maxid=max(cycle_dataset_df[0][\"Id\"][0])\n",
    "minvc=min(cycle_dataset_df[0][\"Vc\"][0])\n",
    "maxvc=max(cycle_dataset_df[0][\"Vc\"][0])\n",
    "minvd=min(cycle_dataset_df[0][\"Vd\"][0])\n",
    "maxvd=max(cycle_dataset_df[0][\"Vd\"][0])\n",
    "mintc=min(cycle_dataset_df[0][\"Tc\"][0])\n",
    "maxtc=max(cycle_dataset_df[0][\"Tc\"][0])\n",
    "mintd=min(cycle_dataset_df[0][\"Td\"][0])\n",
    "maxtd=max(cycle_dataset_df[0][\"Td\"][0])\n",
    "\n",
    "for i in range(len(cycle_dataset_df)):\n",
    "    for j in range(len(train_data[i])):\n",
    "        if(min(cycle_dataset_df[i][\"Ic\"][j])<minic):\n",
    "            minic=min(cycle_dataset_df[i][\"Ic\"][j])\n",
    "        if(min(cycle_dataset_df[i][\"Id\"][j])<minid):\n",
    "            minid=min(cycle_dataset_df[i][\"Id\"][j])\n",
    "\n",
    "        if(max(cycle_dataset_df[i][\"Ic\"][j])>maxic):\n",
    "            maxic=max(cycle_dataset_df[i][\"Ic\"][j])\n",
    "        if(min(cycle_dataset_df[i][\"Id\"][j])>maxid):\n",
    "            maxid=max(cycle_dataset_df[i][\"Id\"][j])\n",
    "\n",
    "\n",
    "        if(min(cycle_dataset_df[i][\"Vc\"][j])<minvc):\n",
    "            minvc=min(cycle_dataset_df[i][\"Vc\"][j])\n",
    "        if(min(cycle_dataset_df[i][\"Vd\"][j])<minvd):\n",
    "            minvd=min(cycle_dataset_df[i][\"Vd\"][j])\n",
    "        if(max(cycle_dataset_df[i][\"Vc\"][j])>maxvc):\n",
    "            maxvc=max(cycle_dataset_df[i][\"Vc\"][j])\n",
    "        if(min(cycle_dataset_df[i][\"Vd\"][j])>maxvd):\n",
    "            maxvd=max(cycle_dataset_df[i][\"Vd\"][j])\n",
    "\n",
    "\n",
    "        if(min(cycle_dataset_df[i][\"Tc\"][j])<mintc):\n",
    "            mintc=min(cycle_dataset_df[i][\"Tc\"][j])\n",
    "        if(min(cycle_dataset_df[i][\"Td\"][j])<mintd):\n",
    "            mintd=min(cycle_dataset_df[i][\"Td\"][j])\n",
    "        if(max(cycle_dataset_df[i][\"Tc\"][j])>maxtc):\n",
    "            maxtc=max(cycle_dataset_df[i][\"Tc\"][j])\n",
    "        if(min(cycle_dataset_df[i][\"Td\"][j])>maxtd):\n",
    "            maxtd=max(cycle_dataset_df[i][\"Td\"][j])"
   ]
  },
  {
   "cell_type": "code",
   "execution_count": 29,
   "metadata": {
    "id": "o6YM4Fhu3oUI"
   },
   "outputs": [
    {
     "name": "stderr",
     "output_type": "stream",
     "text": [
      "C:\\Users\\sarbaoui01\\AppData\\Local\\Temp\\ipykernel_2860\\2710646435.py:3: SettingWithCopyWarning: \n",
      "A value is trying to be set on a copy of a slice from a DataFrame\n",
      "\n",
      "See the caveats in the documentation: https://pandas.pydata.org/pandas-docs/stable/user_guide/indexing.html#returning-a-view-versus-a-copy\n",
      "  cycle_dataset_df[i][\"Ic\"][j]=(cycle_dataset_df[i][\"Ic\"][j]-minic)/(maxic-minic)\n",
      "C:\\Users\\sarbaoui01\\AppData\\Local\\Temp\\ipykernel_2860\\2710646435.py:4: SettingWithCopyWarning: \n",
      "A value is trying to be set on a copy of a slice from a DataFrame\n",
      "\n",
      "See the caveats in the documentation: https://pandas.pydata.org/pandas-docs/stable/user_guide/indexing.html#returning-a-view-versus-a-copy\n",
      "  cycle_dataset_df[i][\"Id\"][j]=(cycle_dataset_df[i][\"Id\"][j]-minid)/(maxid-minid)\n",
      "C:\\Users\\sarbaoui01\\AppData\\Local\\Temp\\ipykernel_2860\\2710646435.py:6: SettingWithCopyWarning: \n",
      "A value is trying to be set on a copy of a slice from a DataFrame\n",
      "\n",
      "See the caveats in the documentation: https://pandas.pydata.org/pandas-docs/stable/user_guide/indexing.html#returning-a-view-versus-a-copy\n",
      "  cycle_dataset_df[i][\"Vc\"][j]=(cycle_dataset_df[i][\"Vc\"][j]-minvc)/(maxvc-minvc)\n",
      "C:\\Users\\sarbaoui01\\AppData\\Local\\Temp\\ipykernel_2860\\2710646435.py:7: SettingWithCopyWarning: \n",
      "A value is trying to be set on a copy of a slice from a DataFrame\n",
      "\n",
      "See the caveats in the documentation: https://pandas.pydata.org/pandas-docs/stable/user_guide/indexing.html#returning-a-view-versus-a-copy\n",
      "  cycle_dataset_df[i][\"Vd\"][j]=(cycle_dataset_df[i][\"Vd\"][j]-minvd)/(maxvd-minvd)\n",
      "C:\\Users\\sarbaoui01\\AppData\\Local\\Temp\\ipykernel_2860\\2710646435.py:9: SettingWithCopyWarning: \n",
      "A value is trying to be set on a copy of a slice from a DataFrame\n",
      "\n",
      "See the caveats in the documentation: https://pandas.pydata.org/pandas-docs/stable/user_guide/indexing.html#returning-a-view-versus-a-copy\n",
      "  cycle_dataset_df[i][\"Tc\"][j]=(cycle_dataset_df[i][\"Tc\"][j]-mintc)/(maxtc-mintc)\n",
      "C:\\Users\\sarbaoui01\\AppData\\Local\\Temp\\ipykernel_2860\\2710646435.py:10: SettingWithCopyWarning: \n",
      "A value is trying to be set on a copy of a slice from a DataFrame\n",
      "\n",
      "See the caveats in the documentation: https://pandas.pydata.org/pandas-docs/stable/user_guide/indexing.html#returning-a-view-versus-a-copy\n",
      "  cycle_dataset_df[i][\"Td\"][j]=(cycle_dataset_df[i][\"Td\"][j]-mintd)/(maxtd-mintd)\n"
     ]
    }
   ],
   "source": [
    "for i in range(len(cycle_dataset_df)):\n",
    "    for j in range(len(cycle_dataset_df[i])):\n",
    "        cycle_dataset_df[i][\"Ic\"][j]=(cycle_dataset_df[i][\"Ic\"][j]-minic)/(maxic-minic)\n",
    "        cycle_dataset_df[i][\"Id\"][j]=(cycle_dataset_df[i][\"Id\"][j]-minid)/(maxid-minid)\n",
    "\n",
    "        cycle_dataset_df[i][\"Vc\"][j]=(cycle_dataset_df[i][\"Vc\"][j]-minvc)/(maxvc-minvc)\n",
    "        cycle_dataset_df[i][\"Vd\"][j]=(cycle_dataset_df[i][\"Vd\"][j]-minvd)/(maxvd-minvd)\n",
    "\n",
    "        cycle_dataset_df[i][\"Tc\"][j]=(cycle_dataset_df[i][\"Tc\"][j]-mintc)/(maxtc-mintc)\n",
    "        cycle_dataset_df[i][\"Td\"][j]=(cycle_dataset_df[i][\"Td\"][j]-mintd)/(maxtd-mintd)\n",
    "    "
   ]
  },
  {
   "cell_type": "code",
   "execution_count": 30,
   "metadata": {
    "id": "BT4OT3it3oUI",
    "outputId": "021b34e2-dfb8-4092-f06a-a2deb7aa42a9",
    "scrolled": true
   },
   "outputs": [],
   "source": [
    "train_data=cycle_dataset_df"
   ]
  },
  {
   "cell_type": "code",
   "execution_count": 31,
   "metadata": {},
   "outputs": [
    {
     "name": "stderr",
     "output_type": "stream",
     "text": [
      "C:\\Users\\sarbaoui01\\AppData\\Local\\Temp\\ipykernel_2860\\2892442028.py:4: SettingWithCopyWarning: \n",
      "A value is trying to be set on a copy of a slice from a DataFrame\n",
      "\n",
      "See the caveats in the documentation: https://pandas.pydata.org/pandas-docs/stable/user_guide/indexing.html#returning-a-view-versus-a-copy\n",
      "  cycle_dataset_df[i][\"Ic\"][j]=(cycle_dataset_df[i][\"Ic\"][j]-minic)/(maxic-minic)\n",
      "C:\\Users\\sarbaoui01\\AppData\\Local\\Temp\\ipykernel_2860\\2892442028.py:5: SettingWithCopyWarning: \n",
      "A value is trying to be set on a copy of a slice from a DataFrame\n",
      "\n",
      "See the caveats in the documentation: https://pandas.pydata.org/pandas-docs/stable/user_guide/indexing.html#returning-a-view-versus-a-copy\n",
      "  cycle_dataset_df[i][\"Id\"][j]=(cycle_dataset_df[i][\"Id\"][j]-minid)/(maxid-minid)\n",
      "C:\\Users\\sarbaoui01\\AppData\\Local\\Temp\\ipykernel_2860\\2892442028.py:7: SettingWithCopyWarning: \n",
      "A value is trying to be set on a copy of a slice from a DataFrame\n",
      "\n",
      "See the caveats in the documentation: https://pandas.pydata.org/pandas-docs/stable/user_guide/indexing.html#returning-a-view-versus-a-copy\n",
      "  cycle_dataset_df[i][\"Vc\"][j]=(cycle_dataset_df[i][\"Vc\"][j]-minvc)/(maxvc-minvc)\n",
      "C:\\Users\\sarbaoui01\\AppData\\Local\\Temp\\ipykernel_2860\\2892442028.py:8: SettingWithCopyWarning: \n",
      "A value is trying to be set on a copy of a slice from a DataFrame\n",
      "\n",
      "See the caveats in the documentation: https://pandas.pydata.org/pandas-docs/stable/user_guide/indexing.html#returning-a-view-versus-a-copy\n",
      "  cycle_dataset_df[i][\"Vd\"][j]=(cycle_dataset_df[i][\"Vd\"][j]-minvd)/(maxvd-minvd)\n",
      "C:\\Users\\sarbaoui01\\AppData\\Local\\Temp\\ipykernel_2860\\2892442028.py:10: SettingWithCopyWarning: \n",
      "A value is trying to be set on a copy of a slice from a DataFrame\n",
      "\n",
      "See the caveats in the documentation: https://pandas.pydata.org/pandas-docs/stable/user_guide/indexing.html#returning-a-view-versus-a-copy\n",
      "  cycle_dataset_df[i][\"Tc\"][j]=(cycle_dataset_df[i][\"Tc\"][j]-mintc)/(maxtc-mintc)\n",
      "C:\\Users\\sarbaoui01\\AppData\\Local\\Temp\\ipykernel_2860\\2892442028.py:11: SettingWithCopyWarning: \n",
      "A value is trying to be set on a copy of a slice from a DataFrame\n",
      "\n",
      "See the caveats in the documentation: https://pandas.pydata.org/pandas-docs/stable/user_guide/indexing.html#returning-a-view-versus-a-copy\n",
      "  cycle_dataset_df[i][\"Td\"][j]=(cycle_dataset_df[i][\"Td\"][j]-mintd)/(maxtd-mintd)\n"
     ]
    }
   ],
   "source": [
    "cycle_dataset_df=test_data\n",
    "for i in range(len(cycle_dataset_df)):\n",
    "    for j in range(len(cycle_dataset_df[i])):\n",
    "        cycle_dataset_df[i][\"Ic\"][j]=(cycle_dataset_df[i][\"Ic\"][j]-minic)/(maxic-minic)\n",
    "        cycle_dataset_df[i][\"Id\"][j]=(cycle_dataset_df[i][\"Id\"][j]-minid)/(maxid-minid)\n",
    "\n",
    "        cycle_dataset_df[i][\"Vc\"][j]=(cycle_dataset_df[i][\"Vc\"][j]-minvc)/(maxvc-minvc)\n",
    "        cycle_dataset_df[i][\"Vd\"][j]=(cycle_dataset_df[i][\"Vd\"][j]-minvd)/(maxvd-minvd)\n",
    "\n",
    "        cycle_dataset_df[i][\"Tc\"][j]=(cycle_dataset_df[i][\"Tc\"][j]-mintc)/(maxtc-mintc)\n",
    "        cycle_dataset_df[i][\"Td\"][j]=(cycle_dataset_df[i][\"Td\"][j]-mintd)/(maxtd-mintd)"
   ]
  },
  {
   "cell_type": "code",
   "execution_count": 32,
   "metadata": {},
   "outputs": [],
   "source": [
    "test_data=cycle_dataset_df"
   ]
  },
  {
   "cell_type": "code",
   "execution_count": 33,
   "metadata": {},
   "outputs": [],
   "source": [
    "min_max=np.array([minic,maxic,minid,maxid,minvc,maxvc,minvd,maxvd,mintc,maxtc,mintd,maxtd])"
   ]
  },
  {
   "cell_type": "code",
   "execution_count": 34,
   "metadata": {},
   "outputs": [
    {
     "data": {
      "text/plain": [
       "array([-4.00404109,  8.16945509, -4.70815136, -0.43962999,  0.98347139,\n",
       "        6.6061416 ,  1.9960446 ,  3.5895634 , 20.614586  , 42.38578   ,\n",
       "       20.900028  , 39.927498  ])"
      ]
     },
     "execution_count": 34,
     "metadata": {},
     "output_type": "execute_result"
    }
   ],
   "source": [
    "min_max"
   ]
  },
  {
   "cell_type": "code",
   "execution_count": 35,
   "metadata": {},
   "outputs": [],
   "source": [
    "np.save(\"min_max\",min_max)"
   ]
  },
  {
   "cell_type": "code",
   "execution_count": 36,
   "metadata": {},
   "outputs": [],
   "source": [
    "np.save(\"train_data_withnormalization\",train_data)"
   ]
  },
  {
   "cell_type": "code",
   "execution_count": 37,
   "metadata": {},
   "outputs": [],
   "source": [
    "np.save(\"test_data_withnormalization\",test_data)"
   ]
  },
  {
   "cell_type": "markdown",
   "metadata": {
    "id": "2ad-R9AdaMTM"
   },
   "source": [
    "**For each cell we will get The inputs and the outputs for our model **"
   ]
  },
  {
   "cell_type": "code",
   "execution_count": 38,
   "metadata": {
    "id": "UQ994QQTLOET"
   },
   "outputs": [],
   "source": [
    "# split a univariate sequence into samples\n",
    "def split_sequence(X,y,sequence, n_steps_in, n_steps_out):\n",
    " \n",
    "   for i in range(len(sequence)):\n",
    "       # find the end of this pattern\n",
    "       end_ix = i + n_steps_in\n",
    "       out_end_ix = end_ix + n_steps_out\n",
    " # check if we are beyond the sequence\n",
    "       if out_end_ix > len(sequence):\n",
    "              break\n",
    " # gather input and output parts of the pattern\n",
    "       seq_x, seq_y = sequence[i:end_ix], sequence[end_ix:out_end_ix]\n",
    "       X.append(seq_x.drop([\"SOH\",\"charge_policy\"],axis=1).to_numpy())\n",
    "       y.append(seq_y[\"SOH\"].to_numpy())\n",
    "   return X, y"
   ]
  },
  {
   "cell_type": "markdown",
   "metadata": {
    "id": "YDS98hUTaek2"
   },
   "source": [
    "Split the data into train and test"
   ]
  },
  {
   "cell_type": "code",
   "execution_count": 39,
   "metadata": {},
   "outputs": [],
   "source": [
    "def generatedata(traind_data,test_data,input_step,output_step):\n",
    "    X_train=[]\n",
    "    Y_train=[]\n",
    "    X_test=[]\n",
    "    Y_test=[]\n",
    "    for i in range(len(train_data)):\n",
    "      X_train,Y_train=split_sequence(X_train,Y_train,train_data[i],input_step,output_step)\n",
    "    for i in range(len(test_data)):\n",
    "      X_test,Y_test=split_sequence(X_test,Y_test,test_data[i],input_step,output_step)\n",
    "    X1=np.array(X_train)\n",
    "    Y1=np.array(Y_train)\n",
    "    X2=np.array(X_test)\n",
    "    Y2=np.array(Y_test)\n",
    "    t=np.zeros((len(X1),input_step,6,500))\n",
    "    for k in range(len(X1)):\n",
    "        for i in range(input_step):\n",
    "            for x in range(6):\n",
    "                 for j in range(len(X1[k][i][x])):\n",
    "                        if(j>=500):\n",
    "                            break\n",
    "                        else :\n",
    "                                t[k][i][x][j]=X1[k][i][x][j]\n",
    "    X1=t\n",
    "    np.save(\"X1_\"+str(input_step),X1)\n",
    "    del X1\n",
    "    del t\n",
    "    gc.collect()\n",
    "    \n",
    "    t=np.zeros((len(X2),input_step,6,500))\n",
    "    for k in range(len(X2)):\n",
    "        for i in range(input_step):\n",
    "            for x in range(6):\n",
    "                 for j in range(len(X2[k][i][x])):\n",
    "                        if(j>=500):\n",
    "                            break\n",
    "                        else :\n",
    "                                t[k][i][x][j]=X2[k][i][x][j]\n",
    "    X2=t\n",
    "    np.save(\"X2_\"+str(input_step),X2)\n",
    "    del X2\n",
    "    del t\n",
    "    gc.collect()\n",
    "    np.save(\"Y2_\"+str(output_step),Y2)\n",
    "    np.save(\"Y1_\"+str(output_step),Y1)\n",
    "    "
   ]
  },
  {
   "cell_type": "code",
   "execution_count": 40,
   "metadata": {},
   "outputs": [],
   "source": [
    "input_step=10\n",
    "output_step=10\n",
    "generatedata(train_data,test_data,input_step,output_step)"
   ]
  },
  {
   "cell_type": "code",
   "execution_count": 37,
   "metadata": {},
   "outputs": [],
   "source": [
    "input_step=25\n",
    "output_step=25\n",
    "generatedata(train_data,test_data,input_step,output_step)"
   ]
  },
  {
   "cell_type": "code",
   "execution_count": null,
   "metadata": {},
   "outputs": [],
   "source": [
    "input_step=25\n",
    "output_step=50\n",
    "generatedata(train_data,test_data,input_step,output_step)"
   ]
  }
 ],
 "metadata": {
  "accelerator": "GPU",
  "colab": {
   "provenance": []
  },
  "gpuClass": "standard",
  "kernelspec": {
   "display_name": "Python 3 (ipykernel)",
   "language": "python",
   "name": "python3"
  },
  "language_info": {
   "codemirror_mode": {
    "name": "ipython",
    "version": 3
   },
   "file_extension": ".py",
   "mimetype": "text/x-python",
   "name": "python",
   "nbconvert_exporter": "python",
   "pygments_lexer": "ipython3",
   "version": "3.9.13"
  }
 },
 "nbformat": 4,
 "nbformat_minor": 1
}
