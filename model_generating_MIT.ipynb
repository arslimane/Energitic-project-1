{
 "cells": [
  {
   "cell_type": "code",
   "execution_count": 1,
   "id": "0cd52ba8",
   "metadata": {},
   "outputs": [],
   "source": [
    "#!pip install tensorflow\n",
    "import pandas as pd\n",
    "import tensorflow as tf\n",
    "import numpy as np\n",
    "import tensorflow as tf\n",
    "from tensorflow import keras\n",
    "from tensorflow.keras.layers import Dense, LSTM,BatchNormalization,Dropout\n",
    "from tensorflow.keras.models import Sequential\n",
    "from tensorflow.keras.optimizers import Adam\n",
    "import tensorflow.keras.backend as K\n",
    "import pickle\n",
    "import matplotlib.pyplot as plt\n",
    "from tensorflow.keras.regularizers import l2\n",
    "import gc\n",
    "from sklearn.model_selection import KFold\n",
    "from sklearn.metrics import mean_absolute_error,mean_squared_error"
   ]
  },
  {
   "cell_type": "markdown",
   "id": "7f64d883",
   "metadata": {},
   "source": [
    "# Lstm model after using encoder"
   ]
  },
  {
   "cell_type": "code",
   "execution_count": 41,
   "id": "321418fe",
   "metadata": {},
   "outputs": [],
   "source": [
    "input_step=10 #to be changed after to 10,10\n",
    "output_step=10\n",
    "fsize=64"
   ]
  },
  {
   "cell_type": "code",
   "execution_count": 42,
   "id": "93d8538e",
   "metadata": {},
   "outputs": [],
   "source": [
    "X1=np.load(\"X11_\"+str(input_step)+\".npy\")\n",
    "X2=np.load(\"X22_\"+str(input_step)+\".npy\")\n"
   ]
  },
  {
   "cell_type": "code",
   "execution_count": 43,
   "id": "b652ee29",
   "metadata": {},
   "outputs": [
    {
     "data": {
      "text/plain": [
       "(56936, 640)"
      ]
     },
     "execution_count": 43,
     "metadata": {},
     "output_type": "execute_result"
    }
   ],
   "source": [
    "np.shape(X1)"
   ]
  },
  {
   "cell_type": "code",
   "execution_count": 44,
   "id": "a0dfa2b9",
   "metadata": {},
   "outputs": [],
   "source": [
    "Y1=np.load(\"Y1_\"+str(output_step)+\".npy\",allow_pickle=True)\n",
    "Y2=np.load(\"Y2_\"+str(output_step)+\".npy\",allow_pickle=True)"
   ]
  },
  {
   "cell_type": "code",
   "execution_count": 45,
   "id": "a52d0dc7",
   "metadata": {},
   "outputs": [],
   "source": [
    "X1=np.float32(X1)\n",
    "X2=np.float32(X2)\n",
    "Y1=np.float32(Y1)\n",
    "Y2=np.float32(Y2)"
   ]
  },
  {
   "cell_type": "code",
   "execution_count": 46,
   "id": "d9670ed8",
   "metadata": {},
   "outputs": [],
   "source": [
    "X1=np.reshape(X1,(X1.shape[0],input_step,fsize))\n",
    "X2=np.reshape(X2,(X2.shape[0],input_step,fsize))"
   ]
  },
  {
   "cell_type": "code",
   "execution_count": 47,
   "id": "47f83364",
   "metadata": {},
   "outputs": [
    {
     "data": {
      "text/plain": [
       "(56936, 10, 64)"
      ]
     },
     "execution_count": 47,
     "metadata": {},
     "output_type": "execute_result"
    }
   ],
   "source": [
    "X1.shape"
   ]
  },
  {
   "cell_type": "code",
   "execution_count": 48,
   "id": "a05633f4",
   "metadata": {},
   "outputs": [],
   "source": [
    "XT=np.concatenate((X1, X2), axis=0)"
   ]
  },
  {
   "cell_type": "code",
   "execution_count": 49,
   "id": "c1e728c0",
   "metadata": {},
   "outputs": [],
   "source": [
    "YT=np.concatenate((Y1, Y2), axis=0)"
   ]
  },
  {
   "cell_type": "code",
   "execution_count": 50,
   "id": "6d27a703",
   "metadata": {},
   "outputs": [],
   "source": [
    "def createModel(inputShape,output,init):\n",
    "# define model\n",
    "    model = Sequential()\n",
    "    model.add(LSTM(100, activation='relu',input_shape=inputShape,return_sequences=True, kernel_initializer=init))\n",
    "    model.add(LSTM(100,activation='relu', return_sequences=False, kernel_initializer=init))\n",
    "#     model.add(LSTM(64,activation='relu', return_sequences=False))\n",
    "#     model.add(Dense(16, activation='linear'))\n",
    "#     model.add(Dropout(0.3))\n",
    "    model.add(Dense(output,activation=\"sigmoid\", kernel_initializer=init))\n",
    "\n",
    "    opt = keras.optimizers.Adam(learning_rate=0.0001)\n",
    "    model.compile(optimizer=opt,loss='mae',metrics=['mae','mse',tf.keras.metrics.RootMeanSquaredError(),tf.keras.metrics.MeanAbsolutePercentageError()])\n",
    "    # model.compile(optimizer='adam', loss='mean_squared_error',metrics=['mse'])\n",
    "    return model"
   ]
  },
  {
   "cell_type": "code",
   "execution_count": 51,
   "id": "121221a2",
   "metadata": {},
   "outputs": [],
   "source": [
    "init=[tf.keras.initializers.GlorotUniform(),tf.keras.initializers.Zeros(),tf.keras.initializers.RandomNormal,tf.keras.initializers.RandomUniform,tf.keras.initializers.HeNormal]\n"
   ]
  },
  {
   "cell_type": "code",
   "execution_count": 52,
   "id": "b2789834",
   "metadata": {},
   "outputs": [
    {
     "name": "stderr",
     "output_type": "stream",
     "text": [
      "C:\\Users\\sarbaoui01\\Anaconda3\\lib\\site-packages\\keras\\initializers\\initializers_v2.py:120: UserWarning: The initializer GlorotUniform is unseeded and being called multiple times, which will return identical values  each time (even if the initializer is unseeded). Please update your code to provide a seed to the initializer, or avoid using the same initalizer instance more than once.\n",
      "  warnings.warn(\n"
     ]
    }
   ],
   "source": [
    "time_steps = input_step  # Number of time steps\n",
    "feature_length = 64  # Length of each feature vector\n",
    "input_shape = (time_steps, feature_length)\n",
    "\n",
    "model=createModel(input_shape,output_step,init[0])"
   ]
  },
  {
   "cell_type": "code",
   "execution_count": 53,
   "id": "c2d55aa1",
   "metadata": {},
   "outputs": [
    {
     "name": "stdout",
     "output_type": "stream",
     "text": [
      "Model: \"sequential_12\"\n",
      "_________________________________________________________________\n",
      " Layer (type)                Output Shape              Param #   \n",
      "=================================================================\n",
      " lstm_24 (LSTM)              (None, 10, 100)           66000     \n",
      "                                                                 \n",
      " lstm_25 (LSTM)              (None, 100)               80400     \n",
      "                                                                 \n",
      " dense_12 (Dense)            (None, 10)                1010      \n",
      "                                                                 \n",
      "=================================================================\n",
      "Total params: 147,410\n",
      "Trainable params: 147,410\n",
      "Non-trainable params: 0\n",
      "_________________________________________________________________\n"
     ]
    }
   ],
   "source": [
    "model.summary()"
   ]
  },
  {
   "cell_type": "code",
   "execution_count": 36,
   "id": "d2a4aae4",
   "metadata": {},
   "outputs": [],
   "source": [
    "def MAPE(Y_actual,Y_Predicted):\n",
    "    mape = np.mean(np.abs((Y_actual - Y_Predicted)/Y_actual))*100\n",
    "    return mape"
   ]
  },
  {
   "cell_type": "code",
   "execution_count": 19,
   "id": "60a92db8",
   "metadata": {},
   "outputs": [
    {
     "name": "stderr",
     "output_type": "stream",
     "text": [
      "C:\\Users\\sarbaoui01\\Anaconda3\\lib\\site-packages\\keras\\initializers\\initializers_v2.py:120: UserWarning: The initializer GlorotUniform is unseeded and being called multiple times, which will return identical values  each time (even if the initializer is unseeded). Please update your code to provide a seed to the initializer, or avoid using the same initalizer instance more than once.\n",
      "  warnings.warn(\n"
     ]
    },
    {
     "name": "stdout",
     "output_type": "stream",
     "text": [
      "2799/2799 [==============================] - 20s 7ms/step - loss: 0.0233 - mae: 0.0233 - mse: 0.0043 - root_mean_squared_error: 0.0654 - mean_absolute_percentage_error: 2.4851\n",
      "700/700 [==============================] - 2s 2ms/step\n"
     ]
    },
    {
     "name": "stderr",
     "output_type": "stream",
     "text": [
      "C:\\Users\\sarbaoui01\\Anaconda3\\lib\\site-packages\\keras\\initializers\\initializers_v2.py:120: UserWarning: The initializer GlorotUniform is unseeded and being called multiple times, which will return identical values  each time (even if the initializer is unseeded). Please update your code to provide a seed to the initializer, or avoid using the same initalizer instance more than once.\n",
      "  warnings.warn(\n"
     ]
    },
    {
     "name": "stdout",
     "output_type": "stream",
     "text": [
      "2799/2799 [==============================] - 20s 7ms/step - loss: 0.0268 - mae: 0.0268 - mse: 0.0044 - root_mean_squared_error: 0.0660 - mean_absolute_percentage_error: 2.8756\n",
      "700/700 [==============================] - 2s 2ms/step\n"
     ]
    },
    {
     "name": "stderr",
     "output_type": "stream",
     "text": [
      "C:\\Users\\sarbaoui01\\Anaconda3\\lib\\site-packages\\keras\\initializers\\initializers_v2.py:120: UserWarning: The initializer GlorotUniform is unseeded and being called multiple times, which will return identical values  each time (even if the initializer is unseeded). Please update your code to provide a seed to the initializer, or avoid using the same initalizer instance more than once.\n",
      "  warnings.warn(\n"
     ]
    },
    {
     "name": "stdout",
     "output_type": "stream",
     "text": [
      "2799/2799 [==============================] - 21s 7ms/step - loss: 0.0261 - mae: 0.0261 - mse: 0.0051 - root_mean_squared_error: 0.0711 - mean_absolute_percentage_error: 2.7914\n",
      "700/700 [==============================] - 2s 2ms/step\n"
     ]
    },
    {
     "name": "stderr",
     "output_type": "stream",
     "text": [
      "C:\\Users\\sarbaoui01\\Anaconda3\\lib\\site-packages\\keras\\initializers\\initializers_v2.py:120: UserWarning: The initializer GlorotUniform is unseeded and being called multiple times, which will return identical values  each time (even if the initializer is unseeded). Please update your code to provide a seed to the initializer, or avoid using the same initalizer instance more than once.\n",
      "  warnings.warn(\n"
     ]
    },
    {
     "name": "stdout",
     "output_type": "stream",
     "text": [
      "2799/2799 [==============================] - 24s 8ms/step - loss: 0.0272 - mae: 0.0272 - mse: 0.0045 - root_mean_squared_error: 0.0674 - mean_absolute_percentage_error: 2.9169\n",
      "700/700 [==============================] - 2s 3ms/step\n"
     ]
    },
    {
     "name": "stderr",
     "output_type": "stream",
     "text": [
      "C:\\Users\\sarbaoui01\\Anaconda3\\lib\\site-packages\\keras\\initializers\\initializers_v2.py:120: UserWarning: The initializer GlorotUniform is unseeded and being called multiple times, which will return identical values  each time (even if the initializer is unseeded). Please update your code to provide a seed to the initializer, or avoid using the same initalizer instance more than once.\n",
      "  warnings.warn(\n"
     ]
    },
    {
     "name": "stdout",
     "output_type": "stream",
     "text": [
      "2799/2799 [==============================] - 27s 9ms/step - loss: 0.0239 - mae: 0.0239 - mse: 0.0044 - root_mean_squared_error: 0.0664 - mean_absolute_percentage_error: 2.5487\n",
      "700/700 [==============================] - 2s 2ms/step\n",
      "initailizer number 0\n",
      "Validation mae: 0.00789 ± 0.00020\n",
      "Validation mse: 0.00015 ± 0.00001\n",
      "Validation mape: 0.84111 ± 0.02025\n",
      "2799/2799 [==============================] - 26s 9ms/step - loss: 0.4304 - mae: 0.4304 - mse: 0.1876 - root_mean_squared_error: 0.4332 - mean_absolute_percentage_error: 44.4664\n",
      "700/700 [==============================] - 2s 2ms/step\n",
      "2799/2799 [==============================] - 28s 10ms/step - loss: 0.4305 - mae: 0.4305 - mse: 0.1877 - root_mean_squared_error: 0.4333 - mean_absolute_percentage_error: 44.4730\n",
      "700/700 [==============================] - 2s 2ms/step\n",
      "2799/2799 [==============================] - 23s 8ms/step - loss: 0.4306 - mae: 0.4306 - mse: 0.1877 - root_mean_squared_error: 0.4333 - mean_absolute_percentage_error: 44.4765\n",
      "700/700 [==============================] - 2s 2ms/step\n",
      "2799/2799 [==============================] - 28s 10ms/step - loss: 0.4306 - mae: 0.4306 - mse: 0.1877 - root_mean_squared_error: 0.4333 - mean_absolute_percentage_error: 44.4752\n",
      "700/700 [==============================] - 2s 2ms/step\n",
      "2799/2799 [==============================] - 24s 8ms/step - loss: 0.4305 - mae: 0.4305 - mse: 0.1877 - root_mean_squared_error: 0.4332 - mean_absolute_percentage_error: 44.4693\n",
      "700/700 [==============================] - 2s 2ms/step\n",
      "initailizer number 1\n",
      "Validation mae: 0.39601 ± 0.00024\n",
      "Validation mse: 0.15877 ± 0.00016\n",
      "Validation mape: 40.88889 ± 0.01635\n",
      "2799/2799 [==============================] - 23s 8ms/step - loss: 0.0418 - mae: 0.0418 - mse: 0.0065 - root_mean_squared_error: 0.0809 - mean_absolute_percentage_error: 4.5355\n",
      "700/700 [==============================] - 2s 2ms/step\n",
      "2799/2799 [==============================] - 25s 9ms/step - loss: 0.0370 - mae: 0.0370 - mse: 0.0063 - root_mean_squared_error: 0.0796 - mean_absolute_percentage_error: 3.9917\n",
      "700/700 [==============================] - 2s 2ms/step\n",
      "2799/2799 [==============================] - 29s 10ms/step - loss: 0.0312 - mae: 0.0312 - mse: 0.0055 - root_mean_squared_error: 0.0743 - mean_absolute_percentage_error: 3.3556\n",
      "700/700 [==============================] - 2s 3ms/step\n",
      "2799/2799 [==============================] - 26s 9ms/step - loss: 0.0431 - mae: 0.0431 - mse: 0.0071 - root_mean_squared_error: 0.0841 - mean_absolute_percentage_error: 4.6762\n",
      "700/700 [==============================] - 2s 2ms/step\n",
      "2799/2799 [==============================] - 27s 9ms/step - loss: 0.0421 - mae: 0.0421 - mse: 0.0066 - root_mean_squared_error: 0.0814 - mean_absolute_percentage_error: 4.5709\n",
      "700/700 [==============================] - 2s 3ms/step\n",
      "initailizer number 2\n",
      "Validation mae: 0.01928 ± 0.00848\n",
      "Validation mse: 0.00122 ± 0.00099\n",
      "Validation mape: 2.09469 ± 0.94738\n",
      "2799/2799 [==============================] - 26s 9ms/step - loss: 0.0406 - mae: 0.0406 - mse: 0.0069 - root_mean_squared_error: 0.0830 - mean_absolute_percentage_error: 4.3969\n",
      "700/700 [==============================] - 2s 3ms/step\n",
      "2799/2799 [==============================] - 27s 9ms/step - loss: 0.0451 - mae: 0.0451 - mse: 0.0076 - root_mean_squared_error: 0.0874 - mean_absolute_percentage_error: 4.8945\n",
      "700/700 [==============================] - 2s 3ms/step\n",
      "2799/2799 [==============================] - 27s 9ms/step - loss: 0.0444 - mae: 0.0444 - mse: 0.0073 - root_mean_squared_error: 0.0855 - mean_absolute_percentage_error: 4.8250\n",
      "700/700 [==============================] - 2s 3ms/step\n",
      "2799/2799 [==============================] - 25s 8ms/step - loss: 0.0451 - mae: 0.0451 - mse: 0.0077 - root_mean_squared_error: 0.0875 - mean_absolute_percentage_error: 4.8944\n",
      "700/700 [==============================] - 2s 2ms/step\n",
      "2799/2799 [==============================] - 24s 8ms/step - loss: 0.0448 - mae: 0.0448 - mse: 0.0074 - root_mean_squared_error: 0.0863 - mean_absolute_percentage_error: 4.8632\n",
      "700/700 [==============================] - 2s 3ms/step\n",
      "initailizer number 3\n",
      "Validation mae: 0.03100 ± 0.00906\n",
      "Validation mse: 0.00259 ± 0.00110\n",
      "Validation mape: 3.40864 ± 1.00981\n",
      "2799/2799 [==============================] - 30s 10ms/step - loss: 0.0173 - mae: 0.0173 - mse: 0.0030 - root_mean_squared_error: 0.0551 - mean_absolute_percentage_error: 1.8468\n",
      "700/700 [==============================] - 2s 3ms/step\n",
      "2799/2799 [==============================] - 32s 11ms/step - loss: 0.0193 - mae: 0.0193 - mse: 0.0038 - root_mean_squared_error: 0.0616 - mean_absolute_percentage_error: 2.0552\n",
      "700/700 [==============================] - 2s 3ms/step\n",
      "2799/2799 [==============================] - 28s 10ms/step - loss: 0.0198 - mae: 0.0198 - mse: 0.0060 - root_mean_squared_error: 0.0777 - mean_absolute_percentage_error: 2.0963\n",
      "700/700 [==============================] - 2s 3ms/step\n",
      "2799/2799 [==============================] - 27s 9ms/step - loss: 0.0164 - mae: 0.0164 - mse: 0.0029 - root_mean_squared_error: 0.0535 - mean_absolute_percentage_error: 1.7392\n",
      "700/700 [==============================] - 2s 3ms/step\n",
      "2799/2799 [==============================] - 28s 10ms/step - loss: 0.0151 - mae: 0.0151 - mse: 0.0021 - root_mean_squared_error: 0.0458 - mean_absolute_percentage_error: 1.6136\n",
      "700/700 [==============================] - 2s 3ms/step\n",
      "initailizer number 4\n",
      "Validation mae: 0.00797 ± 0.00134\n",
      "Validation mse: 0.00016 ± 0.00005\n",
      "Validation mape: 0.85243 ± 0.14714\n"
     ]
    }
   ],
   "source": [
    "from sklearn.model_selection import KFold\n",
    "from sklearn.metrics import mean_absolute_error,mean_squared_error\n",
    "# load your data\n",
    "X = XT  # your features\n",
    "y = YT  # your target variable\n",
    "\n",
    "# set up the k-fold cross-validation object\n",
    "k =5   # number of folds\n",
    "kf = KFold(n_splits=k, shuffle=True, random_state=42)\n",
    "\n",
    "# initialize a list to store the validation accuracies\n",
    "for i in range(0,len(init)):\n",
    "    val_mae = []\n",
    "    val_mse = []\n",
    "    val_mape=[]\n",
    "\n",
    "    # loop over the k folds\n",
    "    for train_index, val_index in kf.split(X):\n",
    "        # split the data into training and validation sets\n",
    "        X_train, y_train = X[train_index], y[train_index]\n",
    "        X_val, y_val = X[val_index], y[val_index]\n",
    "        model=createModel(input_shape,output_step,init[i]) #each time we create a model the weights will be initailize with default value given by keras\n",
    "\n",
    "\n",
    "\n",
    "        # train your model on the training set\n",
    "        model.fit(X_train, y_train)\n",
    "        #model.save(\"lstm_model_withencoder_\"+str(input_step)+\"_F\"+str(i)+\".h5\")\n",
    "\n",
    "        # evaluate the model on the validation set and store the mse\n",
    "        y_pred = model.predict(X_val)\n",
    "        val_acc = mean_absolute_error(y_val, y_pred)\n",
    "        val_mae.append(val_acc)\n",
    "        val_acc = mean_squared_error(y_val, y_pred)\n",
    "        val_mse.append(val_acc)\n",
    "        val_acc = MAPE(y_val, y_pred)\n",
    "        val_mape.append(val_acc)\n",
    "        del X_train,y_train,X_val,y_val\n",
    "        gc.collect()\n",
    "\n",
    "    # print the mean and standard deviation of the validation mse\n",
    "    print(\"initailizer number\",i)\n",
    "    print(f'Validation mae: {np.mean(val_mae):.5f} ± {np.std(val_mae):.5f}')\n",
    "    print(f'Validation mse: {np.mean(val_mse):.5f} ± {np.std(val_mse):.5f}')\n",
    "    print(f'Validation mape: {np.mean(val_mape):.5f} ± {np.std(val_mape):.5f}')"
   ]
  },
  {
   "cell_type": "code",
   "execution_count": 54,
   "id": "54bdd42f",
   "metadata": {
    "scrolled": true
   },
   "outputs": [
    {
     "name": "stdout",
     "output_type": "stream",
     "text": [
      "2799/2799 [==============================] - 22s 8ms/step - loss: 0.0249 - mae: 0.0249 - mse: 0.0037 - root_mean_squared_error: 0.0611 - mean_absolute_percentage_error: 2.6773\n",
      "700/700 [==============================] - 2s 2ms/step\n"
     ]
    },
    {
     "name": "stderr",
     "output_type": "stream",
     "text": [
      "C:\\Users\\sarbaoui01\\Anaconda3\\lib\\site-packages\\keras\\initializers\\initializers_v2.py:120: UserWarning: The initializer GlorotUniform is unseeded and being called multiple times, which will return identical values  each time (even if the initializer is unseeded). Please update your code to provide a seed to the initializer, or avoid using the same initalizer instance more than once.\n",
      "  warnings.warn(\n"
     ]
    },
    {
     "name": "stdout",
     "output_type": "stream",
     "text": [
      "2799/2799 [==============================] - 23s 8ms/step - loss: 0.0288 - mae: 0.0288 - mse: 0.0042 - root_mean_squared_error: 0.0647 - mean_absolute_percentage_error: 3.1018\n",
      "700/700 [==============================] - 2s 2ms/step\n"
     ]
    },
    {
     "name": "stderr",
     "output_type": "stream",
     "text": [
      "C:\\Users\\sarbaoui01\\Anaconda3\\lib\\site-packages\\keras\\initializers\\initializers_v2.py:120: UserWarning: The initializer GlorotUniform is unseeded and being called multiple times, which will return identical values  each time (even if the initializer is unseeded). Please update your code to provide a seed to the initializer, or avoid using the same initalizer instance more than once.\n",
      "  warnings.warn(\n"
     ]
    },
    {
     "name": "stdout",
     "output_type": "stream",
     "text": [
      "2799/2799 [==============================] - 23s 8ms/step - loss: 0.0234 - mae: 0.0234 - mse: 0.0037 - root_mean_squared_error: 0.0606 - mean_absolute_percentage_error: 2.5109\n",
      "700/700 [==============================] - 2s 3ms/step\n"
     ]
    },
    {
     "name": "stderr",
     "output_type": "stream",
     "text": [
      "C:\\Users\\sarbaoui01\\Anaconda3\\lib\\site-packages\\keras\\initializers\\initializers_v2.py:120: UserWarning: The initializer GlorotUniform is unseeded and being called multiple times, which will return identical values  each time (even if the initializer is unseeded). Please update your code to provide a seed to the initializer, or avoid using the same initalizer instance more than once.\n",
      "  warnings.warn(\n"
     ]
    },
    {
     "name": "stdout",
     "output_type": "stream",
     "text": [
      "2799/2799 [==============================] - 25s 8ms/step - loss: 0.0259 - mae: 0.0259 - mse: 0.0041 - root_mean_squared_error: 0.0638 - mean_absolute_percentage_error: 2.7838\n",
      "700/700 [==============================] - 2s 3ms/step\n"
     ]
    },
    {
     "name": "stderr",
     "output_type": "stream",
     "text": [
      "C:\\Users\\sarbaoui01\\Anaconda3\\lib\\site-packages\\keras\\initializers\\initializers_v2.py:120: UserWarning: The initializer GlorotUniform is unseeded and being called multiple times, which will return identical values  each time (even if the initializer is unseeded). Please update your code to provide a seed to the initializer, or avoid using the same initalizer instance more than once.\n",
      "  warnings.warn(\n"
     ]
    },
    {
     "name": "stdout",
     "output_type": "stream",
     "text": [
      "2799/2799 [==============================] - 24s 8ms/step - loss: 0.0219 - mae: 0.0219 - mse: 0.0035 - root_mean_squared_error: 0.0591 - mean_absolute_percentage_error: 2.3381\n",
      "700/700 [==============================] - 2s 3ms/step\n",
      "Validation mae: 0.00957 ± 0.00110\n",
      "Validation mse: 0.00022 ± 0.00005\n",
      "Validation mape: 1.02451 ± 0.12463\n"
     ]
    }
   ],
   "source": [
    "X = XT  # your features\n",
    "y = YT  # your target variable\n",
    "\n",
    "# set up the k-fold cross-validation object\n",
    "k =5   # number of folds\n",
    "kf = KFold(n_splits=k, shuffle=True, random_state=42)\n",
    "val_mae = []\n",
    "val_mse = []\n",
    "val_mape=[]\n",
    "i=0\n",
    "\n",
    "    # loop over the k folds\n",
    "for train_index, val_index in kf.split(X):\n",
    "        # split the data into training and validation sets\n",
    "        X_train, y_train = X[train_index], y[train_index]\n",
    "        X_val, y_val = X[val_index], y[val_index]\n",
    "        model=createModel(input_shape,output_step,init[0]) #each time we create a model the weights will be initailize with default value given by keras\n",
    "\n",
    "\n",
    "\n",
    "        # train your model on the training set\n",
    "        model.fit(X_train, y_train)\n",
    "        model.save(\"lstm_model_withencoder_\"+str(input_step)+\"_F\"+str(i)+\".h5\")\n",
    "\n",
    "        # evaluate the model on the validation set and store the mse\n",
    "        y_pred = model.predict(X_val)\n",
    "        val_acc = mean_absolute_error(y_val, y_pred)\n",
    "        val_mae.append(val_acc)\n",
    "        val_acc = mean_squared_error(y_val, y_pred)\n",
    "        val_mse.append(val_acc)\n",
    "        val_acc = MAPE(y_val, y_pred)\n",
    "        val_mape.append(val_acc)\n",
    "        del X_train,y_train,X_val,y_val\n",
    "        gc.collect()\n",
    "        i=i+1\n",
    "\n",
    "    # print the mean and standard deviation of the validation mse\n",
    "    \n",
    "print(f'Validation mae: {np.mean(val_mae):.5f} ± {np.std(val_mae):.5f}')\n",
    "print(f'Validation mse: {np.mean(val_mse):.5f} ± {np.std(val_mse):.5f}')\n",
    "print(f'Validation mape: {np.mean(val_mape):.5f} ± {np.std(val_mape):.5f}')"
   ]
  },
  {
   "cell_type": "code",
   "execution_count": 55,
   "id": "eae22709",
   "metadata": {},
   "outputs": [
    {
     "data": {
      "text/plain": [
       "([0.008731315, 0.008841053, 0.011280319, 0.010471091, 0.008544832],\n",
       " [0.9324093349277973,\n",
       "  0.9392650797963142,\n",
       "  1.2160448357462883,\n",
       "  1.1295100674033165,\n",
       "  0.9053208865225315])"
      ]
     },
     "execution_count": 55,
     "metadata": {},
     "output_type": "execute_result"
    }
   ],
   "source": [
    "val_mae,val_mape"
   ]
  },
  {
   "cell_type": "markdown",
   "id": "f61e353e",
   "metadata": {},
   "source": [
    "# CNN-LSTM model"
   ]
  },
  {
   "cell_type": "code",
   "execution_count": 67,
   "id": "2dc5c69b",
   "metadata": {},
   "outputs": [],
   "source": [
    "from keras.models import Sequential\n",
    "from keras.layers import Conv2D, MaxPooling2D, LSTM, Dense, Flatten, Reshape, Dropout, BatchNormalization\n",
    "from keras.optimizers import Adam\n",
    "from keras.callbacks import EarlyStopping, LearningRateScheduler, ModelCheckpoint\n",
    "import tensorflow as tf\n",
    "\n",
    "def create_model2(init):\n",
    "    \n",
    "# Define CNN-LSTM model architecture\n",
    "    model2 = Sequential()\n",
    "\n",
    "    # Convolutional layers\n",
    "    model2.add(Conv2D(32, (3, 3), activation='relu', input_shape=(input_step, 6, 500), kernel_initializer=init))\n",
    "    model2.add(MaxPooling2D(pool_size=(2, 2)))\n",
    "\n",
    "    # Flatten and reshape for LSTM\n",
    "    model2.add(Flatten())\n",
    "    model2.add(Reshape((8, 32))) #8,32 for 10 input window\n",
    "\n",
    "    # LSTM layers\n",
    "    model2.add(LSTM(32, return_sequences=True, kernel_initializer=init))\n",
    "    model2.add(LSTM(32, return_sequences=False, kernel_initializer=init))\n",
    "\n",
    "\n",
    "    # Dense layer\n",
    "    model2.add(Dense(output_step, activation='sigmoid', kernel_initializer=init))\n",
    "\n",
    "    # Compile model\n",
    "    opt = Adam(learning_rate=0.001)\n",
    "    model2.compile(loss='mean_absolute_error', optimizer=opt, metrics=['mae', 'mse', tf.keras.metrics.RootMeanSquaredError(), tf.keras.metrics.MeanAbsolutePercentageError()])\n",
    "\n",
    "    \n",
    "    return model2\n",
    "\n"
   ]
  },
  {
   "cell_type": "code",
   "execution_count": 57,
   "id": "b22d6c45",
   "metadata": {},
   "outputs": [],
   "source": [
    "X11=np.load(\"X1_\"+str(input_step)+\".npy\")\n",
    "X22=np.load(\"X2_\"+str(input_step)+\".npy\")"
   ]
  },
  {
   "cell_type": "code",
   "execution_count": 58,
   "id": "eb469055",
   "metadata": {},
   "outputs": [],
   "source": [
    "Y1=np.load(\"Y1_\"+str(output_step)+\".npy\",allow_pickle=True)\n",
    "Y2=np.load(\"Y2_\"+str(output_step)+\".npy\",allow_pickle=True)"
   ]
  },
  {
   "cell_type": "code",
   "execution_count": 7,
   "id": "8a932401",
   "metadata": {},
   "outputs": [
    {
     "data": {
      "text/plain": [
       "((52316, 25, 6, 500), (51922, 25, 6, 500))"
      ]
     },
     "execution_count": 7,
     "metadata": {},
     "output_type": "execute_result"
    }
   ],
   "source": [
    "X11.shape,X22.shape"
   ]
  },
  {
   "cell_type": "code",
   "execution_count": 59,
   "id": "fd6e35c5",
   "metadata": {},
   "outputs": [],
   "source": [
    "X11=np.float32(X11)\n",
    "X22=np.float32(X22)"
   ]
  },
  {
   "cell_type": "code",
   "execution_count": 60,
   "id": "d4df63d0",
   "metadata": {},
   "outputs": [],
   "source": [
    "Y1=np.float32(Y1)\n",
    "Y2=np.float32(Y2)"
   ]
  },
  {
   "cell_type": "code",
   "execution_count": 61,
   "id": "76829d51",
   "metadata": {},
   "outputs": [
    {
     "data": {
      "text/plain": [
       "(56936, 10)"
      ]
     },
     "execution_count": 61,
     "metadata": {},
     "output_type": "execute_result"
    }
   ],
   "source": [
    "Y1.shape"
   ]
  },
  {
   "cell_type": "code",
   "execution_count": 62,
   "id": "da303911",
   "metadata": {},
   "outputs": [],
   "source": [
    "XT=np.concatenate((X11, X22), axis=0)"
   ]
  },
  {
   "cell_type": "code",
   "execution_count": 63,
   "id": "fe3baee5",
   "metadata": {},
   "outputs": [
    {
     "data": {
      "text/plain": [
       "(111938, 10, 6, 500)"
      ]
     },
     "execution_count": 63,
     "metadata": {},
     "output_type": "execute_result"
    }
   ],
   "source": [
    "XT.shape"
   ]
  },
  {
   "cell_type": "code",
   "execution_count": 64,
   "id": "ec239c87",
   "metadata": {},
   "outputs": [],
   "source": [
    "YT=np.concatenate((Y1, Y2), axis=0)"
   ]
  },
  {
   "cell_type": "code",
   "execution_count": 65,
   "id": "66621e18",
   "metadata": {},
   "outputs": [
    {
     "data": {
      "text/plain": [
       "(111938, 10)"
      ]
     },
     "execution_count": 65,
     "metadata": {},
     "output_type": "execute_result"
    }
   ],
   "source": [
    "YT.shape"
   ]
  },
  {
   "cell_type": "code",
   "execution_count": 34,
   "id": "a23a4068",
   "metadata": {},
   "outputs": [
    {
     "name": "stdout",
     "output_type": "stream",
     "text": [
      "2799/2799 [==============================] - 36s 12ms/step - loss: 0.0247 - mae: 0.0247 - mse: 0.0028 - root_mean_squared_error: 0.0530 - mean_absolute_percentage_error: 2.6545\n",
      "700/700 [==============================] - 3s 4ms/step\n"
     ]
    },
    {
     "name": "stderr",
     "output_type": "stream",
     "text": [
      "C:\\Users\\sarbaoui01\\Anaconda3\\lib\\site-packages\\keras\\initializers\\initializers_v2.py:120: UserWarning: The initializer GlorotUniform is unseeded and being called multiple times, which will return identical values  each time (even if the initializer is unseeded). Please update your code to provide a seed to the initializer, or avoid using the same initalizer instance more than once.\n",
      "  warnings.warn(\n"
     ]
    },
    {
     "name": "stdout",
     "output_type": "stream",
     "text": [
      "2799/2799 [==============================] - 34s 12ms/step - loss: 0.0271 - mae: 0.0271 - mse: 0.0029 - root_mean_squared_error: 0.0538 - mean_absolute_percentage_error: 2.9256\n",
      "700/700 [==============================] - 3s 4ms/step\n"
     ]
    },
    {
     "name": "stderr",
     "output_type": "stream",
     "text": [
      "C:\\Users\\sarbaoui01\\Anaconda3\\lib\\site-packages\\keras\\initializers\\initializers_v2.py:120: UserWarning: The initializer GlorotUniform is unseeded and being called multiple times, which will return identical values  each time (even if the initializer is unseeded). Please update your code to provide a seed to the initializer, or avoid using the same initalizer instance more than once.\n",
      "  warnings.warn(\n"
     ]
    },
    {
     "name": "stdout",
     "output_type": "stream",
     "text": [
      "2799/2799 [==============================] - 33s 11ms/step - loss: 0.0266 - mae: 0.0266 - mse: 0.0029 - root_mean_squared_error: 0.0542 - mean_absolute_percentage_error: 2.8693\n",
      "700/700 [==============================] - 3s 4ms/step\n"
     ]
    },
    {
     "name": "stderr",
     "output_type": "stream",
     "text": [
      "C:\\Users\\sarbaoui01\\Anaconda3\\lib\\site-packages\\keras\\initializers\\initializers_v2.py:120: UserWarning: The initializer GlorotUniform is unseeded and being called multiple times, which will return identical values  each time (even if the initializer is unseeded). Please update your code to provide a seed to the initializer, or avoid using the same initalizer instance more than once.\n",
      "  warnings.warn(\n"
     ]
    },
    {
     "name": "stdout",
     "output_type": "stream",
     "text": [
      "2799/2799 [==============================] - 34s 12ms/step - loss: 0.0285 - mae: 0.0285 - mse: 0.0028 - root_mean_squared_error: 0.0533 - mean_absolute_percentage_error: 3.0753\n",
      "700/700 [==============================] - 3s 4ms/step\n"
     ]
    },
    {
     "name": "stderr",
     "output_type": "stream",
     "text": [
      "C:\\Users\\sarbaoui01\\Anaconda3\\lib\\site-packages\\keras\\initializers\\initializers_v2.py:120: UserWarning: The initializer GlorotUniform is unseeded and being called multiple times, which will return identical values  each time (even if the initializer is unseeded). Please update your code to provide a seed to the initializer, or avoid using the same initalizer instance more than once.\n",
      "  warnings.warn(\n"
     ]
    },
    {
     "name": "stdout",
     "output_type": "stream",
     "text": [
      "2799/2799 [==============================] - 33s 11ms/step - loss: 0.0205 - mae: 0.0205 - mse: 0.0020 - root_mean_squared_error: 0.0452 - mean_absolute_percentage_error: 2.1939\n",
      "700/700 [==============================] - 3s 3ms/step\n",
      "initailizer number 0\n",
      "Validation mae: 0.01042 ± 0.00097\n",
      "Validation mse: 0.00031 ± 0.00005\n",
      "Validation mape: 1.11925 ± 0.10542\n",
      "2799/2799 [==============================] - 34s 11ms/step - loss: 0.2116 - mae: 0.2116 - mse: 0.0598 - root_mean_squared_error: 0.2446 - mean_absolute_percentage_error: 21.7725\n",
      "700/700 [==============================] - 3s 3ms/step\n",
      "2799/2799 [==============================] - 33s 11ms/step - loss: 0.2117 - mae: 0.2117 - mse: 0.0598 - root_mean_squared_error: 0.2445 - mean_absolute_percentage_error: 21.7742\n",
      "700/700 [==============================] - 3s 3ms/step\n",
      "2799/2799 [==============================] - 34s 12ms/step - loss: 0.2116 - mae: 0.2116 - mse: 0.0598 - root_mean_squared_error: 0.2445 - mean_absolute_percentage_error: 21.7746\n",
      "700/700 [==============================] - 3s 4ms/step\n",
      "2799/2799 [==============================] - 34s 12ms/step - loss: 0.2118 - mae: 0.2118 - mse: 0.0599 - root_mean_squared_error: 0.2447 - mean_absolute_percentage_error: 21.7806\n",
      "700/700 [==============================] - 3s 4ms/step\n",
      "2799/2799 [==============================] - 34s 12ms/step - loss: 0.2117 - mae: 0.2117 - mse: 0.0598 - root_mean_squared_error: 0.2446 - mean_absolute_percentage_error: 21.7754\n",
      "700/700 [==============================] - 3s 4ms/step\n",
      "initailizer number 1\n",
      "Validation mae: 0.07263 ± 0.00011\n",
      "Validation mse: 0.00605 ± 0.00002\n",
      "Validation mape: 7.44423 ± 0.00970\n",
      "2799/2799 [==============================] - 34s 11ms/step - loss: 0.0308 - mae: 0.0308 - mse: 0.0034 - root_mean_squared_error: 0.0585 - mean_absolute_percentage_error: 3.3253\n",
      "700/700 [==============================] - 3s 3ms/step\n",
      "2799/2799 [==============================] - 33s 11ms/step - loss: 0.0355 - mae: 0.0355 - mse: 0.0039 - root_mean_squared_error: 0.0628 - mean_absolute_percentage_error: 3.8454\n",
      "700/700 [==============================] - 3s 3ms/step\n",
      "2799/2799 [==============================] - 33s 11ms/step - loss: 0.0356 - mae: 0.0356 - mse: 0.0041 - root_mean_squared_error: 0.0637 - mean_absolute_percentage_error: 3.8614\n",
      "700/700 [==============================] - 3s 4ms/step\n",
      "2799/2799 [==============================] - 34s 11ms/step - loss: 0.0354 - mae: 0.0354 - mse: 0.0040 - root_mean_squared_error: 0.0630 - mean_absolute_percentage_error: 3.8377\n",
      "700/700 [==============================] - 3s 3ms/step\n",
      "2799/2799 [==============================] - 34s 11ms/step - loss: 0.0357 - mae: 0.0357 - mse: 0.0040 - root_mean_squared_error: 0.0634 - mean_absolute_percentage_error: 3.8642\n",
      "700/700 [==============================] - 3s 3ms/step\n",
      "initailizer number 2\n",
      "Validation mae: 0.02669 ± 0.00728\n",
      "Validation mse: 0.00185 ± 0.00074\n",
      "Validation mape: 2.92122 ± 0.80724\n",
      "2799/2799 [==============================] - 34s 12ms/step - loss: 0.0359 - mae: 0.0359 - mse: 0.0041 - root_mean_squared_error: 0.0639 - mean_absolute_percentage_error: 3.8861\n",
      "700/700 [==============================] - 3s 3ms/step\n",
      "2799/2799 [==============================] - 34s 11ms/step - loss: 0.0358 - mae: 0.0358 - mse: 0.0041 - root_mean_squared_error: 0.0642 - mean_absolute_percentage_error: 3.8804\n",
      "700/700 [==============================] - 3s 4ms/step\n",
      "2799/2799 [==============================] - 34s 12ms/step - loss: 0.0357 - mae: 0.0357 - mse: 0.0041 - root_mean_squared_error: 0.0637 - mean_absolute_percentage_error: 3.8683\n",
      "700/700 [==============================] - 3s 4ms/step\n",
      "2799/2799 [==============================] - 34s 12ms/step - loss: 0.0358 - mae: 0.0358 - mse: 0.0041 - root_mean_squared_error: 0.0643 - mean_absolute_percentage_error: 3.8815\n",
      "700/700 [==============================] - 3s 4ms/step\n",
      "2799/2799 [==============================] - 34s 12ms/step - loss: 0.0359 - mae: 0.0359 - mse: 0.0042 - root_mean_squared_error: 0.0645 - mean_absolute_percentage_error: 3.8896\n",
      "700/700 [==============================] - 3s 4ms/step\n",
      "initailizer number 3\n",
      "Validation mae: 0.03025 ± 0.00020\n",
      "Validation mse: 0.00220 ± 0.00003\n",
      "Validation mape: 3.31530 ± 0.02363\n",
      "2799/2799 [==============================] - 34s 12ms/step - loss: 0.0179 - mae: 0.0179 - mse: 0.0015 - root_mean_squared_error: 0.0393 - mean_absolute_percentage_error: 1.9064\n",
      "700/700 [==============================] - 3s 4ms/step\n",
      "2799/2799 [==============================] - 34s 12ms/step - loss: 0.0204 - mae: 0.0204 - mse: 0.0022 - root_mean_squared_error: 0.0468 - mean_absolute_percentage_error: 2.1710\n",
      "700/700 [==============================] - 3s 4ms/step\n",
      "2799/2799 [==============================] - 34s 12ms/step - loss: 0.0208 - mae: 0.0208 - mse: 0.0024 - root_mean_squared_error: 0.0486 - mean_absolute_percentage_error: 2.2158\n",
      "700/700 [==============================] - 3s 4ms/step\n",
      "2799/2799 [==============================] - 34s 12ms/step - loss: 0.0238 - mae: 0.0238 - mse: 0.0029 - root_mean_squared_error: 0.0540 - mean_absolute_percentage_error: 2.5477\n",
      "700/700 [==============================] - 3s 4ms/step\n",
      "2799/2799 [==============================] - 34s 12ms/step - loss: 0.0182 - mae: 0.0182 - mse: 0.0019 - root_mean_squared_error: 0.0433 - mean_absolute_percentage_error: 1.9386\n",
      "700/700 [==============================] - 3s 4ms/step\n",
      "initailizer number 4\n",
      "Validation mae: 0.00902 ± 0.00056\n",
      "Validation mse: 0.00020 ± 0.00003\n",
      "Validation mape: 0.96311 ± 0.06184\n"
     ]
    }
   ],
   "source": [
    "X = XT  # your features\n",
    "y = YT  # your target variable\n",
    "\n",
    "# set up the k-fold cross-validation object\n",
    "k =5   # number of folds\n",
    "kf = KFold(n_splits=k, shuffle=True, random_state=42)\n",
    "\n",
    "# initialize a list to store the validation accuracies\n",
    "for i in range(0,len(init)):\n",
    "    val_mae = []\n",
    "    val_mse = []\n",
    "    val_mape=[]\n",
    "\n",
    "    # loop over the k folds\n",
    "    for train_index, val_index in kf.split(X):\n",
    "        # split the data into training and validation sets\n",
    "        X_train, y_train = X[train_index], y[train_index]\n",
    "        X_val, y_val = X[val_index], y[val_index]\n",
    "        model2=create_model2(init[i]) #each time we create a model the weights will be initailize with default value given by keras\n",
    "\n",
    "\n",
    "\n",
    "        # train your model on the training set\n",
    "        model2.fit(X_train, y_train)\n",
    "        #model.save(\"lstm_model_withencoder_\"+str(input_step)+\"_F\"+str(i)+\".h5\")\n",
    "\n",
    "        # evaluate the model on the validation set and store the mse\n",
    "        y_pred = model2.predict(X_val)\n",
    "        val_acc = mean_absolute_error(y_val, y_pred)\n",
    "        val_mae.append(val_acc)\n",
    "        val_acc = mean_squared_error(y_val, y_pred)\n",
    "        val_mse.append(val_acc)\n",
    "        val_acc = MAPE(y_val, y_pred)\n",
    "        val_mape.append(val_acc)\n",
    "        del X_train,y_train,X_val,y_val\n",
    "        gc.collect()\n",
    "\n",
    "    # print the mean and standard deviation of the validation mse\n",
    "    print(\"initailizer number\",i)\n",
    "    print(f'Validation mae: {np.mean(val_mae):.5f} ± {np.std(val_mae):.5f}')\n",
    "    print(f'Validation mse: {np.mean(val_mse):.5f} ± {np.std(val_mse):.5f}')\n",
    "    print(f'Validation mape: {np.mean(val_mape):.5f} ± {np.std(val_mape):.5f}')"
   ]
  },
  {
   "cell_type": "code",
   "execution_count": 68,
   "id": "038a791b",
   "metadata": {
    "scrolled": false
   },
   "outputs": [
    {
     "name": "stdout",
     "output_type": "stream",
     "text": [
      "2799/2799 [==============================] - 38s 13ms/step - loss: 0.0204 - mae: 0.0204 - mse: 0.0020 - root_mean_squared_error: 0.0442 - mean_absolute_percentage_error: 2.1827\n",
      "700/700 [==============================] - 3s 4ms/step\n"
     ]
    },
    {
     "name": "stderr",
     "output_type": "stream",
     "text": [
      "C:\\Users\\sarbaoui01\\Anaconda3\\lib\\site-packages\\keras\\initializers\\initializers_v2.py:120: UserWarning: The initializer GlorotUniform is unseeded and being called multiple times, which will return identical values  each time (even if the initializer is unseeded). Please update your code to provide a seed to the initializer, or avoid using the same initalizer instance more than once.\n",
      "  warnings.warn(\n"
     ]
    },
    {
     "name": "stdout",
     "output_type": "stream",
     "text": [
      "2799/2799 [==============================] - 35s 12ms/step - loss: 0.0189 - mae: 0.0189 - mse: 0.0018 - root_mean_squared_error: 0.0423 - mean_absolute_percentage_error: 2.0143\n",
      "700/700 [==============================] - 3s 4ms/step\n"
     ]
    },
    {
     "name": "stderr",
     "output_type": "stream",
     "text": [
      "C:\\Users\\sarbaoui01\\Anaconda3\\lib\\site-packages\\keras\\initializers\\initializers_v2.py:120: UserWarning: The initializer GlorotUniform is unseeded and being called multiple times, which will return identical values  each time (even if the initializer is unseeded). Please update your code to provide a seed to the initializer, or avoid using the same initalizer instance more than once.\n",
      "  warnings.warn(\n"
     ]
    },
    {
     "name": "stdout",
     "output_type": "stream",
     "text": [
      "2799/2799 [==============================] - 35s 12ms/step - loss: 0.0232 - mae: 0.0232 - mse: 0.0022 - root_mean_squared_error: 0.0467 - mean_absolute_percentage_error: 2.4972\n",
      "700/700 [==============================] - 3s 4ms/step\n"
     ]
    },
    {
     "name": "stderr",
     "output_type": "stream",
     "text": [
      "C:\\Users\\sarbaoui01\\Anaconda3\\lib\\site-packages\\keras\\initializers\\initializers_v2.py:120: UserWarning: The initializer GlorotUniform is unseeded and being called multiple times, which will return identical values  each time (even if the initializer is unseeded). Please update your code to provide a seed to the initializer, or avoid using the same initalizer instance more than once.\n",
      "  warnings.warn(\n"
     ]
    },
    {
     "name": "stdout",
     "output_type": "stream",
     "text": [
      "2799/2799 [==============================] - 35s 12ms/step - loss: 0.0184 - mae: 0.0184 - mse: 0.0017 - root_mean_squared_error: 0.0415 - mean_absolute_percentage_error: 1.9603\n",
      "700/700 [==============================] - 3s 4ms/step\n"
     ]
    },
    {
     "name": "stderr",
     "output_type": "stream",
     "text": [
      "C:\\Users\\sarbaoui01\\Anaconda3\\lib\\site-packages\\keras\\initializers\\initializers_v2.py:120: UserWarning: The initializer GlorotUniform is unseeded and being called multiple times, which will return identical values  each time (even if the initializer is unseeded). Please update your code to provide a seed to the initializer, or avoid using the same initalizer instance more than once.\n",
      "  warnings.warn(\n"
     ]
    },
    {
     "name": "stdout",
     "output_type": "stream",
     "text": [
      "2799/2799 [==============================] - 34s 12ms/step - loss: 0.0167 - mae: 0.0167 - mse: 0.0018 - root_mean_squared_error: 0.0423 - mean_absolute_percentage_error: 1.7711\n",
      "700/700 [==============================] - 3s 3ms/step\n",
      "Validation mae: 0.00915 ± 0.00080\n",
      "Validation mse: 0.00021 ± 0.00006\n",
      "Validation mape: 0.97395 ± 0.08786\n"
     ]
    }
   ],
   "source": [
    "X = XT  # your features\n",
    "y = YT  # your target variable\n",
    "\n",
    "# set up the k-fold cross-validation object\n",
    "k =5   # number of folds\n",
    "kf = KFold(n_splits=k, shuffle=True, random_state=42)\n",
    "val_mae = []\n",
    "val_mse = []\n",
    "val_mape=[]\n",
    "i=0\n",
    "\n",
    "    # loop over the k folds\n",
    "for train_index, val_index in kf.split(X):\n",
    "        # split the data into training and validation sets\n",
    "        X_train, y_train = X[train_index], y[train_index]\n",
    "        X_val, y_val = X[val_index], y[val_index]\n",
    "        model2=create_model2(init[0]) #each time we create a model the weights will be initailize with default value given by keras\n",
    "\n",
    "\n",
    "\n",
    "        # train your model on the training set\n",
    "        model2.fit(X_train, y_train)\n",
    "        model2.save(\"Cnn_lstm_model\"+str(input_step)+\"_F\"+str(i)+\".h5\")\n",
    "\n",
    "        # evaluate the model on the validation set and store the mse\n",
    "        y_pred = model2.predict(X_val)\n",
    "        val_acc = mean_absolute_error(y_val, y_pred)\n",
    "        val_mae.append(val_acc)\n",
    "        val_acc = mean_squared_error(y_val, y_pred)\n",
    "        val_mse.append(val_acc)\n",
    "        val_acc = MAPE(y_val, y_pred)\n",
    "        val_mape.append(val_acc)\n",
    "        del X_train,y_train,X_val,y_val\n",
    "        gc.collect()\n",
    "        i=i+1\n",
    "\n",
    "    # print the mean and standard deviation of the validation mse\n",
    "    \n",
    "print(f'Validation mae: {np.mean(val_mae):.5f} ± {np.std(val_mae):.5f}')\n",
    "print(f'Validation mse: {np.mean(val_mse):.5f} ± {np.std(val_mse):.5f}')\n",
    "print(f'Validation mape: {np.mean(val_mape):.5f} ± {np.std(val_mape):.5f}')"
   ]
  },
  {
   "cell_type": "code",
   "execution_count": null,
   "id": "4e2f407a",
   "metadata": {},
   "outputs": [],
   "source": [
    "val_mae,val_mape"
   ]
  }
 ],
 "metadata": {
  "kernelspec": {
   "display_name": "Python 3 (ipykernel)",
   "language": "python",
   "name": "python3"
  },
  "language_info": {
   "codemirror_mode": {
    "name": "ipython",
    "version": 3
   },
   "file_extension": ".py",
   "mimetype": "text/x-python",
   "name": "python",
   "nbconvert_exporter": "python",
   "pygments_lexer": "ipython3",
   "version": "3.9.13"
  }
 },
 "nbformat": 4,
 "nbformat_minor": 5
}
