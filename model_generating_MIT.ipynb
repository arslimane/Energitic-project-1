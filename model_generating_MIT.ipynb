{
 "cells": [
  {
   "cell_type": "code",
   "execution_count": 19,
   "id": "0cd52ba8",
   "metadata": {},
   "outputs": [],
   "source": [
    "#!pip install tensorflow\n",
    "import pandas as pd\n",
    "import tensorflow as tf\n",
    "import numpy as np\n",
    "import tensorflow as tf\n",
    "from tensorflow import keras\n",
    "from tensorflow.keras.layers import Dense, LSTM,BatchNormalization,Dropout\n",
    "from tensorflow.keras.models import Sequential\n",
    "from tensorflow.keras.optimizers import Adam\n",
    "import tensorflow.keras.backend as K\n",
    "import pickle\n",
    "import matplotlib.pyplot as plt\n",
    "from tensorflow.keras.regularizers import l2\n",
    "import gc\n",
    "from sklearn.model_selection import KFold\n",
    "from sklearn.metrics import mean_absolute_error,mean_squared_error"
   ]
  },
  {
   "cell_type": "markdown",
   "id": "7f64d883",
   "metadata": {},
   "source": [
    "# Lstm model after using encoder"
   ]
  },
  {
   "cell_type": "code",
   "execution_count": 21,
   "id": "321418fe",
   "metadata": {},
   "outputs": [],
   "source": [
    "input_step=10 #to be changed after to 25,25 or 25,50\n",
    "output_step=10\n",
    "fsize=64"
   ]
  },
  {
   "cell_type": "code",
   "execution_count": 22,
   "id": "93d8538e",
   "metadata": {},
   "outputs": [],
   "source": [
    "X1=np.load(\"X11_\"+str(input_step)+\".npy\")\n",
    "X2=np.load(\"X22_\"+str(input_step)+\".npy\")\n"
   ]
  },
  {
   "cell_type": "code",
   "execution_count": 23,
   "id": "b652ee29",
   "metadata": {},
   "outputs": [
    {
     "data": {
      "text/plain": [
       "(56936, 640)"
      ]
     },
     "execution_count": 23,
     "metadata": {},
     "output_type": "execute_result"
    }
   ],
   "source": [
    "np.shape(X1)"
   ]
  },
  {
   "cell_type": "code",
   "execution_count": 25,
   "id": "a0dfa2b9",
   "metadata": {},
   "outputs": [],
   "source": [
    "Y1=np.load(\"Y13_\"+str(output_step)+\".npy\",allow_pickle=True)\n",
    "Y2=np.load(\"Y23_\"+str(output_step)+\".npy\",allow_pickle=True)"
   ]
  },
  {
   "cell_type": "code",
   "execution_count": 26,
   "id": "a52d0dc7",
   "metadata": {},
   "outputs": [],
   "source": [
    "X1=np.float32(X1)\n",
    "X2=np.float32(X2)\n",
    "Y1=np.float32(Y1)\n",
    "Y2=np.float32(Y2)"
   ]
  },
  {
   "cell_type": "code",
   "execution_count": 27,
   "id": "d9670ed8",
   "metadata": {},
   "outputs": [],
   "source": [
    "X1=np.reshape(X1,(X1.shape[0],input_step,fsize))\n",
    "X2=np.reshape(X2,(X2.shape[0],input_step,fsize))"
   ]
  },
  {
   "cell_type": "code",
   "execution_count": 31,
   "id": "47f83364",
   "metadata": {},
   "outputs": [
    {
     "data": {
      "text/plain": [
       "(56936, 10, 64)"
      ]
     },
     "execution_count": 31,
     "metadata": {},
     "output_type": "execute_result"
    }
   ],
   "source": [
    "X1.shape"
   ]
  },
  {
   "cell_type": "code",
   "execution_count": 32,
   "id": "a05633f4",
   "metadata": {},
   "outputs": [],
   "source": [
    "XT=np.concatenate((X1, X2), axis=0)"
   ]
  },
  {
   "cell_type": "code",
   "execution_count": 33,
   "id": "c1e728c0",
   "metadata": {},
   "outputs": [],
   "source": [
    "YT=np.concatenate((Y1, Y2), axis=0)"
   ]
  },
  {
   "cell_type": "code",
   "execution_count": 34,
   "id": "6d27a703",
   "metadata": {},
   "outputs": [],
   "source": [
    "def createModel(inputShape,output,init):\n",
    "# define model\n",
    "    model = Sequential()\n",
    "    model.add(LSTM(100, activation='relu',input_shape=inputShape,return_sequences=True, kernel_initializer=init))\n",
    "    model.add(LSTM(100,activation='relu', return_sequences=False, kernel_initializer=init))\n",
    "#     model.add(LSTM(64,activation='relu', return_sequences=False))\n",
    "#     model.add(Dense(16, activation='linear'))\n",
    "#     model.add(Dropout(0.3))\n",
    "    model.add(Dense(output,activation=\"sigmoid\", kernel_initializer=init))\n",
    "\n",
    "    opt = keras.optimizers.Adam(learning_rate=0.0001)\n",
    "    model.compile(optimizer=opt,loss='mae',metrics=['mae','mse',tf.keras.metrics.RootMeanSquaredError(),tf.keras.metrics.MeanAbsolutePercentageError()])\n",
    "    # model.compile(optimizer='adam', loss='mean_squared_error',metrics=['mse'])\n",
    "    return model"
   ]
  },
  {
   "cell_type": "code",
   "execution_count": 35,
   "id": "121221a2",
   "metadata": {},
   "outputs": [],
   "source": [
    "init=[tf.keras.initializers.GlorotUniform(),tf.keras.initializers.Zeros(),tf.keras.initializers.RandomNormal,tf.keras.initializers.RandomUniform,tf.keras.initializers.HeNormal]\n"
   ]
  },
  {
   "cell_type": "code",
   "execution_count": 36,
   "id": "b2789834",
   "metadata": {},
   "outputs": [
    {
     "name": "stderr",
     "output_type": "stream",
     "text": [
      "C:\\Users\\sarbaoui01\\Anaconda3\\lib\\site-packages\\keras\\initializers\\initializers_v2.py:120: UserWarning: The initializer GlorotUniform is unseeded and being called multiple times, which will return identical values  each time (even if the initializer is unseeded). Please update your code to provide a seed to the initializer, or avoid using the same initalizer instance more than once.\n",
      "  warnings.warn(\n"
     ]
    }
   ],
   "source": [
    "time_steps = input_step  # Number of time steps\n",
    "feature_length = 64  # Length of each feature vector\n",
    "input_shape = (time_steps, feature_length)\n",
    "\n",
    "model=createModel(input_shape,output_step,init[0])"
   ]
  },
  {
   "cell_type": "code",
   "execution_count": 37,
   "id": "c2d55aa1",
   "metadata": {},
   "outputs": [
    {
     "name": "stdout",
     "output_type": "stream",
     "text": [
      "Model: \"sequential_2\"\n",
      "_________________________________________________________________\n",
      " Layer (type)                Output Shape              Param #   \n",
      "=================================================================\n",
      " lstm_4 (LSTM)               (None, 10, 100)           66000     \n",
      "                                                                 \n",
      " lstm_5 (LSTM)               (None, 100)               80400     \n",
      "                                                                 \n",
      " dense_2 (Dense)             (None, 10)                1010      \n",
      "                                                                 \n",
      "=================================================================\n",
      "Total params: 147,410\n",
      "Trainable params: 147,410\n",
      "Non-trainable params: 0\n",
      "_________________________________________________________________\n"
     ]
    }
   ],
   "source": [
    "model.summary()"
   ]
  },
  {
   "cell_type": "code",
   "execution_count": 38,
   "id": "d2a4aae4",
   "metadata": {},
   "outputs": [],
   "source": [
    "def MAPE(Y_actual,Y_Predicted):\n",
    "    mape = np.mean(np.abs((Y_actual - Y_Predicted)/Y_actual))*100\n",
    "    return mape"
   ]
  },
  {
   "cell_type": "code",
   "execution_count": 39,
   "id": "60a92db8",
   "metadata": {},
   "outputs": [
    {
     "name": "stdout",
     "output_type": "stream",
     "text": [
      "2799/2799 [==============================] - 23s 8ms/step - loss: 0.0243 - mae: 0.0243 - mse: 0.0042 - root_mean_squared_error: 0.0651 - mean_absolute_percentage_error: 2.5902\n",
      "700/700 [==============================] - 2s 3ms/step\n"
     ]
    },
    {
     "name": "stderr",
     "output_type": "stream",
     "text": [
      "C:\\Users\\sarbaoui01\\Anaconda3\\lib\\site-packages\\keras\\initializers\\initializers_v2.py:120: UserWarning: The initializer GlorotUniform is unseeded and being called multiple times, which will return identical values  each time (even if the initializer is unseeded). Please update your code to provide a seed to the initializer, or avoid using the same initalizer instance more than once.\n",
      "  warnings.warn(\n"
     ]
    },
    {
     "name": "stdout",
     "output_type": "stream",
     "text": [
      "2799/2799 [==============================] - 23s 8ms/step - loss: 0.0283 - mae: 0.0283 - mse: 0.0050 - root_mean_squared_error: 0.0707 - mean_absolute_percentage_error: 3.0272\n",
      "700/700 [==============================] - 2s 3ms/step\n"
     ]
    },
    {
     "name": "stderr",
     "output_type": "stream",
     "text": [
      "C:\\Users\\sarbaoui01\\Anaconda3\\lib\\site-packages\\keras\\initializers\\initializers_v2.py:120: UserWarning: The initializer GlorotUniform is unseeded and being called multiple times, which will return identical values  each time (even if the initializer is unseeded). Please update your code to provide a seed to the initializer, or avoid using the same initalizer instance more than once.\n",
      "  warnings.warn(\n"
     ]
    },
    {
     "name": "stdout",
     "output_type": "stream",
     "text": [
      "2799/2799 [==============================] - 24s 8ms/step - loss: 0.0217 - mae: 0.0217 - mse: 0.0039 - root_mean_squared_error: 0.0625 - mean_absolute_percentage_error: 2.2995\n",
      "700/700 [==============================] - 2s 3ms/step\n"
     ]
    },
    {
     "name": "stderr",
     "output_type": "stream",
     "text": [
      "C:\\Users\\sarbaoui01\\Anaconda3\\lib\\site-packages\\keras\\initializers\\initializers_v2.py:120: UserWarning: The initializer GlorotUniform is unseeded and being called multiple times, which will return identical values  each time (even if the initializer is unseeded). Please update your code to provide a seed to the initializer, or avoid using the same initalizer instance more than once.\n",
      "  warnings.warn(\n"
     ]
    },
    {
     "name": "stdout",
     "output_type": "stream",
     "text": [
      "2799/2799 [==============================] - 25s 8ms/step - loss: 0.0241 - mae: 0.0241 - mse: 0.0043 - root_mean_squared_error: 0.0657 - mean_absolute_percentage_error: 2.5676\n",
      "700/700 [==============================] - 2s 3ms/step\n"
     ]
    },
    {
     "name": "stderr",
     "output_type": "stream",
     "text": [
      "C:\\Users\\sarbaoui01\\Anaconda3\\lib\\site-packages\\keras\\initializers\\initializers_v2.py:120: UserWarning: The initializer GlorotUniform is unseeded and being called multiple times, which will return identical values  each time (even if the initializer is unseeded). Please update your code to provide a seed to the initializer, or avoid using the same initalizer instance more than once.\n",
      "  warnings.warn(\n"
     ]
    },
    {
     "name": "stdout",
     "output_type": "stream",
     "text": [
      "2799/2799 [==============================] - 29s 10ms/step - loss: 0.0242 - mae: 0.0242 - mse: 0.0042 - root_mean_squared_error: 0.0650 - mean_absolute_percentage_error: 2.5805\n",
      "700/700 [==============================] - 2s 3ms/step\n",
      "initailizer number 0\n",
      "Validation mae: 0.00829 ± 0.00039\n",
      "Validation mse: 0.00016 ± 0.00002\n",
      "Validation mape: 0.88349 ± 0.04323\n",
      "2799/2799 [==============================] - 29s 10ms/step - loss: 0.4304 - mae: 0.4304 - mse: 0.1876 - root_mean_squared_error: 0.4332 - mean_absolute_percentage_error: 44.4660\n",
      "700/700 [==============================] - 2s 3ms/step\n",
      "2799/2799 [==============================] - 30s 10ms/step - loss: 0.4305 - mae: 0.4305 - mse: 0.1877 - root_mean_squared_error: 0.4333 - mean_absolute_percentage_error: 44.4729\n",
      "700/700 [==============================] - 2s 3ms/step\n",
      "2799/2799 [==============================] - 27s 9ms/step - loss: 0.4306 - mae: 0.4306 - mse: 0.1877 - root_mean_squared_error: 0.4333 - mean_absolute_percentage_error: 44.4768\n",
      "700/700 [==============================] - 2s 3ms/step\n",
      "2799/2799 [==============================] - 27s 9ms/step - loss: 0.4306 - mae: 0.4306 - mse: 0.1877 - root_mean_squared_error: 0.4333 - mean_absolute_percentage_error: 44.4751\n",
      "700/700 [==============================] - 2s 3ms/step\n",
      "2799/2799 [==============================] - 31s 11ms/step - loss: 0.4305 - mae: 0.4305 - mse: 0.1877 - root_mean_squared_error: 0.4332 - mean_absolute_percentage_error: 44.4690\n",
      "700/700 [==============================] - 3s 4ms/step\n",
      "initailizer number 1\n",
      "Validation mae: 0.39601 ± 0.00024\n",
      "Validation mse: 0.15877 ± 0.00016\n",
      "Validation mape: 40.88889 ± 0.01635\n",
      "2799/2799 [==============================] - 31s 11ms/step - loss: 0.0437 - mae: 0.0437 - mse: 0.0069 - root_mean_squared_error: 0.0828 - mean_absolute_percentage_error: 4.7582\n",
      "700/700 [==============================] - 3s 3ms/step\n",
      "2799/2799 [==============================] - 33s 11ms/step - loss: 0.0286 - mae: 0.0286 - mse: 0.0048 - root_mean_squared_error: 0.0691 - mean_absolute_percentage_error: 3.0681\n",
      "700/700 [==============================] - 3s 4ms/step\n",
      "2799/2799 [==============================] - 33s 12ms/step - loss: 0.0434 - mae: 0.0434 - mse: 0.0067 - root_mean_squared_error: 0.0820 - mean_absolute_percentage_error: 4.7199\n",
      "700/700 [==============================] - 3s 4ms/step\n",
      "2799/2799 [==============================] - 34s 12ms/step - loss: 0.0363 - mae: 0.0363 - mse: 0.0059 - root_mean_squared_error: 0.0771 - mean_absolute_percentage_error: 3.9280\n",
      "700/700 [==============================] - 3s 4ms/step\n",
      "2799/2799 [==============================] - 35s 12ms/step - loss: 0.0347 - mae: 0.0347 - mse: 0.0059 - root_mean_squared_error: 0.0767 - mean_absolute_percentage_error: 3.7412\n",
      "700/700 [==============================] - 3s 4ms/step\n",
      "initailizer number 2\n",
      "Validation mae: 0.02052 ± 0.01226\n",
      "Validation mse: 0.00139 ± 0.00139\n",
      "Validation mape: 2.23702 ± 1.36362\n",
      "2799/2799 [==============================] - 34s 12ms/step - loss: 0.0441 - mae: 0.0441 - mse: 0.0071 - root_mean_squared_error: 0.0844 - mean_absolute_percentage_error: 4.7986\n",
      "700/700 [==============================] - 3s 4ms/step\n",
      "2799/2799 [==============================] - 34s 12ms/step - loss: 0.0449 - mae: 0.0449 - mse: 0.0075 - root_mean_squared_error: 0.0868 - mean_absolute_percentage_error: 4.8740\n",
      "700/700 [==============================] - 3s 4ms/step\n",
      "2799/2799 [==============================] - 34s 12ms/step - loss: 0.0381 - mae: 0.0381 - mse: 0.0067 - root_mean_squared_error: 0.0816 - mean_absolute_percentage_error: 4.1113\n",
      "700/700 [==============================] - 3s 4ms/step\n",
      "2799/2799 [==============================] - 34s 12ms/step - loss: 0.0445 - mae: 0.0445 - mse: 0.0073 - root_mean_squared_error: 0.0856 - mean_absolute_percentage_error: 4.8337\n",
      "700/700 [==============================] - 3s 4ms/step\n",
      "2799/2799 [==============================] - 34s 12ms/step - loss: 0.0444 - mae: 0.0444 - mse: 0.0073 - root_mean_squared_error: 0.0854 - mean_absolute_percentage_error: 4.8296\n",
      "700/700 [==============================] - 3s 4ms/step\n",
      "initailizer number 3\n",
      "Validation mae: 0.03122 ± 0.00877\n",
      "Validation mse: 0.00263 ± 0.00103\n",
      "Validation mape: 3.42822 ± 0.98278\n",
      "2799/2799 [==============================] - 36s 12ms/step - loss: 0.0149 - mae: 0.0149 - mse: 0.0017 - root_mean_squared_error: 0.0411 - mean_absolute_percentage_error: 1.5937\n",
      "700/700 [==============================] - 3s 4ms/step\n",
      "2799/2799 [==============================] - 36s 12ms/step - loss: 0.0178 - mae: 0.0178 - mse: 0.0043 - root_mean_squared_error: 0.0656 - mean_absolute_percentage_error: 1.8885\n",
      "700/700 [==============================] - 3s 4ms/step\n",
      "2799/2799 [==============================] - 35s 12ms/step - loss: 0.0152 - mae: 0.0152 - mse: 0.0014 - root_mean_squared_error: 0.0375 - mean_absolute_percentage_error: 1.6148\n",
      "700/700 [==============================] - 3s 4ms/step\n",
      "2799/2799 [==============================] - 34s 12ms/step - loss: 0.0320 - mae: 0.0320 - mse: 0.0181 - root_mean_squared_error: 0.1347 - mean_absolute_percentage_error: 3.3593\n",
      "700/700 [==============================] - 3s 4ms/step\n",
      "2799/2799 [==============================] - 36s 12ms/step - loss: 0.0145 - mae: 0.0145 - mse: 0.0013 - root_mean_squared_error: 0.0367 - mean_absolute_percentage_error: 1.5456\n",
      "700/700 [==============================] - 3s 4ms/step\n",
      "initailizer number 4\n",
      "Validation mae: 0.00832 ± 0.00061\n",
      "Validation mse: 0.00016 ± 0.00003\n",
      "Validation mape: 0.88910 ± 0.06995\n"
     ]
    }
   ],
   "source": [
    "from sklearn.model_selection import KFold\n",
    "from sklearn.metrics import mean_absolute_error,mean_squared_error\n",
    "# load your data\n",
    "X = XT  # your features\n",
    "y = YT  # your target variable\n",
    "\n",
    "# set up the k-fold cross-validation object\n",
    "k =5   # number of folds\n",
    "kf = KFold(n_splits=k, shuffle=True, random_state=42)\n",
    "\n",
    "# initialize a list to store the validation accuracies\n",
    "for i in range(0,len(init)):\n",
    "    val_mae = []\n",
    "    val_mse = []\n",
    "    val_mape=[]\n",
    "\n",
    "    # loop over the k folds\n",
    "    for train_index, val_index in kf.split(X):\n",
    "        # split the data into training and validation sets\n",
    "        X_train, y_train = X[train_index], y[train_index]\n",
    "        X_val, y_val = X[val_index], y[val_index]\n",
    "        model=createModel(input_shape,output_step,init[i]) #each time we create a model the weights will be initailize with default value given by keras\n",
    "\n",
    "\n",
    "\n",
    "        # train your model on the training set\n",
    "        model.fit(X_train, y_train)\n",
    "        #model.save(\"lstm_model_withencoder_\"+str(input_step)+\"_F\"+str(i)+\".h5\")\n",
    "\n",
    "        # evaluate the model on the validation set and store the mse\n",
    "        y_pred = model.predict(X_val)\n",
    "        val_acc = mean_absolute_error(y_val, y_pred)\n",
    "        val_mae.append(val_acc)\n",
    "        val_acc = mean_squared_error(y_val, y_pred)\n",
    "        val_mse.append(val_acc)\n",
    "        val_acc = MAPE(y_val, y_pred)\n",
    "        val_mape.append(val_acc)\n",
    "        del X_train,y_train,X_val,y_val\n",
    "        gc.collect()\n",
    "\n",
    "    # print the mean and standard deviation of the validation mse\n",
    "    print(\"initailizer number\",i)\n",
    "    print(f'Validation mae: {np.mean(val_mae):.5f} ± {np.std(val_mae):.5f}')\n",
    "    print(f'Validation mse: {np.mean(val_mse):.5f} ± {np.std(val_mse):.5f}')\n",
    "    print(f'Validation mape: {np.mean(val_mape):.5f} ± {np.std(val_mape):.5f}')"
   ]
  },
  {
   "cell_type": "code",
   "execution_count": 40,
   "id": "54bdd42f",
   "metadata": {
    "scrolled": true
   },
   "outputs": [
    {
     "name": "stderr",
     "output_type": "stream",
     "text": [
      "C:\\Users\\sarbaoui01\\Anaconda3\\lib\\site-packages\\keras\\initializers\\initializers_v2.py:120: UserWarning: The initializer GlorotUniform is unseeded and being called multiple times, which will return identical values  each time (even if the initializer is unseeded). Please update your code to provide a seed to the initializer, or avoid using the same initalizer instance more than once.\n",
      "  warnings.warn(\n"
     ]
    },
    {
     "name": "stdout",
     "output_type": "stream",
     "text": [
      "2799/2799 [==============================] - 36s 13ms/step - loss: 0.0275 - mae: 0.0275 - mse: 0.0048 - root_mean_squared_error: 0.0693 - mean_absolute_percentage_error: 2.9418\n",
      "700/700 [==============================] - 3s 4ms/step\n"
     ]
    },
    {
     "name": "stderr",
     "output_type": "stream",
     "text": [
      "C:\\Users\\sarbaoui01\\Anaconda3\\lib\\site-packages\\keras\\initializers\\initializers_v2.py:120: UserWarning: The initializer GlorotUniform is unseeded and being called multiple times, which will return identical values  each time (even if the initializer is unseeded). Please update your code to provide a seed to the initializer, or avoid using the same initalizer instance more than once.\n",
      "  warnings.warn(\n"
     ]
    },
    {
     "name": "stdout",
     "output_type": "stream",
     "text": [
      "2799/2799 [==============================] - 37s 13ms/step - loss: 0.0270 - mae: 0.0270 - mse: 0.0045 - root_mean_squared_error: 0.0667 - mean_absolute_percentage_error: 2.8990\n",
      "700/700 [==============================] - 3s 4ms/step\n"
     ]
    },
    {
     "name": "stderr",
     "output_type": "stream",
     "text": [
      "C:\\Users\\sarbaoui01\\Anaconda3\\lib\\site-packages\\keras\\initializers\\initializers_v2.py:120: UserWarning: The initializer GlorotUniform is unseeded and being called multiple times, which will return identical values  each time (even if the initializer is unseeded). Please update your code to provide a seed to the initializer, or avoid using the same initalizer instance more than once.\n",
      "  warnings.warn(\n"
     ]
    },
    {
     "name": "stdout",
     "output_type": "stream",
     "text": [
      "2799/2799 [==============================] - 37s 13ms/step - loss: 0.0236 - mae: 0.0236 - mse: 0.0041 - root_mean_squared_error: 0.0643 - mean_absolute_percentage_error: 2.5113\n",
      "700/700 [==============================] - 3s 5ms/step\n"
     ]
    },
    {
     "name": "stderr",
     "output_type": "stream",
     "text": [
      "C:\\Users\\sarbaoui01\\Anaconda3\\lib\\site-packages\\keras\\initializers\\initializers_v2.py:120: UserWarning: The initializer GlorotUniform is unseeded and being called multiple times, which will return identical values  each time (even if the initializer is unseeded). Please update your code to provide a seed to the initializer, or avoid using the same initalizer instance more than once.\n",
      "  warnings.warn(\n"
     ]
    },
    {
     "name": "stdout",
     "output_type": "stream",
     "text": [
      "2799/2799 [==============================] - 38s 13ms/step - loss: 0.0238 - mae: 0.0238 - mse: 0.0042 - root_mean_squared_error: 0.0646 - mean_absolute_percentage_error: 2.5370\n",
      "700/700 [==============================] - 3s 4ms/step\n"
     ]
    },
    {
     "name": "stderr",
     "output_type": "stream",
     "text": [
      "C:\\Users\\sarbaoui01\\Anaconda3\\lib\\site-packages\\keras\\initializers\\initializers_v2.py:120: UserWarning: The initializer GlorotUniform is unseeded and being called multiple times, which will return identical values  each time (even if the initializer is unseeded). Please update your code to provide a seed to the initializer, or avoid using the same initalizer instance more than once.\n",
      "  warnings.warn(\n"
     ]
    },
    {
     "name": "stdout",
     "output_type": "stream",
     "text": [
      "2799/2799 [==============================] - 38s 13ms/step - loss: 0.0277 - mae: 0.0277 - mse: 0.0047 - root_mean_squared_error: 0.0686 - mean_absolute_percentage_error: 2.9640\n",
      "700/700 [==============================] - 3s 4ms/step\n",
      "Validation mae: 0.00863 ± 0.00062\n",
      "Validation mse: 0.00017 ± 0.00002\n",
      "Validation mape: 0.91454 ± 0.06296\n"
     ]
    }
   ],
   "source": [
    "X = XT  # your features\n",
    "y = YT  # your target variable\n",
    "\n",
    "# set up the k-fold cross-validation object\n",
    "k =5   # number of folds\n",
    "kf = KFold(n_splits=k, shuffle=True, random_state=42)\n",
    "val_mae = []\n",
    "val_mse = []\n",
    "val_mape=[]\n",
    "i=0\n",
    "\n",
    "    # loop over the k folds\n",
    "for train_index, val_index in kf.split(X):\n",
    "        # split the data into training and validation sets\n",
    "        X_train, y_train = X[train_index], y[train_index]\n",
    "        X_val, y_val = X[val_index], y[val_index]\n",
    "        model=createModel(input_shape,output_step,init[0]) #each time we create a model the weights will be initailize with default value given by keras\n",
    "\n",
    "\n",
    "\n",
    "        # train your model on the training set\n",
    "        model.fit(X_train, y_train)\n",
    "        model.save(\"lstm_model_withencoder_\"+str(input_step)+\"_F\"+str(i)+\".h5\")\n",
    "\n",
    "        # evaluate the model on the validation set and store the mse\n",
    "        y_pred = model.predict(X_val)\n",
    "        val_acc = mean_absolute_error(y_val, y_pred)\n",
    "        val_mae.append(val_acc)\n",
    "        val_acc = mean_squared_error(y_val, y_pred)\n",
    "        val_mse.append(val_acc)\n",
    "        val_acc = MAPE(y_val, y_pred)\n",
    "        val_mape.append(val_acc)\n",
    "        del X_train,y_train,X_val,y_val\n",
    "        gc.collect()\n",
    "        i=i+1\n",
    "\n",
    "    # print the mean and standard deviation of the validation mse\n",
    "    \n",
    "print(f'Validation mae: {np.mean(val_mae):.5f} ± {np.std(val_mae):.5f}')\n",
    "print(f'Validation mse: {np.mean(val_mse):.5f} ± {np.std(val_mse):.5f}')\n",
    "print(f'Validation mape: {np.mean(val_mape):.5f} ± {np.std(val_mape):.5f}')"
   ]
  },
  {
   "cell_type": "code",
   "execution_count": 41,
   "id": "eae22709",
   "metadata": {},
   "outputs": [
    {
     "data": {
      "text/plain": [
       "([0.008969055, 0.008443648, 0.0081839105, 0.007895408, 0.009653093],\n",
       " [0.9472237899899483,\n",
       "  0.8961474522948265,\n",
       "  0.8708125911653042,\n",
       "  0.8396127261221409,\n",
       "  1.0188856162130833])"
      ]
     },
     "execution_count": 41,
     "metadata": {},
     "output_type": "execute_result"
    }
   ],
   "source": [
    "val_mae,val_mape"
   ]
  },
  {
   "cell_type": "markdown",
   "id": "f61e353e",
   "metadata": {},
   "source": [
    "# CNN-LSTM model"
   ]
  },
  {
   "cell_type": "code",
   "execution_count": 42,
   "id": "2dc5c69b",
   "metadata": {},
   "outputs": [],
   "source": [
    "from keras.models import Sequential\n",
    "from keras.layers import Conv2D, MaxPooling2D, LSTM, Dense, Flatten, Reshape, Dropout, BatchNormalization\n",
    "from keras.optimizers import Adam\n",
    "from keras.callbacks import EarlyStopping, LearningRateScheduler, ModelCheckpoint\n",
    "import tensorflow as tf\n",
    "\n",
    "def create_model2(init):\n",
    "    \n",
    "# Define CNN-LSTM model architecture\n",
    "    model2 = Sequential()\n",
    "\n",
    "    # Convolutional layers\n",
    "    model2.add(Conv2D(32, (3, 3), activation='relu', input_shape=(input_step, 6, 500), kernel_initializer=init))\n",
    "    model2.add(MaxPooling2D(pool_size=(2, 2)))\n",
    "\n",
    "    # Flatten and reshape for LSTM\n",
    "    model2.add(Flatten())\n",
    "    model2.add(Reshape((8, 32))) #8,32 for 10 input window\n",
    "\n",
    "    # LSTM layers\n",
    "    model2.add(LSTM(32, return_sequences=True, kernel_initializer=init))\n",
    "    model2.add(LSTM(32, return_sequences=False, kernel_initializer=init))\n",
    "\n",
    "\n",
    "    # Dense layer\n",
    "    model2.add(Dense(output_step, activation='sigmoid', kernel_initializer=init))\n",
    "\n",
    "    # Compile model\n",
    "    opt = Adam(learning_rate=0.001)\n",
    "    model2.compile(loss='mean_absolute_error', optimizer=opt, metrics=['mae', 'mse', tf.keras.metrics.RootMeanSquaredError(), tf.keras.metrics.MeanAbsolutePercentageError()])\n",
    "\n",
    "    \n",
    "    return model2\n",
    "\n"
   ]
  },
  {
   "cell_type": "code",
   "execution_count": 43,
   "id": "b22d6c45",
   "metadata": {},
   "outputs": [],
   "source": [
    "X11=np.load(\"X1_\"+str(input_step)+\".npy\")\n",
    "X22=np.load(\"X2_\"+str(input_step)+\".npy\")"
   ]
  },
  {
   "cell_type": "code",
   "execution_count": 44,
   "id": "eb469055",
   "metadata": {},
   "outputs": [],
   "source": [
    "Y1=np.load(\"Y1_\"+str(output_step)+\".npy\",allow_pickle=True)\n",
    "Y2=np.load(\"Y2_\"+str(output_step)+\".npy\",allow_pickle=True)"
   ]
  },
  {
   "cell_type": "code",
   "execution_count": 45,
   "id": "8a932401",
   "metadata": {},
   "outputs": [
    {
     "data": {
      "text/plain": [
       "((56936, 10, 6, 500), (55002, 10, 6, 500))"
      ]
     },
     "execution_count": 45,
     "metadata": {},
     "output_type": "execute_result"
    }
   ],
   "source": [
    "X11.shape,X22.shape"
   ]
  },
  {
   "cell_type": "code",
   "execution_count": 46,
   "id": "fd6e35c5",
   "metadata": {},
   "outputs": [],
   "source": [
    "X11=np.float32(X11)\n",
    "X22=np.float32(X22)"
   ]
  },
  {
   "cell_type": "code",
   "execution_count": 47,
   "id": "d4df63d0",
   "metadata": {},
   "outputs": [],
   "source": [
    "Y1=np.float32(Y1)\n",
    "Y2=np.float32(Y2)"
   ]
  },
  {
   "cell_type": "code",
   "execution_count": 48,
   "id": "76829d51",
   "metadata": {},
   "outputs": [
    {
     "data": {
      "text/plain": [
       "(56936, 10)"
      ]
     },
     "execution_count": 48,
     "metadata": {},
     "output_type": "execute_result"
    }
   ],
   "source": [
    "Y1.shape"
   ]
  },
  {
   "cell_type": "code",
   "execution_count": 49,
   "id": "da303911",
   "metadata": {},
   "outputs": [],
   "source": [
    "XT=np.concatenate((X11, X22), axis=0)"
   ]
  },
  {
   "cell_type": "code",
   "execution_count": 50,
   "id": "fe3baee5",
   "metadata": {},
   "outputs": [
    {
     "data": {
      "text/plain": [
       "(111938, 10, 6, 500)"
      ]
     },
     "execution_count": 50,
     "metadata": {},
     "output_type": "execute_result"
    }
   ],
   "source": [
    "XT.shape"
   ]
  },
  {
   "cell_type": "code",
   "execution_count": 51,
   "id": "ec239c87",
   "metadata": {},
   "outputs": [],
   "source": [
    "YT=np.concatenate((Y1, Y2), axis=0)"
   ]
  },
  {
   "cell_type": "code",
   "execution_count": 52,
   "id": "66621e18",
   "metadata": {},
   "outputs": [
    {
     "data": {
      "text/plain": [
       "(111938, 10)"
      ]
     },
     "execution_count": 52,
     "metadata": {},
     "output_type": "execute_result"
    }
   ],
   "source": [
    "YT.shape"
   ]
  },
  {
   "cell_type": "code",
   "execution_count": 53,
   "id": "a23a4068",
   "metadata": {},
   "outputs": [
    {
     "name": "stderr",
     "output_type": "stream",
     "text": [
      "C:\\Users\\sarbaoui01\\Anaconda3\\lib\\site-packages\\keras\\initializers\\initializers_v2.py:120: UserWarning: The initializer GlorotUniform is unseeded and being called multiple times, which will return identical values  each time (even if the initializer is unseeded). Please update your code to provide a seed to the initializer, or avoid using the same initalizer instance more than once.\n",
      "  warnings.warn(\n"
     ]
    },
    {
     "name": "stdout",
     "output_type": "stream",
     "text": [
      "2799/2799 [==============================] - 42s 14ms/step - loss: 0.0213 - mae: 0.0213 - mse: 0.0022 - root_mean_squared_error: 0.0469 - mean_absolute_percentage_error: 2.2788\n",
      "700/700 [==============================] - 6s 7ms/step\n"
     ]
    },
    {
     "name": "stderr",
     "output_type": "stream",
     "text": [
      "C:\\Users\\sarbaoui01\\Anaconda3\\lib\\site-packages\\keras\\initializers\\initializers_v2.py:120: UserWarning: The initializer GlorotUniform is unseeded and being called multiple times, which will return identical values  each time (even if the initializer is unseeded). Please update your code to provide a seed to the initializer, or avoid using the same initalizer instance more than once.\n",
      "  warnings.warn(\n"
     ]
    },
    {
     "name": "stdout",
     "output_type": "stream",
     "text": [
      "2799/2799 [==============================] - 73s 25ms/step - loss: 0.0174 - mae: 0.0174 - mse: 0.0017 - root_mean_squared_error: 0.0413 - mean_absolute_percentage_error: 1.8507\n",
      "700/700 [==============================] - 11s 14ms/step\n"
     ]
    },
    {
     "name": "stderr",
     "output_type": "stream",
     "text": [
      "C:\\Users\\sarbaoui01\\Anaconda3\\lib\\site-packages\\keras\\initializers\\initializers_v2.py:120: UserWarning: The initializer GlorotUniform is unseeded and being called multiple times, which will return identical values  each time (even if the initializer is unseeded). Please update your code to provide a seed to the initializer, or avoid using the same initalizer instance more than once.\n",
      "  warnings.warn(\n"
     ]
    },
    {
     "name": "stdout",
     "output_type": "stream",
     "text": [
      "2799/2799 [==============================] - 77s 26ms/step - loss: 0.0203 - mae: 0.0203 - mse: 0.0021 - root_mean_squared_error: 0.0459 - mean_absolute_percentage_error: 2.1733\n",
      "700/700 [==============================] - 7s 8ms/step\n"
     ]
    },
    {
     "name": "stderr",
     "output_type": "stream",
     "text": [
      "C:\\Users\\sarbaoui01\\Anaconda3\\lib\\site-packages\\keras\\initializers\\initializers_v2.py:120: UserWarning: The initializer GlorotUniform is unseeded and being called multiple times, which will return identical values  each time (even if the initializer is unseeded). Please update your code to provide a seed to the initializer, or avoid using the same initalizer instance more than once.\n",
      "  warnings.warn(\n"
     ]
    },
    {
     "name": "stdout",
     "output_type": "stream",
     "text": [
      "2799/2799 [==============================] - 83s 27ms/step - loss: 0.0278 - mae: 0.0278 - mse: 0.0027 - root_mean_squared_error: 0.0519 - mean_absolute_percentage_error: 3.0020\n",
      "700/700 [==============================] - 10s 11ms/step\n"
     ]
    },
    {
     "name": "stderr",
     "output_type": "stream",
     "text": [
      "C:\\Users\\sarbaoui01\\Anaconda3\\lib\\site-packages\\keras\\initializers\\initializers_v2.py:120: UserWarning: The initializer GlorotUniform is unseeded and being called multiple times, which will return identical values  each time (even if the initializer is unseeded). Please update your code to provide a seed to the initializer, or avoid using the same initalizer instance more than once.\n",
      "  warnings.warn(\n"
     ]
    },
    {
     "name": "stdout",
     "output_type": "stream",
     "text": [
      "2799/2799 [==============================] - 70s 24ms/step - loss: 0.0202 - mae: 0.0202 - mse: 0.0021 - root_mean_squared_error: 0.0456 - mean_absolute_percentage_error: 2.1639\n",
      "700/700 [==============================] - 8s 9ms/step\n",
      "initailizer number 0\n",
      "Validation mae: 0.00969 ± 0.00225\n",
      "Validation mse: 0.00023 ± 0.00009\n",
      "Validation mape: 1.02932 ± 0.23973\n",
      "2799/2799 [==============================] - 78s 24ms/step - loss: 0.2116 - mae: 0.2116 - mse: 0.0598 - root_mean_squared_error: 0.2445 - mean_absolute_percentage_error: 21.7736\n",
      "700/700 [==============================] - 6s 7ms/step\n",
      "2799/2799 [==============================] - 74s 24ms/step - loss: 0.2119 - mae: 0.2119 - mse: 0.0599 - root_mean_squared_error: 0.2448 - mean_absolute_percentage_error: 21.7915\n",
      "700/700 [==============================] - 7s 8ms/step\n",
      "2799/2799 [==============================] - 70s 24ms/step - loss: 0.2117 - mae: 0.2117 - mse: 0.0598 - root_mean_squared_error: 0.2446 - mean_absolute_percentage_error: 21.7804\n",
      "700/700 [==============================] - 7s 8ms/step\n",
      "2799/2799 [==============================] - 85s 28ms/step - loss: 0.2118 - mae: 0.2118 - mse: 0.0599 - root_mean_squared_error: 0.2447 - mean_absolute_percentage_error: 21.7865\n",
      "700/700 [==============================] - 7s 8ms/step\n",
      "2799/2799 [==============================] - 69s 23ms/step - loss: 0.2117 - mae: 0.2117 - mse: 0.0598 - root_mean_squared_error: 0.2446 - mean_absolute_percentage_error: 21.7765\n",
      "700/700 [==============================] - 7s 9ms/step\n",
      "initailizer number 1\n",
      "Validation mae: 0.07270 ± 0.00007\n",
      "Validation mse: 0.00606 ± 0.00001\n",
      "Validation mape: 7.45178 ± 0.00529\n",
      "2799/2799 [==============================] - 77s 24ms/step - loss: 0.0353 - mae: 0.0353 - mse: 0.0039 - root_mean_squared_error: 0.0628 - mean_absolute_percentage_error: 3.8327\n",
      "700/700 [==============================] - 7s 8ms/step\n",
      "2799/2799 [==============================] - 81s 28ms/step - loss: 0.0356 - mae: 0.0356 - mse: 0.0040 - root_mean_squared_error: 0.0635 - mean_absolute_percentage_error: 3.8614\n",
      "700/700 [==============================] - 8s 9ms/step\n",
      "2799/2799 [==============================] - 72s 24ms/step - loss: 0.0353 - mae: 0.0353 - mse: 0.0039 - root_mean_squared_error: 0.0623 - mean_absolute_percentage_error: 3.8300\n",
      "700/700 [==============================] - 8s 9ms/step\n",
      "2799/2799 [==============================] - 82s 26ms/step - loss: 0.0354 - mae: 0.0354 - mse: 0.0040 - root_mean_squared_error: 0.0629 - mean_absolute_percentage_error: 3.8359\n",
      "700/700 [==============================] - 11s 14ms/step\n",
      "2799/2799 [==============================] - 75s 25ms/step - loss: 0.0356 - mae: 0.0356 - mse: 0.0040 - root_mean_squared_error: 0.0634 - mean_absolute_percentage_error: 3.8623\n",
      "700/700 [==============================] - 8s 10ms/step\n",
      "initailizer number 2\n",
      "Validation mae: 0.03024 ± 0.00020\n",
      "Validation mse: 0.00221 ± 0.00003\n",
      "Validation mape: 3.31564 ± 0.02292\n",
      "2799/2799 [==============================] - 77s 25ms/step - loss: 0.0359 - mae: 0.0359 - mse: 0.0041 - root_mean_squared_error: 0.0643 - mean_absolute_percentage_error: 3.8930\n",
      "700/700 [==============================] - 7s 8ms/step\n",
      "2799/2799 [==============================] - 77s 26ms/step - loss: 0.0356 - mae: 0.0356 - mse: 0.0040 - root_mean_squared_error: 0.0636 - mean_absolute_percentage_error: 3.8612\n",
      "700/700 [==============================] - 8s 9ms/step\n",
      "2799/2799 [==============================] - 72s 24ms/step - loss: 0.0357 - mae: 0.0357 - mse: 0.0041 - root_mean_squared_error: 0.0639 - mean_absolute_percentage_error: 3.8714\n",
      "700/700 [==============================] - 7s 9ms/step\n",
      "2799/2799 [==============================] - 86s 29ms/step - loss: 0.0359 - mae: 0.0359 - mse: 0.0042 - root_mean_squared_error: 0.0646 - mean_absolute_percentage_error: 3.8909\n",
      "700/700 [==============================] - 9s 10ms/step\n",
      "2799/2799 [==============================] - 75s 25ms/step - loss: 0.0358 - mae: 0.0358 - mse: 0.0041 - root_mean_squared_error: 0.0640 - mean_absolute_percentage_error: 3.8774\n",
      "700/700 [==============================] - 9s 11ms/step\n",
      "initailizer number 3\n",
      "Validation mae: 0.03025 ± 0.00020\n",
      "Validation mse: 0.00222 ± 0.00003\n",
      "Validation mape: 3.31740 ± 0.02246\n",
      "2799/2799 [==============================] - 91s 28ms/step - loss: 0.0185 - mae: 0.0185 - mse: 0.0019 - root_mean_squared_error: 0.0435 - mean_absolute_percentage_error: 1.9629\n",
      "700/700 [==============================] - 10s 12ms/step\n",
      "2799/2799 [==============================] - 77s 26ms/step - loss: 0.0194 - mae: 0.0194 - mse: 0.0020 - root_mean_squared_error: 0.0450 - mean_absolute_percentage_error: 2.0656\n",
      "700/700 [==============================] - 8s 10ms/step\n",
      "2799/2799 [==============================] - 75s 24ms/step - loss: 0.0213 - mae: 0.0213 - mse: 0.0024 - root_mean_squared_error: 0.0485 - mean_absolute_percentage_error: 2.2745\n",
      "700/700 [==============================] - 7s 8ms/step\n",
      "2799/2799 [==============================] - 73s 24ms/step - loss: 0.0275 - mae: 0.0275 - mse: 0.0028 - root_mean_squared_error: 0.0529 - mean_absolute_percentage_error: 2.9650\n",
      "700/700 [==============================] - 7s 8ms/step\n",
      "2799/2799 [==============================] - 73s 25ms/step - loss: 0.0195 - mae: 0.0195 - mse: 0.0019 - root_mean_squared_error: 0.0435 - mean_absolute_percentage_error: 2.0823\n",
      "700/700 [==============================] - 7s 9ms/step\n",
      "initailizer number 4\n",
      "Validation mae: 0.00994 ± 0.00209\n",
      "Validation mse: 0.00024 ± 0.00008\n",
      "Validation mape: 1.06113 ± 0.22154\n"
     ]
    }
   ],
   "source": [
    "X = XT  # your features\n",
    "y = YT  # your target variable\n",
    "\n",
    "# set up the k-fold cross-validation object\n",
    "k =5   # number of folds\n",
    "kf = KFold(n_splits=k, shuffle=True, random_state=42)\n",
    "\n",
    "# initialize a list to store the validation accuracies\n",
    "for i in range(0,len(init)):\n",
    "    val_mae = []\n",
    "    val_mse = []\n",
    "    val_mape=[]\n",
    "\n",
    "    # loop over the k folds\n",
    "    for train_index, val_index in kf.split(X):\n",
    "        # split the data into training and validation sets\n",
    "        X_train, y_train = X[train_index], y[train_index]\n",
    "        X_val, y_val = X[val_index], y[val_index]\n",
    "        model2=create_model2(init[i]) #each time we create a model the weights will be initailize with default value given by keras\n",
    "\n",
    "\n",
    "\n",
    "        # train your model on the training set\n",
    "        model2.fit(X_train, y_train)\n",
    "        #model.save(\"lstm_model_withencoder_\"+str(input_step)+\"_F\"+str(i)+\".h5\")\n",
    "\n",
    "        # evaluate the model on the validation set and store the mse\n",
    "        y_pred = model2.predict(X_val)\n",
    "        val_acc = mean_absolute_error(y_val, y_pred)\n",
    "        val_mae.append(val_acc)\n",
    "        val_acc = mean_squared_error(y_val, y_pred)\n",
    "        val_mse.append(val_acc)\n",
    "        val_acc = MAPE(y_val, y_pred)\n",
    "        val_mape.append(val_acc)\n",
    "        del X_train,y_train,X_val,y_val\n",
    "        gc.collect()\n",
    "\n",
    "    # print the mean and standard deviation of the validation mse\n",
    "    print(\"initailizer number\",i)\n",
    "    print(f'Validation mae: {np.mean(val_mae):.5f} ± {np.std(val_mae):.5f}')\n",
    "    print(f'Validation mse: {np.mean(val_mse):.5f} ± {np.std(val_mse):.5f}')\n",
    "    print(f'Validation mape: {np.mean(val_mape):.5f} ± {np.std(val_mape):.5f}')"
   ]
  },
  {
   "cell_type": "code",
   "execution_count": 54,
   "id": "038a791b",
   "metadata": {
    "scrolled": false
   },
   "outputs": [
    {
     "name": "stderr",
     "output_type": "stream",
     "text": [
      "C:\\Users\\sarbaoui01\\Anaconda3\\lib\\site-packages\\keras\\initializers\\initializers_v2.py:120: UserWarning: The initializer GlorotUniform is unseeded and being called multiple times, which will return identical values  each time (even if the initializer is unseeded). Please update your code to provide a seed to the initializer, or avoid using the same initalizer instance more than once.\n",
      "  warnings.warn(\n"
     ]
    },
    {
     "name": "stdout",
     "output_type": "stream",
     "text": [
      "2799/2799 [==============================] - 89s 29ms/step - loss: 0.0179 - mae: 0.0179 - mse: 0.0018 - root_mean_squared_error: 0.0427 - mean_absolute_percentage_error: 1.9131\n",
      "700/700 [==============================] - 8s 9ms/step\n"
     ]
    },
    {
     "name": "stderr",
     "output_type": "stream",
     "text": [
      "C:\\Users\\sarbaoui01\\Anaconda3\\lib\\site-packages\\keras\\initializers\\initializers_v2.py:120: UserWarning: The initializer GlorotUniform is unseeded and being called multiple times, which will return identical values  each time (even if the initializer is unseeded). Please update your code to provide a seed to the initializer, or avoid using the same initalizer instance more than once.\n",
      "  warnings.warn(\n"
     ]
    },
    {
     "name": "stdout",
     "output_type": "stream",
     "text": [
      "2799/2799 [==============================] - 70s 24ms/step - loss: 0.0190 - mae: 0.0190 - mse: 0.0020 - root_mean_squared_error: 0.0442 - mean_absolute_percentage_error: 2.0284\n",
      "700/700 [==============================] - 7s 9ms/step\n"
     ]
    },
    {
     "name": "stderr",
     "output_type": "stream",
     "text": [
      "C:\\Users\\sarbaoui01\\Anaconda3\\lib\\site-packages\\keras\\initializers\\initializers_v2.py:120: UserWarning: The initializer GlorotUniform is unseeded and being called multiple times, which will return identical values  each time (even if the initializer is unseeded). Please update your code to provide a seed to the initializer, or avoid using the same initalizer instance more than once.\n",
      "  warnings.warn(\n"
     ]
    },
    {
     "name": "stdout",
     "output_type": "stream",
     "text": [
      "2799/2799 [==============================] - 73s 24ms/step - loss: 0.0243 - mae: 0.0243 - mse: 0.0025 - root_mean_squared_error: 0.0495 - mean_absolute_percentage_error: 2.6095\n",
      "700/700 [==============================] - 8s 9ms/step\n"
     ]
    },
    {
     "name": "stderr",
     "output_type": "stream",
     "text": [
      "C:\\Users\\sarbaoui01\\Anaconda3\\lib\\site-packages\\keras\\initializers\\initializers_v2.py:120: UserWarning: The initializer GlorotUniform is unseeded and being called multiple times, which will return identical values  each time (even if the initializer is unseeded). Please update your code to provide a seed to the initializer, or avoid using the same initalizer instance more than once.\n",
      "  warnings.warn(\n"
     ]
    },
    {
     "name": "stdout",
     "output_type": "stream",
     "text": [
      "2799/2799 [==============================] - 71s 24ms/step - loss: 0.0197 - mae: 0.0197 - mse: 0.0020 - root_mean_squared_error: 0.0453 - mean_absolute_percentage_error: 2.1077\n",
      "700/700 [==============================] - 7s 8ms/step\n"
     ]
    },
    {
     "name": "stderr",
     "output_type": "stream",
     "text": [
      "C:\\Users\\sarbaoui01\\Anaconda3\\lib\\site-packages\\keras\\initializers\\initializers_v2.py:120: UserWarning: The initializer GlorotUniform is unseeded and being called multiple times, which will return identical values  each time (even if the initializer is unseeded). Please update your code to provide a seed to the initializer, or avoid using the same initalizer instance more than once.\n",
      "  warnings.warn(\n"
     ]
    },
    {
     "name": "stdout",
     "output_type": "stream",
     "text": [
      "2799/2799 [==============================] - 75s 26ms/step - loss: 0.0202 - mae: 0.0202 - mse: 0.0021 - root_mean_squared_error: 0.0460 - mean_absolute_percentage_error: 2.1616\n",
      "700/700 [==============================] - 8s 10ms/step\n",
      "Validation mae: 0.00908 ± 0.00089\n",
      "Validation mse: 0.00022 ± 0.00003\n",
      "Validation mape: 0.96933 ± 0.09746\n"
     ]
    }
   ],
   "source": [
    "X = XT  # your features\n",
    "y = YT  # your target variable\n",
    "\n",
    "# set up the k-fold cross-validation object\n",
    "k =5   # number of folds\n",
    "kf = KFold(n_splits=k, shuffle=True, random_state=42)\n",
    "val_mae = []\n",
    "val_mse = []\n",
    "val_mape=[]\n",
    "i=0\n",
    "\n",
    "    # loop over the k folds\n",
    "for train_index, val_index in kf.split(X):\n",
    "        # split the data into training and validation sets\n",
    "        X_train, y_train = X[train_index], y[train_index]\n",
    "        X_val, y_val = X[val_index], y[val_index]\n",
    "        model2=create_model2(init[0]) #each time we create a model the weights will be initailize with default value given by keras\n",
    "\n",
    "\n",
    "\n",
    "        # train your model on the training set\n",
    "        model2.fit(X_train, y_train)\n",
    "        model2.save(\"Cnn_lstm_model\"+str(input_step)+\"_F\"+str(i)+\".h5\")\n",
    "\n",
    "        # evaluate the model on the validation set and store the mse\n",
    "        y_pred = model2.predict(X_val)\n",
    "        val_acc = mean_absolute_error(y_val, y_pred)\n",
    "        val_mae.append(val_acc)\n",
    "        val_acc = mean_squared_error(y_val, y_pred)\n",
    "        val_mse.append(val_acc)\n",
    "        val_acc = MAPE(y_val, y_pred)\n",
    "        val_mape.append(val_acc)\n",
    "        del X_train,y_train,X_val,y_val\n",
    "        gc.collect()\n",
    "        i=i+1\n",
    "\n",
    "    # print the mean and standard deviation of the validation mse\n",
    "    \n",
    "print(f'Validation mae: {np.mean(val_mae):.5f} ± {np.std(val_mae):.5f}')\n",
    "print(f'Validation mse: {np.mean(val_mse):.5f} ± {np.std(val_mse):.5f}')\n",
    "print(f'Validation mape: {np.mean(val_mape):.5f} ± {np.std(val_mape):.5f}')"
   ]
  },
  {
   "cell_type": "code",
   "execution_count": 55,
   "id": "4e2f407a",
   "metadata": {},
   "outputs": [
    {
     "data": {
      "text/plain": [
       "([0.008152902, 0.008875768, 0.01076179, 0.008605178, 0.0089819925],\n",
       " [0.8692710660398006,\n",
       "  0.9438121691346169,\n",
       "  1.1544696055352688,\n",
       "  0.9197669103741646,\n",
       "  0.9593067690730095])"
      ]
     },
     "execution_count": 55,
     "metadata": {},
     "output_type": "execute_result"
    }
   ],
   "source": [
    "val_mae,val_mape"
   ]
  }
 ],
 "metadata": {
  "kernelspec": {
   "display_name": "Python 3 (ipykernel)",
   "language": "python",
   "name": "python3"
  },
  "language_info": {
   "codemirror_mode": {
    "name": "ipython",
    "version": 3
   },
   "file_extension": ".py",
   "mimetype": "text/x-python",
   "name": "python",
   "nbconvert_exporter": "python",
   "pygments_lexer": "ipython3",
   "version": "3.9.13"
  }
 },
 "nbformat": 4,
 "nbformat_minor": 5
}
