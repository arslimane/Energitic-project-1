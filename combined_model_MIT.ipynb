{
 "cells": [
  {
   "cell_type": "code",
   "execution_count": 1,
   "id": "e74dc570",
   "metadata": {},
   "outputs": [],
   "source": [
    "from keras.models import load_model\n",
    "import numpy as np\n",
    "import pandas as pd\n",
    "import matplotlib.pyplot as plt\n",
    "from keras.layers import Input, Dense, Reshape, Flatten,Dropout\n",
    "from keras.models import Model\n",
    "from keras.models import load_model\n",
    "\n",
    "from tensorflow.keras.utils import plot_model\n",
    "import pydot\n",
    "import graphviz\n",
    "from scipy.signal import savgol_filter"
   ]
  },
  {
   "cell_type": "code",
   "execution_count": 2,
   "id": "44fda745",
   "metadata": {},
   "outputs": [],
   "source": [
    "input_step=25 #to be changed to 10,10\n",
    "output_step=50"
   ]
  },
  {
   "cell_type": "code",
   "execution_count": 37,
   "id": "27e13c53",
   "metadata": {},
   "outputs": [],
   "source": [
    "lstm_model = load_model(\"lstm_model_withencoder_\"+str(input_step)+\".h5\")\n"
   ]
  },
  {
   "cell_type": "code",
   "execution_count": 38,
   "id": "c81634c0",
   "metadata": {},
   "outputs": [],
   "source": [
    "encoder=load_model(\"encoder-simple_\"+str(input_step)+\".h5\")"
   ]
  },
  {
   "cell_type": "code",
   "execution_count": 39,
   "id": "25489a57",
   "metadata": {},
   "outputs": [
    {
     "name": "stdout",
     "output_type": "stream",
     "text": [
      "Model: \"model_4\"\n",
      "_________________________________________________________________\n",
      " Layer (type)                Output Shape              Param #   \n",
      "=================================================================\n",
      " input_3 (InputLayer)        [(None, 25, 6, 500)]      0         \n",
      "                                                                 \n",
      " flatten_1 (Flatten)         (None, 75000)             0         \n",
      "                                                                 \n",
      " dense_8 (Dense)             (None, 256)               19200256  \n",
      "                                                                 \n",
      " dense_9 (Dense)             (None, 128)               32896     \n",
      "                                                                 \n",
      " dense_10 (Dense)            (None, 100)               12900     \n",
      "                                                                 \n",
      " dense_11 (Dense)            (None, 1600)              161600    \n",
      "                                                                 \n",
      "=================================================================\n",
      "Total params: 19,407,652\n",
      "Trainable params: 19,407,652\n",
      "Non-trainable params: 0\n",
      "_________________________________________________________________\n"
     ]
    }
   ],
   "source": [
    "encoder.summary()"
   ]
  },
  {
   "cell_type": "code",
   "execution_count": 40,
   "id": "e8a2f1ac",
   "metadata": {},
   "outputs": [],
   "source": [
    "\n",
    "input_shape = (input_step,6,500)\n",
    "fsize=64\n",
    "\n",
    "input_layer = Input(shape=(input_shape))\n",
    "hidden_layer_0=encoder(input_layer)\n",
    "hidden_layer_1 =Reshape((input_step,fsize))(hidden_layer_0)\n",
    "output_layer = lstm_model(hidden_layer_1)\n",
    "\n",
    "model = Model(input_layer, output_layer)\n",
    "model.compile(optimizer='adam', loss='mae')"
   ]
  },
  {
   "cell_type": "code",
   "execution_count": 41,
   "id": "02b925b8",
   "metadata": {},
   "outputs": [],
   "source": [
    "X2=np.load(\"X2_\"+str(input_step)+\".npy\")\n",
    "Y2=np.load(\"Y2_\"+str(output_step)+\".npy\",\n",
    "           allow_pickle=True)"
   ]
  },
  {
   "cell_type": "code",
   "execution_count": 42,
   "id": "423ef405",
   "metadata": {},
   "outputs": [
    {
     "name": "stdout",
     "output_type": "stream",
     "text": [
      "1623/1623 [==============================] - 25s 15ms/step\n"
     ]
    }
   ],
   "source": [
    "predicted_y=model.predict(X2)"
   ]
  },
  {
   "cell_type": "code",
   "execution_count": 43,
   "id": "d45252a6",
   "metadata": {},
   "outputs": [
    {
     "data": {
      "text/plain": [
       "0.004437653436045513"
      ]
     },
     "execution_count": 43,
     "metadata": {},
     "output_type": "execute_result"
    }
   ],
   "source": [
    "from sklearn.metrics import mean_absolute_error\n",
    "mean_absolute_error(Y2,predicted_y)"
   ]
  },
  {
   "cell_type": "code",
   "execution_count": 44,
   "id": "00f3d112",
   "metadata": {},
   "outputs": [],
   "source": [
    "model.save(\"combined_model_lstm_encoder_\"+str(input_step)+\".h5\")"
   ]
  },
  {
   "cell_type": "markdown",
   "id": "73015a3c",
   "metadata": {},
   "source": [
    "# the prediction procuss"
   ]
  },
  {
   "cell_type": "code",
   "execution_count": 4,
   "id": "42bb19d3",
   "metadata": {},
   "outputs": [],
   "source": [
    "model=load_model(\"combined_model_lstm_encoder_\"+str(input_step)+\".h5\")"
   ]
  },
  {
   "cell_type": "code",
   "execution_count": 5,
   "id": "32f96ed9",
   "metadata": {},
   "outputs": [],
   "source": [
    "model_cnn=load_model(\"Cnn_lstm_model_\"+str(input_step)+\".h5\")"
   ]
  },
  {
   "cell_type": "code",
   "execution_count": 6,
   "id": "0b98be5f",
   "metadata": {},
   "outputs": [],
   "source": [
    "test_data=np.load(\"test_data.npy\",allow_pickle=True)"
   ]
  },
  {
   "cell_type": "code",
   "execution_count": 7,
   "id": "d60f3d16",
   "metadata": {},
   "outputs": [],
   "source": [
    "min_max=np.load(\"min_max.npy\")"
   ]
  },
  {
   "cell_type": "code",
   "execution_count": 8,
   "id": "60d81f26",
   "metadata": {},
   "outputs": [
    {
     "data": {
      "text/plain": [
       "56"
      ]
     },
     "execution_count": 8,
     "metadata": {},
     "output_type": "execute_result"
    }
   ],
   "source": [
    "len(test_data)"
   ]
  },
  {
   "cell_type": "code",
   "execution_count": 24,
   "id": "bda3f063",
   "metadata": {},
   "outputs": [],
   "source": [
    "x=test_data[50].drop([\"SOH\",\"charge_policy\"],axis=1)\n",
    "y=test_data[50][\"SOH\"]"
   ]
  },
  {
   "cell_type": "code",
   "execution_count": 25,
   "id": "d0e1f8c7",
   "metadata": {},
   "outputs": [],
   "source": [
    "def normalization(x,min_max):\n",
    "    t=np.zeros((len(x),6,500))\n",
    "    for i in range(len(x)):\n",
    "        x[\"Ic\"][i]= (x[\"Ic\"][i]-min_max[0])/(min_max[1]-min_max[0])\n",
    "        x[\"Id\"][i]= (x[\"Id\"][i]-min_max[2])/(min_max[3]-min_max[2])\n",
    "        x[\"Vc\"][i]= (x[\"Vc\"][i]-min_max[4])/(min_max[5]-min_max[4])\n",
    "        x[\"Vd\"][i]= (x[\"Vd\"][i]-min_max[6])/(min_max[7]-min_max[6])\n",
    "        x[\"Tc\"][i]= (x[\"Tc\"][i]-min_max[8])/(min_max[9]-min_max[8])\n",
    "        x[\"Td\"][i]= (x[\"Td\"][i]-min_max[10])/(min_max[11]-min_max[10])\n",
    "        t[i][0][0:min(500,len(x[\"Ic\"][i]))]=x[\"Ic\"][i][0:min(500,len(x[\"Ic\"][i]))]\n",
    "        t[i][1][0:min(500,len(x[\"Id\"][i]))]=x[\"Id\"][i][0:min(500,len(x[\"Id\"][i]))]\n",
    "        \n",
    "        t[i][2][0:min(500,len(x[\"Vc\"][i]))]=x[\"Vc\"][i][0:min(500,len(x[\"Vc\"][i]))]\n",
    "        t[i][3][0:min(500,len(x[\"Vd\"][i]))]=x[\"Vd\"][i][0:min(500,len(x[\"Vd\"][i]))]\n",
    "        \n",
    "        t[i][4][0:min(500,len(x[\"Tc\"][i]))]=x[\"Tc\"][i][0:min(500,len(x[\"Tc\"][i]))]\n",
    "        t[i][5][0:min(500,len(x[\"Td\"][i]))]=x[\"Td\"][i][0:min(500,len(x[\"Td\"][i]))]\n",
    "    \n",
    "    return t"
   ]
  },
  {
   "cell_type": "code",
   "execution_count": 26,
   "id": "c1be8579",
   "metadata": {},
   "outputs": [],
   "source": [
    "x=normalization(x,min_max)"
   ]
  },
  {
   "cell_type": "code",
   "execution_count": 27,
   "id": "2a953993",
   "metadata": {},
   "outputs": [],
   "source": [
    "def prepare_data(x):\n",
    "    data=[]\n",
    "    start=0\n",
    "    end=input_step\n",
    "    while (end<=len(x)):\n",
    "            data.append(x[start:end])\n",
    "            end=end+output_step\n",
    "            start=start+output_step\n",
    "    return data"
   ]
  },
  {
   "cell_type": "code",
   "execution_count": 28,
   "id": "8f1e214c",
   "metadata": {},
   "outputs": [],
   "source": [
    "yp_cnn=[]\n",
    "yp_lstm=[]\n",
    "x=prepare_data(x)\n",
    "for i in range(len(x)):\n",
    "    yp_cnn.append(model_cnn.predict(np.reshape(x[i],(1,input_step,6,500)),verbose=0))\n",
    "    yp_lstm.append(model.predict(np.reshape(x[i],(1,input_step,6,500)),verbose=0))\n",
    "   \n"
   ]
  },
  {
   "cell_type": "code",
   "execution_count": 29,
   "id": "7fd66426",
   "metadata": {},
   "outputs": [
    {
     "data": {
      "text/plain": [
       "(16, 1, 50)"
      ]
     },
     "execution_count": 29,
     "metadata": {},
     "output_type": "execute_result"
    }
   ],
   "source": [
    "np.shape(yp_cnn)"
   ]
  },
  {
   "cell_type": "code",
   "execution_count": 30,
   "id": "13e049a4",
   "metadata": {},
   "outputs": [],
   "source": [
    "\n",
    "yp_cnn=np.reshape(yp_cnn,(np.shape(yp_cnn)[0]*output_step))\n",
    "#yp_cnn=savgol_filter(yp_cnn , 35, 2)\n",
    "yp_lstm=np.reshape(yp_lstm,(np.shape(yp_lstm)[0]*output_step))\n",
    "#yp_lstm=savgol_filter(yp_lstm , 35, 2)"
   ]
  },
  {
   "cell_type": "code",
   "execution_count": 31,
   "id": "21876cb5",
   "metadata": {},
   "outputs": [
    {
     "data": {
      "image/png": "[encoded data removed]",
      "text/plain": [
       "<Figure size 640x480 with 1 Axes>"
      ]
     },
     "metadata": {},
     "output_type": "display_data"
    }
   ],
   "source": [
    "fig, ax = plt.subplots()\n",
    "plt.plot(y,color=\"black\",label=\"true values\")\n",
    "plt.plot(range(input_step,len(yp_cnn)+input_step,1),yp_cnn,label=\"prediction values of cnn_lstm model\",color=\"red\")\n",
    "plt.plot(range(input_step,len(yp_lstm)+input_step,1),yp_lstm,label=\"prediction values of Encoder_lstm model\",color=\"blue\")\n",
    "plt.axvline(x=input_step,color='orange', linestyle='--')\n",
    "plt.text(input_step+5, 0.9, 'Prediction start',color=\"orange\")\n",
    "plt.legend()\n",
    "plt.xlabel(\"cycle number\")\n",
    "plt.ylabel(\"SOH\")\n",
    "plt.title(str(input_step)+\"-step input window, \"+str(output_step)+\"-step ahead prediction\")\n",
    "fig.savefig(\"prediction-\"+str(input_step)+\".pdf\", format=\"pdf\", dpi=1200)"
   ]
  },
  {
   "cell_type": "markdown",
   "id": "6f2e6755",
   "metadata": {},
   "source": [
    "# evaluation"
   ]
  },
  {
   "cell_type": "code",
   "execution_count": 60,
   "id": "04fe6fd6",
   "metadata": {},
   "outputs": [],
   "source": [
    "X2=np.load(\"X2_\"+str(input_step)+\".npy\")\n",
    "Y2=np.load(\"Y2_\"+str(output_step)+\".npy\",allow_pickle=True)"
   ]
  },
  {
   "cell_type": "code",
   "execution_count": 61,
   "id": "5346b44d",
   "metadata": {},
   "outputs": [],
   "source": [
    "def MAPE(Y_actual,Y_Predicted):\n",
    "    mape = np.mean(np.abs((Y_actual - Y_Predicted)/Y_actual))*100\n",
    "    return mape"
   ]
  },
  {
   "cell_type": "code",
   "execution_count": null,
   "id": "a2eb02d0",
   "metadata": {},
   "outputs": [
    {
     "name": "stdout",
     "output_type": "stream",
     "text": [
      "1623/1623 [==============================] - 28s 17ms/step\n"
     ]
    }
   ],
   "source": [
    "from sklearn import metrics\n",
    "import statistics \n",
    "ytrue=Y2\n",
    "ylstm=model.predict(X2)\n",
    "ycnn=model_cnn.predict(X2)\n",
    "\n",
    "\n",
    "mael = metrics.mean_absolute_error(ylstm, ytrue)\n",
    "maecnn = metrics.mean_absolute_error(ycnn, ytrue)\n",
    "mse1 = metrics.mean_squared_error(ylstm, ytrue)\n",
    "msecnn = metrics.mean_squared_error(ycnn, ytrue)\n",
    "rmse1 = np.sqrt(mse1)\n",
    "rmsecnn = np.sqrt(msecnn)# or mse**(0.5)  \n",
    "\n",
    "\n",
    "print(\"Results of sklearn.metrics:\")\n",
    "print(\"MAE E-lstm:\",mael)\n",
    "print(\"MAE cnn-lstm:\",maecnn)\n",
    "print(\"MSE E-lstm:\", mse1)\n",
    "print(\"MSE cnn-lstm:\", msecnn)\n",
    "print(\"RMSE E-lstm:\", rmse1)\n",
    "print(\"RMSE cnn-lstm:\", rmsecnn)\n",
    "\n",
    "\n"
   ]
  },
  {
   "cell_type": "code",
   "execution_count": null,
   "id": "4347b273",
   "metadata": {},
   "outputs": [],
   "source": [
    "MAPEL=MAPE(ylstm,Y2)\n",
    "MAPEcnn=MAPE(ycnn,Y2)\n",
    "print(\"MAPE E-lstm: \",MAPEL)\n",
    "print(\"MAPE cnn-lstm: \",MAPEcnn)"
   ]
  }
 ],
 "metadata": {
  "kernelspec": {
   "display_name": "Python 3 (ipykernel)",
   "language": "python",
   "name": "python3"
  },
  "language_info": {
   "codemirror_mode": {
    "name": "ipython",
    "version": 3
   },
   "file_extension": ".py",
   "mimetype": "text/x-python",
   "name": "python",
   "nbconvert_exporter": "python",
   "pygments_lexer": "ipython3",
   "version": "3.9.13"
  }
 },
 "nbformat": 4,
 "nbformat_minor": 5
}
