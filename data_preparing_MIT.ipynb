{
 "cells": [
  {
   "cell_type": "code",
   "execution_count": 1,
   "id": "2a4c4d58",
   "metadata": {
    "id": "2a4c4d58"
   },
   "outputs": [],
   "source": [
    "import numpy as np\n",
    "import tensorflow as tf"
   ]
  },
  {
   "cell_type": "code",
   "execution_count": 27,
   "id": "1fc2bee0",
   "metadata": {},
   "outputs": [],
   "source": [
    "input_step=25 #to change after to 10,10\n",
    "output_step=50"
   ]
  },
  {
   "cell_type": "code",
   "execution_count": 28,
   "id": "1b644822",
   "metadata": {
    "id": "1b644822"
   },
   "outputs": [],
   "source": [
    "X1=np.load(\"X1_\"+str(input_step)+\".npy\")\n",
    "X2=np.load(\"X2_\"+str(input_step)+\".npy\")"
   ]
  },
  {
   "cell_type": "code",
   "execution_count": 29,
   "id": "0655e9db",
   "metadata": {
    "id": "0655e9db",
    "outputId": "749486aa-abcc-4d6c-90c1-9402b5a7ff0a",
    "scrolled": true
   },
   "outputs": [
    {
     "data": {
      "text/plain": [
       "(52316, 25, 6, 500)"
      ]
     },
     "execution_count": 29,
     "metadata": {},
     "output_type": "execute_result"
    }
   ],
   "source": [
    "X1.shape"
   ]
  },
  {
   "cell_type": "code",
   "execution_count": 30,
   "id": "3402d472",
   "metadata": {
    "colab": {
     "base_uri": "https://localhost:8080/"
    },
    "id": "3402d472",
    "outputId": "28005772-178a-4d01-8f0b-e9c16ca75ea7"
   },
   "outputs": [
    {
     "data": {
      "text/plain": [
       "(51922, 25, 6, 500)"
      ]
     },
     "execution_count": 30,
     "metadata": {},
     "output_type": "execute_result"
    }
   ],
   "source": [
    "X2.shape"
   ]
  },
  {
   "cell_type": "code",
   "execution_count": 31,
   "id": "f5b241e9",
   "metadata": {
    "id": "f5b241e9"
   },
   "outputs": [],
   "source": [
    "X1=np.float32(X1)\n",
    "X2=np.float32(X2)\n"
   ]
  },
  {
   "cell_type": "code",
   "execution_count": 32,
   "id": "759cfbf6",
   "metadata": {
    "id": "759cfbf6",
    "outputId": "3dcc018a-9b59-4fac-a51d-54f5645a112b"
   },
   "outputs": [
    {
     "name": "stdout",
     "output_type": "stream",
     "text": [
      "KerasTensor(type_spec=TensorSpec(shape=(None, 25, 6, 500), dtype=tf.float32, name='input_3'), name='input_3', description=\"created by layer 'input_3'\")\n",
      "Model: \"model_3\"\n",
      "_________________________________________________________________\n",
      " Layer (type)                Output Shape              Param #   \n",
      "=================================================================\n",
      " input_3 (InputLayer)        [(None, 25, 6, 500)]      0         \n",
      "                                                                 \n",
      " flatten_1 (Flatten)         (None, 75000)             0         \n",
      "                                                                 \n",
      " dense_8 (Dense)             (None, 256)               19200256  \n",
      "                                                                 \n",
      " dense_9 (Dense)             (None, 128)               32896     \n",
      "                                                                 \n",
      " dense_10 (Dense)            (None, 100)               12900     \n",
      "                                                                 \n",
      " dense_11 (Dense)            (None, 1600)              161600    \n",
      "                                                                 \n",
      " dense_12 (Dense)            (None, 256)               409856    \n",
      "                                                                 \n",
      " dense_13 (Dense)            (None, 128)               32896     \n",
      "                                                                 \n",
      " dense_14 (Dense)            (None, 256)               33024     \n",
      "                                                                 \n",
      " dense_15 (Dense)            (None, 75000)             19275000  \n",
      "                                                                 \n",
      " reshape_1 (Reshape)         (None, 25, 6, 500)        0         \n",
      "                                                                 \n",
      "=================================================================\n",
      "Total params: 39,158,428\n",
      "Trainable params: 39,158,428\n",
      "Non-trainable params: 0\n",
      "_________________________________________________________________\n",
      "Epoch 1/300\n",
      "818/818 [==============================] - 107s 130ms/step - loss: 0.0393 - mae: 0.0393 - mse: 0.0079 - root_mean_squared_error: 0.0887 - val_loss: 0.1076 - val_mae: 0.1076 - val_mse: 0.0446 - val_root_mean_squared_error: 0.2113\n",
      "Epoch 2/300\n",
      "818/818 [==============================] - 110s 135ms/step - loss: 0.0259 - mae: 0.0259 - mse: 0.0047 - root_mean_squared_error: 0.0686 - val_loss: 0.1022 - val_mae: 0.1022 - val_mse: 0.0422 - val_root_mean_squared_error: 0.2055\n",
      "Epoch 3/300\n",
      "818/818 [==============================] - 116s 142ms/step - loss: 0.0205 - mae: 0.0205 - mse: 0.0034 - root_mean_squared_error: 0.0583 - val_loss: 0.0945 - val_mae: 0.0945 - val_mse: 0.0368 - val_root_mean_squared_error: 0.1918\n",
      "Epoch 4/300\n",
      "818/818 [==============================] - 120s 147ms/step - loss: 0.0181 - mae: 0.0181 - mse: 0.0030 - root_mean_squared_error: 0.0547 - val_loss: 0.0934 - val_mae: 0.0934 - val_mse: 0.0360 - val_root_mean_squared_error: 0.1898\n",
      "Epoch 5/300\n",
      "818/818 [==============================] - 116s 142ms/step - loss: 0.0172 - mae: 0.0172 - mse: 0.0028 - root_mean_squared_error: 0.0531 - val_loss: 0.0938 - val_mae: 0.0938 - val_mse: 0.0366 - val_root_mean_squared_error: 0.1914\n",
      "Epoch 6/300\n",
      "818/818 [==============================] - 121s 148ms/step - loss: 0.0165 - mae: 0.0165 - mse: 0.0026 - root_mean_squared_error: 0.0513 - val_loss: 0.0918 - val_mae: 0.0918 - val_mse: 0.0351 - val_root_mean_squared_error: 0.1873\n",
      "Epoch 7/300\n",
      "818/818 [==============================] - 115s 141ms/step - loss: 0.0159 - mae: 0.0159 - mse: 0.0025 - root_mean_squared_error: 0.0502 - val_loss: 0.0909 - val_mae: 0.0909 - val_mse: 0.0345 - val_root_mean_squared_error: 0.1858\n",
      "Epoch 8/300\n",
      "818/818 [==============================] - 120s 147ms/step - loss: 0.0156 - mae: 0.0156 - mse: 0.0025 - root_mean_squared_error: 0.0496 - val_loss: 0.0897 - val_mae: 0.0897 - val_mse: 0.0335 - val_root_mean_squared_error: 0.1832\n",
      "Epoch 9/300\n",
      "818/818 [==============================] - 122s 149ms/step - loss: 0.0153 - mae: 0.0153 - mse: 0.0024 - root_mean_squared_error: 0.0492 - val_loss: 0.0877 - val_mae: 0.0877 - val_mse: 0.0321 - val_root_mean_squared_error: 0.1792\n",
      "Epoch 10/300\n",
      "818/818 [==============================] - 119s 145ms/step - loss: 0.0149 - mae: 0.0149 - mse: 0.0024 - root_mean_squared_error: 0.0488 - val_loss: 0.0864 - val_mae: 0.0864 - val_mse: 0.0312 - val_root_mean_squared_error: 0.1768\n",
      "Epoch 11/300\n",
      "818/818 [==============================] - 119s 145ms/step - loss: 0.0146 - mae: 0.0146 - mse: 0.0023 - root_mean_squared_error: 0.0483 - val_loss: 0.0854 - val_mae: 0.0854 - val_mse: 0.0309 - val_root_mean_squared_error: 0.1757\n",
      "Epoch 12/300\n",
      "818/818 [==============================] - 114s 139ms/step - loss: 0.0143 - mae: 0.0143 - mse: 0.0023 - root_mean_squared_error: 0.0478 - val_loss: 0.0835 - val_mae: 0.0835 - val_mse: 0.0299 - val_root_mean_squared_error: 0.1729\n",
      "Epoch 13/300\n",
      "818/818 [==============================] - 118s 145ms/step - loss: 0.0141 - mae: 0.0141 - mse: 0.0023 - root_mean_squared_error: 0.0476 - val_loss: 0.0818 - val_mae: 0.0818 - val_mse: 0.0296 - val_root_mean_squared_error: 0.1721\n",
      "Epoch 14/300\n",
      "818/818 [==============================] - 118s 144ms/step - loss: 0.0139 - mae: 0.0139 - mse: 0.0022 - root_mean_squared_error: 0.0473 - val_loss: 0.0813 - val_mae: 0.0813 - val_mse: 0.0293 - val_root_mean_squared_error: 0.1712\n",
      "Epoch 15/300\n",
      "818/818 [==============================] - 122s 149ms/step - loss: 0.0137 - mae: 0.0137 - mse: 0.0022 - root_mean_squared_error: 0.0472 - val_loss: 0.0807 - val_mae: 0.0807 - val_mse: 0.0290 - val_root_mean_squared_error: 0.1704\n",
      "Epoch 16/300\n",
      "818/818 [==============================] - 119s 146ms/step - loss: 0.0136 - mae: 0.0136 - mse: 0.0022 - root_mean_squared_error: 0.0470 - val_loss: 0.0799 - val_mae: 0.0799 - val_mse: 0.0284 - val_root_mean_squared_error: 0.1684\n",
      "Epoch 17/300\n",
      "818/818 [==============================] - 117s 143ms/step - loss: 0.0135 - mae: 0.0135 - mse: 0.0022 - root_mean_squared_error: 0.0469 - val_loss: 0.0790 - val_mae: 0.0790 - val_mse: 0.0277 - val_root_mean_squared_error: 0.1665\n",
      "Epoch 18/300\n",
      "818/818 [==============================] - 123s 150ms/step - loss: 0.0133 - mae: 0.0133 - mse: 0.0022 - root_mean_squared_error: 0.0468 - val_loss: 0.0782 - val_mae: 0.0782 - val_mse: 0.0271 - val_root_mean_squared_error: 0.1646\n",
      "Epoch 19/300\n",
      "818/818 [==============================] - 121s 147ms/step - loss: 0.0132 - mae: 0.0132 - mse: 0.0022 - root_mean_squared_error: 0.0467 - val_loss: 0.0767 - val_mae: 0.0767 - val_mse: 0.0263 - val_root_mean_squared_error: 0.1622\n",
      "Epoch 20/300\n",
      "818/818 [==============================] - 120s 146ms/step - loss: 0.0131 - mae: 0.0131 - mse: 0.0022 - root_mean_squared_error: 0.0466 - val_loss: 0.0764 - val_mae: 0.0764 - val_mse: 0.0257 - val_root_mean_squared_error: 0.1604\n",
      "Epoch 21/300\n",
      "818/818 [==============================] - 121s 148ms/step - loss: 0.0130 - mae: 0.0130 - mse: 0.0022 - root_mean_squared_error: 0.0465 - val_loss: 0.0750 - val_mae: 0.0750 - val_mse: 0.0248 - val_root_mean_squared_error: 0.1576\n",
      "Epoch 22/300\n",
      "818/818 [==============================] - 119s 145ms/step - loss: 0.0128 - mae: 0.0128 - mse: 0.0021 - root_mean_squared_error: 0.0463 - val_loss: 0.0737 - val_mae: 0.0737 - val_mse: 0.0246 - val_root_mean_squared_error: 0.1568\n",
      "Epoch 23/300\n",
      "818/818 [==============================] - 120s 147ms/step - loss: 0.0127 - mae: 0.0127 - mse: 0.0021 - root_mean_squared_error: 0.0461 - val_loss: 0.0724 - val_mae: 0.0724 - val_mse: 0.0241 - val_root_mean_squared_error: 0.1553\n",
      "Epoch 24/300\n",
      "818/818 [==============================] - 119s 146ms/step - loss: 0.0126 - mae: 0.0126 - mse: 0.0021 - root_mean_squared_error: 0.0460 - val_loss: 0.0719 - val_mae: 0.0719 - val_mse: 0.0237 - val_root_mean_squared_error: 0.1540\n",
      "Epoch 25/300\n",
      "818/818 [==============================] - 116s 142ms/step - loss: 0.0124 - mae: 0.0124 - mse: 0.0021 - root_mean_squared_error: 0.0459 - val_loss: 0.0713 - val_mae: 0.0713 - val_mse: 0.0231 - val_root_mean_squared_error: 0.1521\n",
      "Epoch 26/300\n",
      "818/818 [==============================] - 123s 150ms/step - loss: 0.0123 - mae: 0.0123 - mse: 0.0021 - root_mean_squared_error: 0.0458 - val_loss: 0.0701 - val_mae: 0.0701 - val_mse: 0.0228 - val_root_mean_squared_error: 0.1510\n",
      "Epoch 27/300\n",
      "818/818 [==============================] - 121s 148ms/step - loss: 0.0122 - mae: 0.0122 - mse: 0.0021 - root_mean_squared_error: 0.0457 - val_loss: 0.0688 - val_mae: 0.0688 - val_mse: 0.0222 - val_root_mean_squared_error: 0.1491\n",
      "Epoch 28/300\n",
      "818/818 [==============================] - 119s 146ms/step - loss: 0.0122 - mae: 0.0122 - mse: 0.0021 - root_mean_squared_error: 0.0456 - val_loss: 0.0674 - val_mae: 0.0674 - val_mse: 0.0220 - val_root_mean_squared_error: 0.1482\n",
      "Epoch 29/300\n",
      "818/818 [==============================] - 120s 146ms/step - loss: 0.0121 - mae: 0.0121 - mse: 0.0021 - root_mean_squared_error: 0.0455 - val_loss: 0.0670 - val_mae: 0.0670 - val_mse: 0.0218 - val_root_mean_squared_error: 0.1476\n",
      "Epoch 30/300\n",
      "818/818 [==============================] - 117s 143ms/step - loss: 0.0120 - mae: 0.0120 - mse: 0.0021 - root_mean_squared_error: 0.0455 - val_loss: 0.0665 - val_mae: 0.0665 - val_mse: 0.0213 - val_root_mean_squared_error: 0.1459\n",
      "Epoch 31/300\n",
      "818/818 [==============================] - 124s 151ms/step - loss: 0.0120 - mae: 0.0120 - mse: 0.0021 - root_mean_squared_error: 0.0454 - val_loss: 0.0660 - val_mae: 0.0660 - val_mse: 0.0212 - val_root_mean_squared_error: 0.1455\n",
      "Epoch 32/300\n",
      "818/818 [==============================] - 123s 151ms/step - loss: 0.0120 - mae: 0.0120 - mse: 0.0021 - root_mean_squared_error: 0.0454 - val_loss: 0.0648 - val_mae: 0.0648 - val_mse: 0.0211 - val_root_mean_squared_error: 0.1451\n",
      "Epoch 33/300\n",
      "818/818 [==============================] - 117s 144ms/step - loss: 0.0119 - mae: 0.0119 - mse: 0.0021 - root_mean_squared_error: 0.0453 - val_loss: 0.0642 - val_mae: 0.0642 - val_mse: 0.0205 - val_root_mean_squared_error: 0.1433\n",
      "Epoch 34/300\n",
      "818/818 [==============================] - 121s 147ms/step - loss: 0.0118 - mae: 0.0118 - mse: 0.0021 - root_mean_squared_error: 0.0453 - val_loss: 0.0636 - val_mae: 0.0636 - val_mse: 0.0204 - val_root_mean_squared_error: 0.1428\n",
      "Epoch 35/300\n",
      "818/818 [==============================] - 109s 133ms/step - loss: 0.0118 - mae: 0.0118 - mse: 0.0020 - root_mean_squared_error: 0.0452 - val_loss: 0.0629 - val_mae: 0.0629 - val_mse: 0.0203 - val_root_mean_squared_error: 0.1425\n",
      "Epoch 36/300\n",
      "818/818 [==============================] - 116s 142ms/step - loss: 0.0118 - mae: 0.0118 - mse: 0.0020 - root_mean_squared_error: 0.0452 - val_loss: 0.0627 - val_mae: 0.0627 - val_mse: 0.0203 - val_root_mean_squared_error: 0.1424\n",
      "Epoch 37/300\n",
      "818/818 [==============================] - 114s 140ms/step - loss: 0.0117 - mae: 0.0117 - mse: 0.0020 - root_mean_squared_error: 0.0452 - val_loss: 0.0625 - val_mae: 0.0625 - val_mse: 0.0201 - val_root_mean_squared_error: 0.1419\n",
      "Epoch 38/300\n",
      "818/818 [==============================] - 112s 137ms/step - loss: 0.0117 - mae: 0.0117 - mse: 0.0020 - root_mean_squared_error: 0.0451 - val_loss: 0.0620 - val_mae: 0.0620 - val_mse: 0.0198 - val_root_mean_squared_error: 0.1409\n",
      "Epoch 39/300\n",
      "818/818 [==============================] - 112s 137ms/step - loss: 0.0117 - mae: 0.0117 - mse: 0.0020 - root_mean_squared_error: 0.0451 - val_loss: 0.0621 - val_mae: 0.0621 - val_mse: 0.0197 - val_root_mean_squared_error: 0.1403\n",
      "Epoch 40/300\n",
      "818/818 [==============================] - 108s 132ms/step - loss: 0.0116 - mae: 0.0116 - mse: 0.0020 - root_mean_squared_error: 0.0451 - val_loss: 0.0619 - val_mae: 0.0619 - val_mse: 0.0200 - val_root_mean_squared_error: 0.1413\n",
      "Epoch 41/300\n",
      "818/818 [==============================] - 111s 135ms/step - loss: 0.0116 - mae: 0.0116 - mse: 0.0020 - root_mean_squared_error: 0.0451 - val_loss: 0.0614 - val_mae: 0.0614 - val_mse: 0.0197 - val_root_mean_squared_error: 0.1403\n",
      "Epoch 42/300\n",
      "818/818 [==============================] - 110s 134ms/step - loss: 0.0116 - mae: 0.0116 - mse: 0.0020 - root_mean_squared_error: 0.0450 - val_loss: 0.0620 - val_mae: 0.0620 - val_mse: 0.0200 - val_root_mean_squared_error: 0.1413\n",
      "Epoch 43/300\n",
      "818/818 [==============================] - 119s 145ms/step - loss: 0.0116 - mae: 0.0116 - mse: 0.0020 - root_mean_squared_error: 0.0450 - val_loss: 0.0617 - val_mae: 0.0617 - val_mse: 0.0197 - val_root_mean_squared_error: 0.1403\n",
      "Epoch 44/300\n",
      "818/818 [==============================] - 130s 159ms/step - loss: 0.0115 - mae: 0.0115 - mse: 0.0020 - root_mean_squared_error: 0.0450 - val_loss: 0.0615 - val_mae: 0.0615 - val_mse: 0.0198 - val_root_mean_squared_error: 0.1406\n",
      "Epoch 45/300\n",
      "818/818 [==============================] - 129s 158ms/step - loss: 0.0115 - mae: 0.0115 - mse: 0.0020 - root_mean_squared_error: 0.0450 - val_loss: 0.0612 - val_mae: 0.0612 - val_mse: 0.0196 - val_root_mean_squared_error: 0.1400\n",
      "Epoch 46/300\n",
      "818/818 [==============================] - 120s 146ms/step - loss: 0.0115 - mae: 0.0115 - mse: 0.0020 - root_mean_squared_error: 0.0450 - val_loss: 0.0619 - val_mae: 0.0619 - val_mse: 0.0198 - val_root_mean_squared_error: 0.1406\n",
      "Epoch 47/300\n",
      "818/818 [==============================] - 114s 140ms/step - loss: 0.0114 - mae: 0.0114 - mse: 0.0020 - root_mean_squared_error: 0.0449 - val_loss: 0.0619 - val_mae: 0.0619 - val_mse: 0.0195 - val_root_mean_squared_error: 0.1398\n",
      "Epoch 48/300\n",
      "818/818 [==============================] - 127s 155ms/step - loss: 0.0114 - mae: 0.0114 - mse: 0.0020 - root_mean_squared_error: 0.0449 - val_loss: 0.0620 - val_mae: 0.0620 - val_mse: 0.0196 - val_root_mean_squared_error: 0.1399\n",
      "Epoch 49/300\n",
      "818/818 [==============================] - 134s 164ms/step - loss: 0.0113 - mae: 0.0113 - mse: 0.0020 - root_mean_squared_error: 0.0448 - val_loss: 0.0618 - val_mae: 0.0618 - val_mse: 0.0198 - val_root_mean_squared_error: 0.1406\n",
      "Epoch 50/300\n",
      "818/818 [==============================] - 128s 156ms/step - loss: 0.0112 - mae: 0.0112 - mse: 0.0020 - root_mean_squared_error: 0.0448 - val_loss: 0.0616 - val_mae: 0.0616 - val_mse: 0.0196 - val_root_mean_squared_error: 0.1398\n"
     ]
    },
    {
     "data": {
      "text/plain": [
       "<keras.callbacks.History at 0x1cdf067d8b0>"
      ]
     },
     "execution_count": 32,
     "metadata": {},
     "output_type": "execute_result"
    }
   ],
   "source": [
    "from keras.layers import Input, Dense, Reshape, Flatten,Dropout\n",
    "from keras.models import Model\n",
    "from keras.optimizers import Adam\n",
    "from tensorflow.keras.callbacks import EarlyStopping\n",
    "\n",
    "\n",
    "input_shape = (input_step,6,500)\n",
    "hidden_size1 = 256\n",
    "hidden_size2 = 128\n",
    "hidden_size3 = 100\n",
    "code_size = 64\n",
    "\n",
    "input_layer = Input(shape=(input_shape))\n",
    "print(input_layer)\n",
    "hidden_layer_0=Flatten()(input_layer)\n",
    "hidden_layer_1 = Dense(hidden_size1, activation='relu')(hidden_layer_0)\n",
    "hidden_layer_2 = Dense(hidden_size2, activation='relu')(hidden_layer_1)\n",
    "hidden_layer_3 = Dense(hidden_size3, activation='relu')(hidden_layer_2)\n",
    "bottleneck_layer = Dense(code_size*input_step, activation='sigmoid')(hidden_layer_3)\n",
    "\n",
    "# Define the decoder network\n",
    "hidden_layer_5 = Dense(hidden_size1, activation='relu')(bottleneck_layer)\n",
    "hidden_layer_6 = Dense(hidden_size2, activation='relu')(hidden_layer_5)\n",
    "hidden_layer_7 = Dense(hidden_size1, activation='relu')(hidden_layer_6)\n",
    "hidden_layer_8 = Dense(6*500*input_step, activation='sigmoid')(hidden_layer_7)\n",
    "output_layer=Reshape((input_step,6,500))(hidden_layer_8)\n",
    "\n",
    "autoencoder = Model(input_layer, output_layer)\n",
    "autoencoder.summary()\n",
    "opt = Adam(learning_rate=0.0001)\n",
    "autoencoder.compile(optimizer=opt, loss='mae',metrics=['mae', 'mse',tf.keras.metrics.RootMeanSquaredError()])\n",
    "early_stopping = EarlyStopping(monitor='val_loss', patience=5, mode='min')\n",
    "autoencoder.fit(X1, X1, epochs=300,batch_size=64,\n",
    "                validation_data=(X2, X2),callbacks=[early_stopping]\n",
    "              )"
   ]
  },
  {
   "cell_type": "code",
   "execution_count": 33,
   "id": "a3cb8e3d",
   "metadata": {
    "id": "a3cb8e3d"
   },
   "outputs": [],
   "source": [
    "encoder = Model(input_layer, bottleneck_layer)\n",
    "encoder.compile(optimizer='adam', loss='mae')"
   ]
  },
  {
   "cell_type": "code",
   "execution_count": 34,
   "id": "74201088",
   "metadata": {
    "id": "74201088",
    "outputId": "0cfb7f27-2da9-4a27-b445-d8472c454ffe"
   },
   "outputs": [
    {
     "name": "stdout",
     "output_type": "stream",
     "text": [
      "1635/1635 [==============================] - 24s 15ms/step\n",
      "1623/1623 [==============================] - 21s 13ms/step\n"
     ]
    }
   ],
   "source": [
    "X11=encoder.predict(X1)\n",
    "X22=encoder.predict(X2)"
   ]
  },
  {
   "cell_type": "code",
   "execution_count": null,
   "id": "7bdd3870",
   "metadata": {},
   "outputs": [],
   "source": [
    "decoder = Model(bottleneck_layer, output_layer)\n",
    "decoder.compile(optimizer='adam', loss='mae')"
   ]
  },
  {
   "cell_type": "code",
   "execution_count": null,
   "id": "8df2b56b",
   "metadata": {},
   "outputs": [],
   "source": [
    "Y1=decoder.predict(X11)\n",
    "Y2=decoder.predict(X22)"
   ]
  },
  {
   "cell_type": "code",
   "execution_count": null,
   "id": "13fc5b07",
   "metadata": {},
   "outputs": [],
   "source": [
    "import matplotlib.pyplot as plt\n",
    "plt.plot(Y1[0][0][5])\n",
    "plt.plot(X1[0][0][5])"
   ]
  },
  {
   "cell_type": "code",
   "execution_count": null,
   "id": "24558ad1",
   "metadata": {
    "id": "24558ad1"
   },
   "outputs": [],
   "source": [
    "np.save(\"X11_\"+str(input_step),X11)\n",
    "np.save(\"X22_\"+str(input_step),X22)"
   ]
  },
  {
   "cell_type": "code",
   "execution_count": 26,
   "id": "dfbed698",
   "metadata": {
    "id": "dfbed698"
   },
   "outputs": [],
   "source": [
    "encoder.save(\"encoder-simple_\"+str(input_step)+\".h5\")"
   ]
  },
  {
   "cell_type": "markdown",
   "id": "917775ff",
   "metadata": {},
   "source": [
    "# Cnn encoder"
   ]
  },
  {
   "cell_type": "code",
   "execution_count": 49,
   "id": "f06b9808",
   "metadata": {},
   "outputs": [
    {
     "name": "stdout",
     "output_type": "stream",
     "text": [
      "Model: \"model_13\"\n",
      "_________________________________________________________________\n",
      " Layer (type)                Output Shape              Param #   \n",
      "=================================================================\n",
      " input_9 (InputLayer)        [(None, 25, 6, 500)]      0         \n",
      "                                                                 \n",
      " conv2d_16 (Conv2D)          (None, 25, 6, 128)        576128    \n",
      "                                                                 \n",
      " max_pooling2d_4 (MaxPooling  (None, 25, 3, 128)       0         \n",
      " 2D)                                                             \n",
      "                                                                 \n",
      " conv2d_17 (Conv2D)          (None, 25, 3, 64)         73792     \n",
      "                                                                 \n",
      " max_pooling2d_5 (MaxPooling  (None, 25, 2, 64)        0         \n",
      " 2D)                                                             \n",
      "                                                                 \n",
      " conv2d_18 (Conv2D)          (None, 25, 2, 32)         18464     \n",
      "                                                                 \n",
      " reshape_11 (Reshape)        (None, 25, 1, 64)         0         \n",
      "                                                                 \n",
      " conv2d_19 (Conv2D)          (None, 25, 1, 64)         4160      \n",
      "                                                                 \n",
      " up_sampling2d_4 (UpSampling  (None, 25, 2, 64)        0         \n",
      " 2D)                                                             \n",
      "                                                                 \n",
      " conv2d_20 (Conv2D)          (None, 25, 2, 100)        6500      \n",
      "                                                                 \n",
      " up_sampling2d_5 (UpSampling  (None, 25, 4, 100)       0         \n",
      " 2D)                                                             \n",
      "                                                                 \n",
      " conv2d_21 (Conv2D)          (None, 25, 4, 128)        12928     \n",
      "                                                                 \n",
      " conv2d_22 (Conv2D)          (None, 25, 4, 252)        32508     \n",
      "                                                                 \n",
      " reshape_12 (Reshape)        (None, 25, 6, 168)        0         \n",
      "                                                                 \n",
      " dense_18 (Dense)            (None, 25, 6, 500)        84500     \n",
      "                                                                 \n",
      " reshape_13 (Reshape)        (None, 25, 6, 500)        0         \n",
      "                                                                 \n",
      " conv2d_23 (Conv2D)          (None, 25, 6, 500)        2250500   \n",
      "                                                                 \n",
      "=================================================================\n",
      "Total params: 3,059,480\n",
      "Trainable params: 3,059,480\n",
      "Non-trainable params: 0\n",
      "_________________________________________________________________\n",
      "None\n"
     ]
    }
   ],
   "source": [
    "from keras.layers import Input, Conv2D, MaxPooling2D, Flatten, Dense, Reshape, UpSampling2D,Dropout\n",
    "from keras.models import Model\n",
    "\n",
    "# Define input shape\n",
    "input_shape = (input_step,6, 500)\n",
    "\n",
    "# Define encoder architecture\n",
    "inputs = Input(shape=input_shape)\n",
    "x = Conv2D(128,3, activation='relu', padding='same' )(inputs)\n",
    "\n",
    "x = MaxPooling2D((1,2), padding='same')(x)\n",
    "\n",
    "x = Conv2D(64,3, activation='relu', padding='same')(x)\n",
    "\n",
    "x = MaxPooling2D((1,2), padding='same')(x)\n",
    "x = Conv2D(32,3, activation='relu', padding='same')(x)\n",
    "\n",
    "encoded2 = Reshape((input_step,64))(x)\n",
    "\n",
    "\n",
    "\n",
    "# Define decoder architecture\n",
    "x = Reshape((input_step,1,64))(x)\n",
    "x = Conv2D(64, (1,1), activation='relu', padding='same')(x)\n",
    "x = UpSampling2D((1,2))(x)\n",
    "x = Conv2D(100, (1,1), activation='relu', padding='same')(x)\n",
    "x = UpSampling2D((1,2))(x)\n",
    "x = Conv2D(128, (1,1), activation='relu', padding='same')(x)\n",
    "x=Conv2D(252, (1,1), activation='sigmoid')(x)\n",
    "x=Reshape((input_step,6,168))(x)\n",
    "x=Dense(500, activation='linear')(x)\n",
    "x=Reshape((input_step,6,500))(x)\n",
    "\n",
    "decoded2 = Conv2D(500, 3, activation='sigmoid', padding='same')(x)\n",
    "\n",
    "# Define autoencoder model\n",
    "autoencoder2 = Model(inputs=inputs, outputs=decoded2)\n",
    "\n",
    "# Compile model\n",
    "autoencoder2.compile(optimizer='adam', loss='mae',metrics=['mae', 'mse',tf.keras.metrics.RootMeanSquaredError()])\n",
    "\n",
    "# Print model summary\n",
    "print(autoencoder2.summary())\n"
   ]
  },
  {
   "cell_type": "code",
   "execution_count": 50,
   "id": "ccc956ef",
   "metadata": {},
   "outputs": [
    {
     "name": "stdout",
     "output_type": "stream",
     "text": [
      "Epoch 1/300\n",
      "364/364 [==============================] - 184s 502ms/step - loss: 0.1029 - mae: 0.1029 - mse: 0.0296 - root_mean_squared_error: 0.1719 - val_loss: 0.1128 - val_mae: 0.1128 - val_mse: 0.0378 - val_root_mean_squared_error: 0.1945\n",
      "Epoch 2/300\n",
      "364/364 [==============================] - 176s 484ms/step - loss: 0.0936 - mae: 0.0936 - mse: 0.0271 - root_mean_squared_error: 0.1646 - val_loss: 0.1083 - val_mae: 0.1083 - val_mse: 0.0340 - val_root_mean_squared_error: 0.1845\n",
      "Epoch 3/300\n",
      "364/364 [==============================] - 202s 554ms/step - loss: 0.0906 - mae: 0.0906 - mse: 0.0247 - root_mean_squared_error: 0.1571 - val_loss: 0.1065 - val_mae: 0.1065 - val_mse: 0.0314 - val_root_mean_squared_error: 0.1771\n",
      "Epoch 4/300\n",
      "364/364 [==============================] - 214s 588ms/step - loss: 0.0887 - mae: 0.0887 - mse: 0.0233 - root_mean_squared_error: 0.1525 - val_loss: 0.1067 - val_mae: 0.1067 - val_mse: 0.0304 - val_root_mean_squared_error: 0.1744\n",
      "Epoch 5/300\n",
      "364/364 [==============================] - 210s 577ms/step - loss: 0.0875 - mae: 0.0875 - mse: 0.0229 - root_mean_squared_error: 0.1514 - val_loss: 0.1067 - val_mae: 0.1067 - val_mse: 0.0302 - val_root_mean_squared_error: 0.1737\n",
      "Epoch 6/300\n",
      "364/364 [==============================] - 210s 578ms/step - loss: 0.0866 - mae: 0.0866 - mse: 0.0227 - root_mean_squared_error: 0.1508 - val_loss: 0.1059 - val_mae: 0.1059 - val_mse: 0.0299 - val_root_mean_squared_error: 0.1728\n",
      "Epoch 7/300\n",
      "364/364 [==============================] - 211s 580ms/step - loss: 0.0858 - mae: 0.0858 - mse: 0.0227 - root_mean_squared_error: 0.1506 - val_loss: 0.1037 - val_mae: 0.1037 - val_mse: 0.0300 - val_root_mean_squared_error: 0.1731\n",
      "Epoch 8/300\n",
      "364/364 [==============================] - 182s 501ms/step - loss: 0.0851 - mae: 0.0851 - mse: 0.0227 - root_mean_squared_error: 0.1508 - val_loss: 0.1039 - val_mae: 0.1039 - val_mse: 0.0297 - val_root_mean_squared_error: 0.1724\n",
      "Epoch 9/300\n",
      "364/364 [==============================] - 166s 456ms/step - loss: 0.0847 - mae: 0.0847 - mse: 0.0228 - root_mean_squared_error: 0.1511 - val_loss: 0.1041 - val_mae: 0.1041 - val_mse: 0.0303 - val_root_mean_squared_error: 0.1740\n",
      "Epoch 10/300\n",
      "364/364 [==============================] - 161s 443ms/step - loss: 0.0843 - mae: 0.0843 - mse: 0.0227 - root_mean_squared_error: 0.1507 - val_loss: 0.1045 - val_mae: 0.1045 - val_mse: 0.0299 - val_root_mean_squared_error: 0.1730\n",
      "Epoch 11/300\n",
      "364/364 [==============================] - 162s 446ms/step - loss: 0.0840 - mae: 0.0840 - mse: 0.0226 - root_mean_squared_error: 0.1503 - val_loss: 0.1039 - val_mae: 0.1039 - val_mse: 0.0296 - val_root_mean_squared_error: 0.1722\n",
      "Epoch 12/300\n",
      "364/364 [==============================] - 162s 444ms/step - loss: 0.0837 - mae: 0.0837 - mse: 0.0225 - root_mean_squared_error: 0.1501 - val_loss: 0.1042 - val_mae: 0.1042 - val_mse: 0.0296 - val_root_mean_squared_error: 0.1720\n"
     ]
    },
    {
     "data": {
      "text/plain": [
       "<keras.callbacks.History at 0x1620da2c9d0>"
      ]
     },
     "execution_count": 50,
     "metadata": {},
     "output_type": "execute_result"
    }
   ],
   "source": [
    "# Train the model\n",
    "opt = Adam(learning_rate=0.0001)\n",
    "autoencoder.compile(optimizer=opt, loss='mae',metrics=['mae', 'mse',tf.keras.metrics.RootMeanSquaredError()])\n",
    "early_stopping = EarlyStopping(monitor='val_loss', patience=5, mode='min')\n",
    "autoencoder2.fit(X1, X1, epochs=300,batch_size=64,\n",
    "                validation_data=(X2, X2),callbacks=[early_stopping]\n",
    "              )"
   ]
  },
  {
   "cell_type": "code",
   "execution_count": 51,
   "id": "a59812f1",
   "metadata": {},
   "outputs": [],
   "source": [
    "encoder_2 = Model(inputs, encoded2)\n",
    "encoder_2.compile(optimizer='adam', loss='mae')"
   ]
  },
  {
   "cell_type": "code",
   "execution_count": 52,
   "id": "85f75f9d",
   "metadata": {},
   "outputs": [],
   "source": [
    "encoder_2.save(\"encoder_cnn_\"+str(input_step)+\".h5\")"
   ]
  }
 ],
 "metadata": {
  "colab": {
   "provenance": []
  },
  "kernelspec": {
   "display_name": "Python 3 (ipykernel)",
   "language": "python",
   "name": "python3"
  },
  "language_info": {
   "codemirror_mode": {
    "name": "ipython",
    "version": 3
   },
   "file_extension": ".py",
   "mimetype": "text/x-python",
   "name": "python",
   "nbconvert_exporter": "python",
   "pygments_lexer": "ipython3",
   "version": "3.9.13"
  }
 },
 "nbformat": 4,
 "nbformat_minor": 5
}
