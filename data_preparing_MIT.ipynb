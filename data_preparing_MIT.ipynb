{
 "cells": [
  {
   "cell_type": "code",
   "execution_count": 19,
   "id": "2a4c4d58",
   "metadata": {
    "id": "2a4c4d58"
   },
   "outputs": [],
   "source": [
    "import numpy as np\n",
    "import tensorflow as tf\n",
    "from keras.models import load_model"
   ]
  },
  {
   "cell_type": "code",
   "execution_count": 20,
   "id": "1fc2bee0",
   "metadata": {},
   "outputs": [],
   "source": [
    "input_step=10 #to change after to 25,50\n",
    "output_step=10"
   ]
  },
  {
   "cell_type": "code",
   "execution_count": 21,
   "id": "1b644822",
   "metadata": {
    "id": "1b644822"
   },
   "outputs": [],
   "source": [
    "X1=np.load(\"X1_\"+str(input_step)+\".npy\")\n",
    "X2=np.load(\"X2_\"+str(input_step)+\".npy\")"
   ]
  },
  {
   "cell_type": "code",
   "execution_count": 22,
   "id": "0655e9db",
   "metadata": {
    "id": "0655e9db",
    "outputId": "749486aa-abcc-4d6c-90c1-9402b5a7ff0a",
    "scrolled": true
   },
   "outputs": [
    {
     "data": {
      "text/plain": [
       "(56936, 10, 6, 500)"
      ]
     },
     "execution_count": 22,
     "metadata": {},
     "output_type": "execute_result"
    }
   ],
   "source": [
    "X1.shape"
   ]
  },
  {
   "cell_type": "code",
   "execution_count": 23,
   "id": "3402d472",
   "metadata": {
    "colab": {
     "base_uri": "https://localhost:8080/"
    },
    "id": "3402d472",
    "outputId": "28005772-178a-4d01-8f0b-e9c16ca75ea7"
   },
   "outputs": [
    {
     "data": {
      "text/plain": [
       "(55002, 10, 6, 500)"
      ]
     },
     "execution_count": 23,
     "metadata": {},
     "output_type": "execute_result"
    }
   ],
   "source": [
    "X2.shape"
   ]
  },
  {
   "cell_type": "code",
   "execution_count": 24,
   "id": "f5b241e9",
   "metadata": {
    "id": "f5b241e9"
   },
   "outputs": [],
   "source": [
    "X1=np.float32(X1)\n",
    "X2=np.float32(X2)\n"
   ]
  },
  {
   "cell_type": "code",
   "execution_count": 25,
   "id": "759cfbf6",
   "metadata": {
    "id": "759cfbf6",
    "outputId": "3dcc018a-9b59-4fac-a51d-54f5645a112b"
   },
   "outputs": [
    {
     "name": "stdout",
     "output_type": "stream",
     "text": [
      "KerasTensor(type_spec=TensorSpec(shape=(None, 10, 6, 500), dtype=tf.float32, name='input_4'), name='input_4', description=\"created by layer 'input_4'\")\n",
      "Model: \"model_4\"\n",
      "_________________________________________________________________\n",
      " Layer (type)                Output Shape              Param #   \n",
      "=================================================================\n",
      " input_4 (InputLayer)        [(None, 10, 6, 500)]      0         \n",
      "                                                                 \n",
      " flatten_1 (Flatten)         (None, 30000)             0         \n",
      "                                                                 \n",
      " dense_9 (Dense)             (None, 256)               7680256   \n",
      "                                                                 \n",
      " dense_10 (Dense)            (None, 128)               32896     \n",
      "                                                                 \n",
      " dense_11 (Dense)            (None, 100)               12900     \n",
      "                                                                 \n",
      " dense_12 (Dense)            (None, 640)               64640     \n",
      "                                                                 \n",
      " dense_13 (Dense)            (None, 256)               164096    \n",
      "                                                                 \n",
      " dense_14 (Dense)            (None, 128)               32896     \n",
      "                                                                 \n",
      " dense_15 (Dense)            (None, 256)               33024     \n",
      "                                                                 \n",
      " dense_16 (Dense)            (None, 30000)             7710000   \n",
      "                                                                 \n",
      " reshape_5 (Reshape)         (None, 10, 6, 500)        0         \n",
      "                                                                 \n",
      "=================================================================\n",
      "Total params: 15,730,708\n",
      "Trainable params: 15,730,708\n",
      "Non-trainable params: 0\n",
      "_________________________________________________________________\n",
      "Epoch 1/300\n",
      "890/890 [==============================] - 52s 58ms/step - loss: 0.0447 - mae: 0.0447 - mse: 0.0094 - root_mean_squared_error: 0.0970 - val_loss: 0.1051 - val_mae: 0.1051 - val_mse: 0.0430 - val_root_mean_squared_error: 0.2075\n",
      "Epoch 2/300\n",
      "890/890 [==============================] - 49s 55ms/step - loss: 0.0289 - mae: 0.0289 - mse: 0.0058 - root_mean_squared_error: 0.0763 - val_loss: 0.1026 - val_mae: 0.1026 - val_mse: 0.0427 - val_root_mean_squared_error: 0.2067\n",
      "Epoch 3/300\n",
      "890/890 [==============================] - 48s 54ms/step - loss: 0.0235 - mae: 0.0235 - mse: 0.0042 - root_mean_squared_error: 0.0647 - val_loss: 0.0943 - val_mae: 0.0943 - val_mse: 0.0370 - val_root_mean_squared_error: 0.1923\n",
      "Epoch 4/300\n",
      "890/890 [==============================] - 48s 54ms/step - loss: 0.0218 - mae: 0.0218 - mse: 0.0038 - root_mean_squared_error: 0.0613 - val_loss: 0.0857 - val_mae: 0.0857 - val_mse: 0.0325 - val_root_mean_squared_error: 0.1804\n",
      "Epoch 5/300\n",
      "890/890 [==============================] - 48s 54ms/step - loss: 0.0195 - mae: 0.0195 - mse: 0.0032 - root_mean_squared_error: 0.0565 - val_loss: 0.0806 - val_mae: 0.0806 - val_mse: 0.0288 - val_root_mean_squared_error: 0.1697\n",
      "Epoch 6/300\n",
      "890/890 [==============================] - 48s 54ms/step - loss: 0.0184 - mae: 0.0184 - mse: 0.0029 - root_mean_squared_error: 0.0540 - val_loss: 0.0796 - val_mae: 0.0796 - val_mse: 0.0286 - val_root_mean_squared_error: 0.1692\n",
      "Epoch 7/300\n",
      "890/890 [==============================] - 49s 55ms/step - loss: 0.0176 - mae: 0.0176 - mse: 0.0028 - root_mean_squared_error: 0.0526 - val_loss: 0.0794 - val_mae: 0.0794 - val_mse: 0.0291 - val_root_mean_squared_error: 0.1706\n",
      "Epoch 8/300\n",
      "890/890 [==============================] - 48s 54ms/step - loss: 0.0167 - mae: 0.0167 - mse: 0.0026 - root_mean_squared_error: 0.0511 - val_loss: 0.0774 - val_mae: 0.0774 - val_mse: 0.0286 - val_root_mean_squared_error: 0.1692\n",
      "Epoch 9/300\n",
      "890/890 [==============================] - 48s 54ms/step - loss: 0.0161 - mae: 0.0161 - mse: 0.0025 - root_mean_squared_error: 0.0501 - val_loss: 0.0764 - val_mae: 0.0764 - val_mse: 0.0281 - val_root_mean_squared_error: 0.1676\n",
      "Epoch 10/300\n",
      "890/890 [==============================] - 49s 55ms/step - loss: 0.0157 - mae: 0.0157 - mse: 0.0024 - root_mean_squared_error: 0.0495 - val_loss: 0.0753 - val_mae: 0.0753 - val_mse: 0.0274 - val_root_mean_squared_error: 0.1655\n",
      "Epoch 11/300\n",
      "890/890 [==============================] - 49s 56ms/step - loss: 0.0154 - mae: 0.0154 - mse: 0.0024 - root_mean_squared_error: 0.0489 - val_loss: 0.0722 - val_mae: 0.0722 - val_mse: 0.0256 - val_root_mean_squared_error: 0.1598\n",
      "Epoch 12/300\n",
      "890/890 [==============================] - 48s 54ms/step - loss: 0.0151 - mae: 0.0151 - mse: 0.0023 - root_mean_squared_error: 0.0483 - val_loss: 0.0718 - val_mae: 0.0718 - val_mse: 0.0252 - val_root_mean_squared_error: 0.1588\n",
      "Epoch 13/300\n",
      "890/890 [==============================] - 48s 54ms/step - loss: 0.0147 - mae: 0.0147 - mse: 0.0023 - root_mean_squared_error: 0.0478 - val_loss: 0.0689 - val_mae: 0.0689 - val_mse: 0.0232 - val_root_mean_squared_error: 0.1522\n",
      "Epoch 14/300\n",
      "890/890 [==============================] - 48s 54ms/step - loss: 0.0145 - mae: 0.0145 - mse: 0.0022 - root_mean_squared_error: 0.0474 - val_loss: 0.0654 - val_mae: 0.0654 - val_mse: 0.0212 - val_root_mean_squared_error: 0.1456\n",
      "Epoch 15/300\n",
      "890/890 [==============================] - 48s 54ms/step - loss: 0.0143 - mae: 0.0143 - mse: 0.0022 - root_mean_squared_error: 0.0470 - val_loss: 0.0598 - val_mae: 0.0598 - val_mse: 0.0185 - val_root_mean_squared_error: 0.1360\n",
      "Epoch 16/300\n",
      "890/890 [==============================] - 48s 54ms/step - loss: 0.0141 - mae: 0.0141 - mse: 0.0022 - root_mean_squared_error: 0.0468 - val_loss: 0.0553 - val_mae: 0.0553 - val_mse: 0.0165 - val_root_mean_squared_error: 0.1285\n",
      "Epoch 17/300\n",
      "890/890 [==============================] - 48s 54ms/step - loss: 0.0139 - mae: 0.0139 - mse: 0.0022 - root_mean_squared_error: 0.0466 - val_loss: 0.0529 - val_mae: 0.0529 - val_mse: 0.0158 - val_root_mean_squared_error: 0.1258\n",
      "Epoch 18/300\n",
      "890/890 [==============================] - 48s 54ms/step - loss: 0.0138 - mae: 0.0138 - mse: 0.0022 - root_mean_squared_error: 0.0465 - val_loss: 0.0502 - val_mae: 0.0502 - val_mse: 0.0149 - val_root_mean_squared_error: 0.1219\n",
      "Epoch 19/300\n",
      "890/890 [==============================] - 48s 54ms/step - loss: 0.0136 - mae: 0.0136 - mse: 0.0021 - root_mean_squared_error: 0.0464 - val_loss: 0.0486 - val_mae: 0.0486 - val_mse: 0.0146 - val_root_mean_squared_error: 0.1207\n",
      "Epoch 20/300\n",
      "890/890 [==============================] - 48s 54ms/step - loss: 0.0134 - mae: 0.0134 - mse: 0.0021 - root_mean_squared_error: 0.0462 - val_loss: 0.0473 - val_mae: 0.0473 - val_mse: 0.0142 - val_root_mean_squared_error: 0.1193\n",
      "Epoch 21/300\n",
      "890/890 [==============================] - 48s 54ms/step - loss: 0.0133 - mae: 0.0133 - mse: 0.0021 - root_mean_squared_error: 0.0461 - val_loss: 0.0469 - val_mae: 0.0469 - val_mse: 0.0141 - val_root_mean_squared_error: 0.1188\n",
      "Epoch 22/300\n",
      "890/890 [==============================] - 48s 54ms/step - loss: 0.0131 - mae: 0.0131 - mse: 0.0021 - root_mean_squared_error: 0.0460 - val_loss: 0.0468 - val_mae: 0.0468 - val_mse: 0.0141 - val_root_mean_squared_error: 0.1188\n",
      "Epoch 23/300\n",
      "890/890 [==============================] - 48s 54ms/step - loss: 0.0130 - mae: 0.0130 - mse: 0.0021 - root_mean_squared_error: 0.0459 - val_loss: 0.0463 - val_mae: 0.0463 - val_mse: 0.0138 - val_root_mean_squared_error: 0.1176\n",
      "Epoch 24/300\n",
      "890/890 [==============================] - 48s 54ms/step - loss: 0.0129 - mae: 0.0129 - mse: 0.0021 - root_mean_squared_error: 0.0458 - val_loss: 0.0459 - val_mae: 0.0459 - val_mse: 0.0139 - val_root_mean_squared_error: 0.1177\n",
      "Epoch 25/300\n",
      "890/890 [==============================] - 47s 53ms/step - loss: 0.0127 - mae: 0.0127 - mse: 0.0021 - root_mean_squared_error: 0.0457 - val_loss: 0.0460 - val_mae: 0.0460 - val_mse: 0.0138 - val_root_mean_squared_error: 0.1174\n",
      "Epoch 26/300\n",
      "890/890 [==============================] - 48s 54ms/step - loss: 0.0126 - mae: 0.0126 - mse: 0.0021 - root_mean_squared_error: 0.0456 - val_loss: 0.0459 - val_mae: 0.0459 - val_mse: 0.0137 - val_root_mean_squared_error: 0.1170\n"
     ]
    },
    {
     "name": "stdout",
     "output_type": "stream",
     "text": [
      "Epoch 27/300\n",
      "890/890 [==============================] - 50s 56ms/step - loss: 0.0124 - mae: 0.0124 - mse: 0.0021 - root_mean_squared_error: 0.0455 - val_loss: 0.0455 - val_mae: 0.0455 - val_mse: 0.0137 - val_root_mean_squared_error: 0.1170\n",
      "Epoch 28/300\n",
      "890/890 [==============================] - 48s 53ms/step - loss: 0.0122 - mae: 0.0122 - mse: 0.0021 - root_mean_squared_error: 0.0454 - val_loss: 0.0455 - val_mae: 0.0455 - val_mse: 0.0136 - val_root_mean_squared_error: 0.1166\n",
      "Epoch 29/300\n",
      "890/890 [==============================] - 47s 53ms/step - loss: 0.0121 - mae: 0.0121 - mse: 0.0021 - root_mean_squared_error: 0.0453 - val_loss: 0.0445 - val_mae: 0.0445 - val_mse: 0.0134 - val_root_mean_squared_error: 0.1158\n",
      "Epoch 30/300\n",
      "890/890 [==============================] - 47s 53ms/step - loss: 0.0119 - mae: 0.0119 - mse: 0.0020 - root_mean_squared_error: 0.0452 - val_loss: 0.0445 - val_mae: 0.0445 - val_mse: 0.0133 - val_root_mean_squared_error: 0.1151\n",
      "Epoch 31/300\n",
      "890/890 [==============================] - 48s 54ms/step - loss: 0.0118 - mae: 0.0118 - mse: 0.0020 - root_mean_squared_error: 0.0452 - val_loss: 0.0443 - val_mae: 0.0443 - val_mse: 0.0134 - val_root_mean_squared_error: 0.1158\n",
      "Epoch 32/300\n",
      "890/890 [==============================] - 47s 53ms/step - loss: 0.0118 - mae: 0.0118 - mse: 0.0020 - root_mean_squared_error: 0.0451 - val_loss: 0.0443 - val_mae: 0.0443 - val_mse: 0.0132 - val_root_mean_squared_error: 0.1151\n",
      "Epoch 33/300\n",
      "890/890 [==============================] - 48s 54ms/step - loss: 0.0117 - mae: 0.0117 - mse: 0.0020 - root_mean_squared_error: 0.0450 - val_loss: 0.0443 - val_mae: 0.0443 - val_mse: 0.0133 - val_root_mean_squared_error: 0.1152\n",
      "Epoch 34/300\n",
      "890/890 [==============================] - 48s 54ms/step - loss: 0.0116 - mae: 0.0116 - mse: 0.0020 - root_mean_squared_error: 0.0449 - val_loss: 0.0441 - val_mae: 0.0441 - val_mse: 0.0133 - val_root_mean_squared_error: 0.1151\n",
      "Epoch 35/300\n",
      "890/890 [==============================] - 48s 54ms/step - loss: 0.0116 - mae: 0.0116 - mse: 0.0020 - root_mean_squared_error: 0.0449 - val_loss: 0.0443 - val_mae: 0.0443 - val_mse: 0.0131 - val_root_mean_squared_error: 0.1145\n",
      "Epoch 36/300\n",
      "890/890 [==============================] - 48s 54ms/step - loss: 0.0115 - mae: 0.0115 - mse: 0.0020 - root_mean_squared_error: 0.0448 - val_loss: 0.0441 - val_mae: 0.0441 - val_mse: 0.0129 - val_root_mean_squared_error: 0.1137\n",
      "Epoch 37/300\n",
      "890/890 [==============================] - 48s 54ms/step - loss: 0.0114 - mae: 0.0114 - mse: 0.0020 - root_mean_squared_error: 0.0448 - val_loss: 0.0436 - val_mae: 0.0436 - val_mse: 0.0130 - val_root_mean_squared_error: 0.1139\n",
      "Epoch 38/300\n",
      "890/890 [==============================] - 48s 54ms/step - loss: 0.0114 - mae: 0.0114 - mse: 0.0020 - root_mean_squared_error: 0.0448 - val_loss: 0.0441 - val_mae: 0.0441 - val_mse: 0.0132 - val_root_mean_squared_error: 0.1150\n",
      "Epoch 39/300\n",
      "890/890 [==============================] - 48s 54ms/step - loss: 0.0113 - mae: 0.0113 - mse: 0.0020 - root_mean_squared_error: 0.0448 - val_loss: 0.0437 - val_mae: 0.0437 - val_mse: 0.0130 - val_root_mean_squared_error: 0.1140\n",
      "Epoch 40/300\n",
      "890/890 [==============================] - 49s 55ms/step - loss: 0.0113 - mae: 0.0113 - mse: 0.0020 - root_mean_squared_error: 0.0447 - val_loss: 0.0440 - val_mae: 0.0440 - val_mse: 0.0129 - val_root_mean_squared_error: 0.1137\n",
      "Epoch 41/300\n",
      "890/890 [==============================] - 48s 54ms/step - loss: 0.0112 - mae: 0.0112 - mse: 0.0020 - root_mean_squared_error: 0.0447 - val_loss: 0.0438 - val_mae: 0.0438 - val_mse: 0.0130 - val_root_mean_squared_error: 0.1140\n",
      "Epoch 42/300\n",
      "890/890 [==============================] - 48s 54ms/step - loss: 0.0112 - mae: 0.0112 - mse: 0.0020 - root_mean_squared_error: 0.0447 - val_loss: 0.0440 - val_mae: 0.0440 - val_mse: 0.0129 - val_root_mean_squared_error: 0.1137\n"
     ]
    },
    {
     "data": {
      "text/plain": [
       "<keras.callbacks.History at 0x21682016eb0>"
      ]
     },
     "execution_count": 25,
     "metadata": {},
     "output_type": "execute_result"
    }
   ],
   "source": [
    "from keras.layers import Input, Dense, Reshape, Flatten,Dropout\n",
    "from keras.models import Model\n",
    "from keras.optimizers import Adam\n",
    "from tensorflow.keras.callbacks import EarlyStopping\n",
    "\n",
    "\n",
    "input_shape = (input_step,6,500)\n",
    "hidden_size1 = 256\n",
    "hidden_size2 = 128\n",
    "hidden_size3 = 100\n",
    "code_size = 64\n",
    "\n",
    "input_layer = Input(shape=(input_shape))\n",
    "print(input_layer)\n",
    "hidden_layer_0=Flatten()(input_layer)\n",
    "hidden_layer_1 = Dense(hidden_size1, activation='relu')(hidden_layer_0)\n",
    "hidden_layer_2 = Dense(hidden_size2, activation='relu')(hidden_layer_1)\n",
    "hidden_layer_3 = Dense(hidden_size3, activation='relu')(hidden_layer_2)\n",
    "bottleneck_layer = Dense(code_size*input_step, activation='sigmoid')(hidden_layer_3)\n",
    "\n",
    "# Define the decoder network\n",
    "hidden_layer_5 = Dense(hidden_size1, activation='relu')(bottleneck_layer)\n",
    "hidden_layer_6 = Dense(hidden_size2, activation='relu')(hidden_layer_5)\n",
    "hidden_layer_7 = Dense(hidden_size1, activation='relu')(hidden_layer_6)\n",
    "hidden_layer_8 = Dense(6*500*input_step, activation='sigmoid')(hidden_layer_7)\n",
    "output_layer=Reshape((input_step,6,500))(hidden_layer_8)\n",
    "\n",
    "autoencoder = Model(input_layer, output_layer)\n",
    "autoencoder.summary()\n",
    "opt = Adam(learning_rate=0.0001)\n",
    "autoencoder.compile(optimizer=opt, loss='mae',metrics=['mae', 'mse',tf.keras.metrics.RootMeanSquaredError()])\n",
    "early_stopping = EarlyStopping(monitor='val_loss', patience=5, mode='min')\n",
    "autoencoder.fit(X1, X1, epochs=300,batch_size=64,\n",
    "                validation_data=(X2, X2),callbacks=[early_stopping]\n",
    "              )"
   ]
  },
  {
   "cell_type": "code",
   "execution_count": 26,
   "id": "a3cb8e3d",
   "metadata": {
    "id": "a3cb8e3d"
   },
   "outputs": [],
   "source": [
    "encoder = Model(input_layer, bottleneck_layer)\n",
    "encoder.compile(optimizer='adam', loss='mae')"
   ]
  },
  {
   "cell_type": "code",
   "execution_count": 27,
   "id": "74201088",
   "metadata": {
    "id": "74201088",
    "outputId": "0cfb7f27-2da9-4a27-b445-d8472c454ffe"
   },
   "outputs": [
    {
     "name": "stdout",
     "output_type": "stream",
     "text": [
      "1780/1780 [==============================] - 7s 4ms/step\n",
      "1719/1719 [==============================] - 7s 4ms/step\n"
     ]
    }
   ],
   "source": [
    "X11=encoder.predict(X1)\n",
    "X22=encoder.predict(X2)"
   ]
  },
  {
   "cell_type": "code",
   "execution_count": 28,
   "id": "7bdd3870",
   "metadata": {},
   "outputs": [],
   "source": [
    "decoder = Model(bottleneck_layer, output_layer)\n",
    "decoder.compile(optimizer='adam', loss='mae')"
   ]
  },
  {
   "cell_type": "code",
   "execution_count": 29,
   "id": "8df2b56b",
   "metadata": {},
   "outputs": [
    {
     "name": "stdout",
     "output_type": "stream",
     "text": [
      "1780/1780 [==============================] - 8s 5ms/step\n",
      "1719/1719 [==============================] - 8s 5ms/step\n"
     ]
    }
   ],
   "source": [
    "Y1=decoder.predict(X11)\n",
    "Y2=decoder.predict(X22)"
   ]
  },
  {
   "cell_type": "code",
   "execution_count": 30,
   "id": "13fc5b07",
   "metadata": {},
   "outputs": [
    {
     "data": {
      "text/plain": [
       "[<matplotlib.lines.Line2D at 0x216825cf0a0>]"
      ]
     },
     "execution_count": 30,
     "metadata": {},
     "output_type": "execute_result"
    },
    {
     "data": {
      "image/png": "[encoded data removed]",
      "text/plain": [
       "<Figure size 640x480 with 1 Axes>"
      ]
     },
     "metadata": {},
     "output_type": "display_data"
    }
   ],
   "source": [
    "import matplotlib.pyplot as plt\n",
    "plt.plot(Y2[0][0][5])\n",
    "plt.plot(X2[0][0][5])"
   ]
  },
  {
   "cell_type": "code",
   "execution_count": 31,
   "id": "24558ad1",
   "metadata": {
    "id": "24558ad1"
   },
   "outputs": [],
   "source": [
    "np.save(\"X11_\"+str(input_step),X11)\n",
    "np.save(\"X22_\"+str(input_step),X22)"
   ]
  },
  {
   "cell_type": "code",
   "execution_count": 32,
   "id": "dfbed698",
   "metadata": {
    "id": "dfbed698"
   },
   "outputs": [],
   "source": [
    "encoder.save(\"encoder-simple_\"+str(input_step)+\".h5\")"
   ]
  },
  {
   "cell_type": "markdown",
   "id": "917775ff",
   "metadata": {},
   "source": [
    "# Cnn encoder"
   ]
  },
  {
   "cell_type": "code",
   "execution_count": 33,
   "id": "f06b9808",
   "metadata": {},
   "outputs": [
    {
     "name": "stdout",
     "output_type": "stream",
     "text": [
      "Model: \"model_7\"\n",
      "_________________________________________________________________\n",
      " Layer (type)                Output Shape              Param #   \n",
      "=================================================================\n",
      " input_6 (InputLayer)        [(None, 10, 6, 500)]      0         \n",
      "                                                                 \n",
      " conv2d_8 (Conv2D)           (None, 10, 6, 128)        576128    \n",
      "                                                                 \n",
      " max_pooling2d_2 (MaxPooling  (None, 10, 3, 128)       0         \n",
      " 2D)                                                             \n",
      "                                                                 \n",
      " conv2d_9 (Conv2D)           (None, 10, 3, 64)         73792     \n",
      "                                                                 \n",
      " max_pooling2d_3 (MaxPooling  (None, 10, 2, 64)        0         \n",
      " 2D)                                                             \n",
      "                                                                 \n",
      " conv2d_10 (Conv2D)          (None, 10, 2, 32)         18464     \n",
      "                                                                 \n",
      " reshape_7 (Reshape)         (None, 10, 1, 64)         0         \n",
      "                                                                 \n",
      " conv2d_11 (Conv2D)          (None, 10, 1, 64)         4160      \n",
      "                                                                 \n",
      " up_sampling2d_2 (UpSampling  (None, 10, 2, 64)        0         \n",
      " 2D)                                                             \n",
      "                                                                 \n",
      " conv2d_12 (Conv2D)          (None, 10, 2, 100)        6500      \n",
      "                                                                 \n",
      " up_sampling2d_3 (UpSampling  (None, 10, 4, 100)       0         \n",
      " 2D)                                                             \n",
      "                                                                 \n",
      " conv2d_13 (Conv2D)          (None, 10, 4, 128)        12928     \n",
      "                                                                 \n",
      " conv2d_14 (Conv2D)          (None, 10, 4, 252)        32508     \n",
      "                                                                 \n",
      " reshape_8 (Reshape)         (None, 10, 6, 168)        0         \n",
      "                                                                 \n",
      " dense_17 (Dense)            (None, 10, 6, 500)        84500     \n",
      "                                                                 \n",
      " reshape_9 (Reshape)         (None, 10, 6, 500)        0         \n",
      "                                                                 \n",
      " conv2d_15 (Conv2D)          (None, 10, 6, 500)        2250500   \n",
      "                                                                 \n",
      "=================================================================\n",
      "Total params: 3,059,480\n",
      "Trainable params: 3,059,480\n",
      "Non-trainable params: 0\n",
      "_________________________________________________________________\n",
      "None\n"
     ]
    }
   ],
   "source": [
    "from keras.layers import Input, Conv2D, MaxPooling2D, Flatten, Dense, Reshape, UpSampling2D,Dropout\n",
    "from keras.models import Model\n",
    "\n",
    "# Define input shape\n",
    "input_shape = (input_step,6, 500)\n",
    "\n",
    "# Define encoder architecture\n",
    "inputs = Input(shape=input_shape)\n",
    "x = Conv2D(128,3, activation='relu', padding='same' )(inputs)\n",
    "\n",
    "x = MaxPooling2D((1,2), padding='same')(x)\n",
    "\n",
    "x = Conv2D(64,3, activation='relu', padding='same')(x)\n",
    "\n",
    "x = MaxPooling2D((1,2), padding='same')(x)\n",
    "x = Conv2D(32,3, activation='relu', padding='same')(x)\n",
    "\n",
    "encoded2 = Reshape((input_step,64))(x)\n",
    "\n",
    "\n",
    "\n",
    "# Define decoder architecture\n",
    "x = Reshape((input_step,1,64))(x)\n",
    "x = Conv2D(64, (1,1), activation='relu', padding='same')(x)\n",
    "x = UpSampling2D((1,2))(x)\n",
    "x = Conv2D(100, (1,1), activation='relu', padding='same')(x)\n",
    "x = UpSampling2D((1,2))(x)\n",
    "x = Conv2D(128, (1,1), activation='relu', padding='same')(x)\n",
    "x=Conv2D(252, (1,1), activation='sigmoid')(x)\n",
    "x=Reshape((input_step,6,168))(x)\n",
    "x=Dense(500, activation='linear')(x)\n",
    "x=Reshape((input_step,6,500))(x)\n",
    "\n",
    "decoded2 = Conv2D(500, 3, activation='sigmoid', padding='same')(x)\n",
    "\n",
    "# Define autoencoder model\n",
    "autoencoder2 = Model(inputs=inputs, outputs=decoded2)\n",
    "\n",
    "# Compile model\n",
    "autoencoder2.compile(optimizer='adam', loss='mae',metrics=['mae', 'mse',tf.keras.metrics.RootMeanSquaredError()])\n",
    "\n",
    "# Print model summary\n",
    "print(autoencoder2.summary())\n"
   ]
  },
  {
   "cell_type": "code",
   "execution_count": 34,
   "id": "ccc956ef",
   "metadata": {},
   "outputs": [
    {
     "name": "stdout",
     "output_type": "stream",
     "text": [
      "Epoch 1/300\n",
      "890/890 [==============================] - 321s 359ms/step - loss: 0.0992 - mae: 0.0992 - mse: 0.0323 - root_mean_squared_error: 0.1798 - val_loss: 0.1280 - val_mae: 0.1280 - val_mse: 0.0464 - val_root_mean_squared_error: 0.2153\n",
      "Epoch 2/300\n",
      "890/890 [==============================] - 303s 341ms/step - loss: 0.0912 - mae: 0.0912 - mse: 0.0284 - root_mean_squared_error: 0.1686 - val_loss: 0.1191 - val_mae: 0.1191 - val_mse: 0.0437 - val_root_mean_squared_error: 0.2091\n",
      "Epoch 3/300\n",
      "890/890 [==============================] - 293s 329ms/step - loss: 0.0889 - mae: 0.0889 - mse: 0.0277 - root_mean_squared_error: 0.1666 - val_loss: 0.1181 - val_mae: 0.1181 - val_mse: 0.0433 - val_root_mean_squared_error: 0.2082\n",
      "Epoch 4/300\n",
      "890/890 [==============================] - 310s 348ms/step - loss: 0.0878 - mae: 0.0878 - mse: 0.0273 - root_mean_squared_error: 0.1653 - val_loss: 0.1171 - val_mae: 0.1171 - val_mse: 0.0422 - val_root_mean_squared_error: 0.2055\n",
      "Epoch 5/300\n",
      "890/890 [==============================] - 306s 344ms/step - loss: 0.0870 - mae: 0.0870 - mse: 0.0273 - root_mean_squared_error: 0.1651 - val_loss: 0.1165 - val_mae: 0.1165 - val_mse: 0.0418 - val_root_mean_squared_error: 0.2044\n",
      "Epoch 6/300\n",
      "890/890 [==============================] - 306s 343ms/step - loss: 0.0865 - mae: 0.0865 - mse: 0.0272 - root_mean_squared_error: 0.1650 - val_loss: 0.1147 - val_mae: 0.1147 - val_mse: 0.0412 - val_root_mean_squared_error: 0.2029\n",
      "Epoch 7/300\n",
      "890/890 [==============================] - 295s 332ms/step - loss: 0.0860 - mae: 0.0860 - mse: 0.0272 - root_mean_squared_error: 0.1649 - val_loss: 0.1151 - val_mae: 0.1151 - val_mse: 0.0413 - val_root_mean_squared_error: 0.2032\n",
      "Epoch 8/300\n",
      "890/890 [==============================] - 289s 325ms/step - loss: 0.0856 - mae: 0.0856 - mse: 0.0271 - root_mean_squared_error: 0.1646 - val_loss: 0.1155 - val_mae: 0.1155 - val_mse: 0.0411 - val_root_mean_squared_error: 0.2027\n",
      "Epoch 9/300\n",
      "890/890 [==============================] - 294s 331ms/step - loss: 0.0854 - mae: 0.0854 - mse: 0.0272 - root_mean_squared_error: 0.1648 - val_loss: 0.1142 - val_mae: 0.1142 - val_mse: 0.0410 - val_root_mean_squared_error: 0.2024\n",
      "Epoch 10/300\n",
      "890/890 [==============================] - 310s 348ms/step - loss: 0.0851 - mae: 0.0851 - mse: 0.0272 - root_mean_squared_error: 0.1648 - val_loss: 0.1143 - val_mae: 0.1143 - val_mse: 0.0411 - val_root_mean_squared_error: 0.2027\n",
      "Epoch 11/300\n",
      "890/890 [==============================] - 293s 329ms/step - loss: 0.0849 - mae: 0.0849 - mse: 0.0272 - root_mean_squared_error: 0.1649 - val_loss: 0.1153 - val_mae: 0.1153 - val_mse: 0.0412 - val_root_mean_squared_error: 0.2030\n",
      "Epoch 12/300\n",
      "890/890 [==============================] - 286s 322ms/step - loss: 0.0848 - mae: 0.0848 - mse: 0.0273 - root_mean_squared_error: 0.1652 - val_loss: 0.1152 - val_mae: 0.1152 - val_mse: 0.0421 - val_root_mean_squared_error: 0.2051\n",
      "Epoch 13/300\n",
      "890/890 [==============================] - 247s 277ms/step - loss: 0.0846 - mae: 0.0846 - mse: 0.0273 - root_mean_squared_error: 0.1652 - val_loss: 0.1138 - val_mae: 0.1138 - val_mse: 0.0417 - val_root_mean_squared_error: 0.2041\n",
      "Epoch 14/300\n",
      "890/890 [==============================] - 244s 274ms/step - loss: 0.0844 - mae: 0.0844 - mse: 0.0272 - root_mean_squared_error: 0.1650 - val_loss: 0.1133 - val_mae: 0.1133 - val_mse: 0.0417 - val_root_mean_squared_error: 0.2041\n",
      "Epoch 15/300\n",
      "890/890 [==============================] - 244s 274ms/step - loss: 0.0843 - mae: 0.0843 - mse: 0.0273 - root_mean_squared_error: 0.1652 - val_loss: 0.1121 - val_mae: 0.1121 - val_mse: 0.0408 - val_root_mean_squared_error: 0.2020\n",
      "Epoch 16/300\n",
      "890/890 [==============================] - 251s 283ms/step - loss: 0.0841 - mae: 0.0841 - mse: 0.0273 - root_mean_squared_error: 0.1651 - val_loss: 0.1110 - val_mae: 0.1110 - val_mse: 0.0408 - val_root_mean_squared_error: 0.2020\n",
      "Epoch 17/300\n",
      "890/890 [==============================] - 259s 291ms/step - loss: 0.0840 - mae: 0.0840 - mse: 0.0272 - root_mean_squared_error: 0.1648 - val_loss: 0.1097 - val_mae: 0.1097 - val_mse: 0.0403 - val_root_mean_squared_error: 0.2008\n",
      "Epoch 18/300\n",
      "890/890 [==============================] - 272s 306ms/step - loss: 0.0839 - mae: 0.0839 - mse: 0.0273 - root_mean_squared_error: 0.1651 - val_loss: 0.1098 - val_mae: 0.1098 - val_mse: 0.0404 - val_root_mean_squared_error: 0.2009\n",
      "Epoch 19/300\n",
      "890/890 [==============================] - 303s 341ms/step - loss: 0.0838 - mae: 0.0838 - mse: 0.0273 - root_mean_squared_error: 0.1652 - val_loss: 0.1096 - val_mae: 0.1096 - val_mse: 0.0403 - val_root_mean_squared_error: 0.2008\n",
      "Epoch 20/300\n",
      "890/890 [==============================] - 274s 308ms/step - loss: 0.0838 - mae: 0.0838 - mse: 0.0273 - root_mean_squared_error: 0.1652 - val_loss: 0.1097 - val_mae: 0.1097 - val_mse: 0.0406 - val_root_mean_squared_error: 0.2014\n",
      "Epoch 21/300\n",
      "890/890 [==============================] - 265s 298ms/step - loss: 0.0837 - mae: 0.0837 - mse: 0.0274 - root_mean_squared_error: 0.1654 - val_loss: 0.1089 - val_mae: 0.1089 - val_mse: 0.0404 - val_root_mean_squared_error: 0.2010\n",
      "Epoch 22/300\n",
      "890/890 [==============================] - 266s 299ms/step - loss: 0.0836 - mae: 0.0836 - mse: 0.0274 - root_mean_squared_error: 0.1655 - val_loss: 0.1089 - val_mae: 0.1089 - val_mse: 0.0404 - val_root_mean_squared_error: 0.2011\n",
      "Epoch 23/300\n",
      "890/890 [==============================] - 264s 297ms/step - loss: 0.0835 - mae: 0.0835 - mse: 0.0274 - root_mean_squared_error: 0.1655 - val_loss: 0.1102 - val_mae: 0.1102 - val_mse: 0.0409 - val_root_mean_squared_error: 0.2022\n",
      "Epoch 24/300\n",
      "890/890 [==============================] - 264s 297ms/step - loss: 0.0834 - mae: 0.0834 - mse: 0.0275 - root_mean_squared_error: 0.1657 - val_loss: 0.1080 - val_mae: 0.1080 - val_mse: 0.0402 - val_root_mean_squared_error: 0.2005\n",
      "Epoch 25/300\n",
      "890/890 [==============================] - 264s 297ms/step - loss: 0.0834 - mae: 0.0834 - mse: 0.0275 - root_mean_squared_error: 0.1659 - val_loss: 0.1085 - val_mae: 0.1085 - val_mse: 0.0401 - val_root_mean_squared_error: 0.2001\n",
      "Epoch 26/300\n",
      "890/890 [==============================] - 265s 298ms/step - loss: 0.0833 - mae: 0.0833 - mse: 0.0275 - root_mean_squared_error: 0.1658 - val_loss: 0.1087 - val_mae: 0.1087 - val_mse: 0.0395 - val_root_mean_squared_error: 0.1988\n",
      "Epoch 27/300\n",
      "890/890 [==============================] - 261s 293ms/step - loss: 0.0832 - mae: 0.0832 - mse: 0.0275 - root_mean_squared_error: 0.1658 - val_loss: 0.1074 - val_mae: 0.1074 - val_mse: 0.0395 - val_root_mean_squared_error: 0.1988\n",
      "Epoch 28/300\n",
      "890/890 [==============================] - 260s 292ms/step - loss: 0.0832 - mae: 0.0832 - mse: 0.0275 - root_mean_squared_error: 0.1660 - val_loss: 0.1064 - val_mae: 0.1064 - val_mse: 0.0398 - val_root_mean_squared_error: 0.1996\n",
      "Epoch 29/300\n",
      "890/890 [==============================] - 255s 286ms/step - loss: 0.0831 - mae: 0.0831 - mse: 0.0276 - root_mean_squared_error: 0.1660 - val_loss: 0.1088 - val_mae: 0.1088 - val_mse: 0.0398 - val_root_mean_squared_error: 0.1994\n",
      "Epoch 30/300\n",
      "890/890 [==============================] - 256s 288ms/step - loss: 0.0831 - mae: 0.0831 - mse: 0.0275 - root_mean_squared_error: 0.1659 - val_loss: 0.1080 - val_mae: 0.1080 - val_mse: 0.0403 - val_root_mean_squared_error: 0.2007\n",
      "Epoch 31/300\n",
      "890/890 [==============================] - 265s 297ms/step - loss: 0.0830 - mae: 0.0830 - mse: 0.0276 - root_mean_squared_error: 0.1661 - val_loss: 0.1080 - val_mae: 0.1080 - val_mse: 0.0400 - val_root_mean_squared_error: 0.1999\n",
      "Epoch 32/300\n",
      "890/890 [==============================] - 260s 293ms/step - loss: 0.0829 - mae: 0.0829 - mse: 0.0276 - root_mean_squared_error: 0.1662 - val_loss: 0.1094 - val_mae: 0.1094 - val_mse: 0.0408 - val_root_mean_squared_error: 0.2019\n",
      "Epoch 33/300\n",
      "890/890 [==============================] - 251s 282ms/step - loss: 0.0829 - mae: 0.0829 - mse: 0.0276 - root_mean_squared_error: 0.1662 - val_loss: 0.1092 - val_mae: 0.1092 - val_mse: 0.0410 - val_root_mean_squared_error: 0.2026\n"
     ]
    },
    {
     "data": {
      "text/plain": [
       "<keras.callbacks.History at 0x21682651f10>"
      ]
     },
     "execution_count": 34,
     "metadata": {},
     "output_type": "execute_result"
    }
   ],
   "source": [
    "# Train the model\n",
    "opt = Adam(learning_rate=0.0001)\n",
    "autoencoder.compile(optimizer=opt, loss='mae',metrics=['mae', 'mse',tf.keras.metrics.RootMeanSquaredError()])\n",
    "early_stopping = EarlyStopping(monitor='val_loss', patience=5, mode='min')\n",
    "autoencoder2.fit(X1, X1, epochs=300,batch_size=64,\n",
    "                validation_data=(X2, X2),callbacks=[early_stopping]\n",
    "              )"
   ]
  },
  {
   "cell_type": "code",
   "execution_count": 37,
   "id": "a59812f1",
   "metadata": {},
   "outputs": [],
   "source": [
    "encoder_2 = Model(inputs, encoded2)\n",
    "encoder_2.compile(optimizer='adam', loss='mae')"
   ]
  },
  {
   "cell_type": "code",
   "execution_count": 38,
   "id": "85f75f9d",
   "metadata": {},
   "outputs": [],
   "source": [
    "encoder_2.save(\"encoder_cnn_\"+str(input_step)+\".h5\")"
   ]
  }
 ],
 "metadata": {
  "colab": {
   "provenance": []
  },
  "kernelspec": {
   "display_name": "Python 3 (ipykernel)",
   "language": "python",
   "name": "python3"
  },
  "language_info": {
   "codemirror_mode": {
    "name": "ipython",
    "version": 3
   },
   "file_extension": ".py",
   "mimetype": "text/x-python",
   "name": "python",
   "nbconvert_exporter": "python",
   "pygments_lexer": "ipython3",
   "version": "3.9.13"
  }
 },
 "nbformat": 4,
 "nbformat_minor": 5
}
